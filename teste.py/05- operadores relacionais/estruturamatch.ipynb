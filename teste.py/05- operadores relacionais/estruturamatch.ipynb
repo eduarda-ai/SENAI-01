{
 "cells": [
  {
   "cell_type": "code",
   "execution_count": null,
   "metadata": {},
   "outputs": [],
   "source": [
    "# if (se) else (senão) elif (igua)l or (ou)"
   ]
  },
  {
   "cell_type": "code",
   "execution_count": null,
   "metadata": {},
   "outputs": [
    {
     "name": "stdout",
     "output_type": "stream",
     "text": [
      "18\n",
      "True\n"
     ]
    }
   ],
   "source": [
    "idade = int(input(\"digite a sua idade: \"))\n",
    "\n",
    "print(idade)\n",
    "print(idade >=18)"
   ]
  },
  {
   "cell_type": "code",
   "execution_count": 7,
   "metadata": {},
   "outputs": [
    {
     "name": "stdout",
     "output_type": "stream",
     "text": [
      "menor de idade\n"
     ]
    }
   ],
   "source": [
    "idade = int(input(\"digite a sua idade: \"))\n",
    "\n",
    "if idade >= 18:\n",
    "    print(\"maior de idade\")\n",
    "else:\n",
    "    print(\"menor de idade\")"
   ]
  },
  {
   "cell_type": "code",
   "execution_count": 10,
   "metadata": {},
   "outputs": [
    {
     "name": "stdout",
     "output_type": "stream",
     "text": [
      "compra negada\n"
     ]
    }
   ],
   "source": [
    "\n",
    "saldo = int(input(\"digite seu saldo \"))\n",
    "\n",
    "if saldo >= 100:\n",
    "    print(\"compra aprovada\")\n",
    "else:\n",
    "    print(\"compra negada\")\n"
   ]
  },
  {
   "cell_type": "code",
   "execution_count": 12,
   "metadata": {},
   "outputs": [
    {
     "name": "stdout",
     "output_type": "stream",
     "text": [
      "bom\n"
     ]
    }
   ],
   "source": [
    "curso = input(\"qual é o seu curso:\")\n",
    "\n",
    "if curso ==\"python\":\n",
    "    print(\"certo\")\n",
    "else:\n",
    "    print(\"bom\")"
   ]
  },
  {
   "cell_type": "code",
   "execution_count": null,
   "metadata": {},
   "outputs": [],
   "source": []
  }
 ],
 "metadata": {
  "kernelspec": {
   "display_name": "Python 3",
   "language": "python",
   "name": "python3"
  },
  "language_info": {
   "codemirror_mode": {
    "name": "ipython",
    "version": 3
   },
   "file_extension": ".py",
   "mimetype": "text/x-python",
   "name": "python",
   "nbconvert_exporter": "python",
   "pygments_lexer": "ipython3",
   "version": "3.12.0"
  }
 },
 "nbformat": 4,
 "nbformat_minor": 2
}
