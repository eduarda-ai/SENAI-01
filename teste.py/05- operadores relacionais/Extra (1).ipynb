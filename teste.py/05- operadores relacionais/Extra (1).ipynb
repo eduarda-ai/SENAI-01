{
 "cells": [
  {
   "cell_type": "markdown",
   "id": "9ac59412-3145-490a-b0a9-f8f8cc8e7fe0",
   "metadata": {},
   "source": [
    "# <font color='OrangeRed'><center>Extra - Operadores Relacionais</center></font>"
   ]
  },
  {
   "cell_type": "markdown",
   "id": "d20ecffc-9215-4b71-8868-f6fdb801f07e",
   "metadata": {},
   "source": [
    "### Exercício 01\n",
    "\n",
    "Usando a condicioal If, faça um programa que peça para o usuário digitar uma única letra e retorne se a letra digitada é uma vogal ou uma consoante."
   ]
  },
  {
   "cell_type": "code",
   "execution_count": 5,
   "id": "a8aa4390-b40c-4513-a6f9-1d821b823e47",
   "metadata": {},
   "outputs": [
    {
     "name": "stdout",
     "output_type": "stream",
     "text": [
      "vogal\n"
     ]
    }
   ],
   "source": [
    "letra= input(\"Digite uma letra:\")\n",
    "\n",
    "\n",
    "if letra == \"a, e, i, o, u\" or \" A, E, I, O, U\":\n",
    "    print(\"vogal\")\n",
    "else:\n",
    "    print(\"consoante\")\n",
    "\n",
    "\n"
   ]
  },
  {
   "cell_type": "markdown",
   "id": "05179a00-1ffa-4aa1-9cee-f8f09100310b",
   "metadata": {},
   "source": [
    "---"
   ]
  },
  {
   "cell_type": "markdown",
   "id": "39bbdd95-77de-40c0-a4d8-6cd48613afd3",
   "metadata": {},
   "source": [
    "### Exercício 02\n",
    "\n",
    "Escreva um programa que leia o número de maçãs compradas:\n",
    "- Se o número de maças compradas for menor do que 12 o custo unitário de cada maça será de 0.30.\n",
    "- Se o número de maças compradas for maior ou igual a 12 o custo unitário de cada maça será de 0.25.\n",
    "    \n",
    "Calcule e retorne para o usuário o valor total da compra."
   ]
  },
  {
   "cell_type": "code",
   "execution_count": 10,
   "id": "f12214a2-9ea8-4420-91ed-2e951645dae3",
   "metadata": {},
   "outputs": [
    {
     "name": "stdout",
     "output_type": "stream",
     "text": [
      "o total da compra foi 5.00\n"
     ]
    }
   ],
   "source": [
    "\n",
    "maca = int(input(\"quantas maças voce comprou:\"))\n",
    "\n",
    "if maca < 12:\n",
    "    print(f\"o total da compra foi {maca * 0.30:.2f}\")\n",
    "\n",
    "else:\n",
    "    print(f\"o total da compra foi {maca * 0.25:.2f}\")\n"
   ]
  },
  {
   "cell_type": "markdown",
   "id": "91362d09-5bf1-462a-b07f-6cfaacfb0920",
   "metadata": {},
   "source": [
    "---"
   ]
  },
  {
   "cell_type": "markdown",
   "id": "904284cc-eef7-46ba-8be8-74885685bb07",
   "metadata": {},
   "source": [
    "### Exercício 03\n",
    "\n",
    "Escreva um programa que peça ao usuário duas entradas:\n",
    "1. Pergunte quantos litros ele deseja abastecer\n",
    "1. Pergunte qual o tipo de combustível: \n",
    "    * Digite 1 para Álcool.\n",
    "    * Digite 2 para Gasolina.\n",
    "    * Qualquer valor diferente disso retorne 'Tipo de Combustível inválido.'\n",
    "\n",
    "Em seguida, calcule e imprima o valor total da compra, utilizando a seguinte tabela de preço:\n",
    "* Alcool `R$3.50`\n",
    "* Gasolina `R$5.00`"
   ]
  },
  {
   "cell_type": "code",
   "execution_count": 17,
   "id": "7bd875d7-d93d-4d3a-87b7-e85f1b125a8a",
   "metadata": {},
   "outputs": [
    {
     "name": "stdout",
     "output_type": "stream",
     "text": [
      "VALOR DA COMPRA 105.0\n"
     ]
    }
   ],
   "source": [
    "\n",
    "\n",
    "litros = float(input(\"Quantos litros deseja abastecer: \"))\n",
    "combustivel = float(input(\"Qual tipo de combustivel(1 alcool, 2 gasolina): \"))\n",
    "\n",
    "\n",
    "gasolina  = litros * 5.00\n",
    "alcool = litros * 3.50\n",
    "\n",
    "\n",
    "if combustivel == 1:\n",
    "    print(f\"VALOR DA COMPRA {alcool}\")\n",
    "elif gasolina ==2:\n",
    "    print(f\"valor da compra {gasolina}\")\n",
    "else:\n",
    "    print(\"fim\")\n",
    "\n",
    "\n",
    "\n"
   ]
  },
  {
   "cell_type": "markdown",
   "id": "62a79d3f-bd05-49ea-9df0-cc8ccd49d46c",
   "metadata": {},
   "source": [
    "---"
   ]
  },
  {
   "cell_type": "markdown",
   "id": "4aefe4bf-a99c-4332-8060-84efdabec257",
   "metadata": {},
   "source": [
    "### Exercício 04\n",
    "\n",
    "Escreva um programa que peça ao usuário duas entradas para calcular a conta de um restaurante:\n",
    "1. Pergunte o valor total da comanda\n",
    "1. Pergunte se o usuário deseja pagar a taxa de serviço, sendo: \n",
    "    * Digite 1 caso aceite.\n",
    "    * Digite 2 caso não aceite.\n",
    "    * Qualquer valor diferente disso retorne 'Valor inválido, operação cancelada.'\n",
    "        \n",
    "Caso o usuário aceite pagar a taxa de serviço adicione mais 10% em cima do valor total da comanda.\n",
    "\n",
    "**Dica:**<br>\n",
    "_10% equivale a 0.10_\n",
    "\n",
    "Em seguida, calcule e imprima o valor devido."
   ]
  },
  {
   "cell_type": "code",
   "execution_count": null,
   "id": "fb755a5d-ae68-4189-98d9-d1c4acfc9c1c",
   "metadata": {},
   "outputs": [],
   "source": [
    "\n",
    "\n"
   ]
  },
  {
   "cell_type": "markdown",
   "id": "8813c6e6-58d1-484d-94e6-eb06a95f9a9b",
   "metadata": {},
   "source": [
    "---"
   ]
  },
  {
   "cell_type": "markdown",
   "id": "559d595c-dac4-4ce4-bc01-feac50691bc2",
   "metadata": {},
   "source": [
    "### Exercício 05\n",
    "\n",
    "Escreva um programa que pergunte ao aluno em qual período ele deseja estudar oferencedo as seguintes opções:\n",
    "* Caso ele digite 'manhã' retorne que 'O horário das aulas serão das 08:00 às 12:00.'\n",
    "* Caso ele digite 'tarde' retorne que 'O horário das aulas serão das 13:00 às 17:00.'\n",
    "* Caso ele digite 'noite' retorne que 'O horário das aulas serão das 18:00 às 22:00.'\n",
    "* Qualquer valor diferente disso retorne 'Período inválido.'"
   ]
  },
  {
   "cell_type": "code",
   "execution_count": null,
   "id": "d8f3af7a-76ef-4558-8e4f-f427d9fa3f61",
   "metadata": {},
   "outputs": [],
   "source": [
    "\n",
    "\n"
   ]
  },
  {
   "cell_type": "markdown",
   "id": "e6ced63c-22e4-4c33-94c0-b5fbcb6ee930",
   "metadata": {},
   "source": [
    "---"
   ]
  },
  {
   "cell_type": "markdown",
   "id": "7e1acfd3-d236-4b8c-84b9-05b7132d1bd6",
   "metadata": {},
   "source": [
    "### Exercício 06\n",
    "\n",
    "Escreva um programa que receba um número inteiro e diga se ele é divisível por 5.\n",
    "* Caso seja retorne 'O número é divisível por 5.'\n",
    "* Caso não seja retorne 'O número não é divisível por 5.'\n",
    "    \n",
    "\n",
    "**Dicas:**  \n",
    "- _Para um número ser considerado divísel por 5 o resto da divisão precisa ser igual a 0_\n",
    "\n",
    "**_Formúla:_**<br>\n",
    "_% (Módulo ou resto de divisão)_  \n",
    "<img style=\"height:120px\" src=https://www.estudamos.com.br/divisao/elementos-da-divisao.jpg>"
   ]
  },
  {
   "cell_type": "code",
   "execution_count": null,
   "id": "a396ba54-e055-48fe-9f9b-378592eacc96",
   "metadata": {},
   "outputs": [],
   "source": [
    "\n",
    "\n"
   ]
  },
  {
   "cell_type": "markdown",
   "id": "a5bf49dd-de60-4f62-b32a-932f83cc4237",
   "metadata": {},
   "source": [
    "---"
   ]
  },
  {
   "cell_type": "markdown",
   "id": "832cb63a-ab8d-4c07-b482-601a6ccb1b14",
   "metadata": {},
   "source": [
    "### Exercício 07\n",
    "\n",
    "Desenvolva um programa que receba do usuário o placar de um jogo de futebol do Time A versus o Time B, pergunte o saldo de gols de cada um dos times, em seguida retorne se a partida acabou empatada, se a vitória foi do Time A ou se a vitória foi do Time B."
   ]
  },
  {
   "cell_type": "code",
   "execution_count": null,
   "id": "9dfa0fe5-8863-4457-b51b-f7199b665e7c",
   "metadata": {},
   "outputs": [],
   "source": [
    "\n",
    "\n"
   ]
  },
  {
   "cell_type": "markdown",
   "id": "79182574-f568-4455-a07b-8f96189e0eb6",
   "metadata": {},
   "source": [
    "---"
   ]
  },
  {
   "cell_type": "markdown",
   "id": "d64254d4-3a21-46a7-b8a7-290d3285d566",
   "metadata": {},
   "source": [
    "### Exercício 08\n",
    "\n",
    "Escreva um programa que receba o número do DDI (Discagem direta internacional) e retorne o nome do país correspondente ao DDI. Sendo:\n",
    "- Caso receba  1 imprima 'Estados Unidos'\n",
    "- Caso receba 35 imprima 'Portugal'\n",
    "- Caso receba 49 imprima 'Alemanha'\n",
    "- Caso receba 54 imprima 'Argentina'\n",
    "- Caso receba 55 imprima 'Brasil'\n",
    "- Qualquer valor diferente desses retorne 'DDI não cadastrado.'"
   ]
  },
  {
   "cell_type": "code",
   "execution_count": null,
   "id": "d252103d-63c8-4cfe-b1ff-b484c0e128d0",
   "metadata": {},
   "outputs": [],
   "source": [
    "\n",
    "\n"
   ]
  },
  {
   "cell_type": "markdown",
   "id": "7cc05fa4-cccf-40ac-b689-9de200caca99",
   "metadata": {},
   "source": [
    "---"
   ]
  },
  {
   "cell_type": "markdown",
   "id": "ec9abd88-754b-40cf-85dd-0bcb3acd403e",
   "metadata": {},
   "source": [
    "### Exercício 09\n",
    "\n",
    "Escreva um programa que receba dois números inteiros, em seguida pergunte qual operação matemática ele deseja realizar, sendo:\n",
    "- Se o usuário digitar 'soma' retorne a soma dos dois números.\n",
    "- Se o usuário digitar 'subtração' retorne a subtração dos dois números.\n",
    "- Se o usuário digitar 'divisão' retorne a divisão dos dois números.\n",
    "- Se o usuário digitar 'multiplicação' retorne a multiplicação dos dois números.\n",
    "- Qualquer valor diferente desses retorne 'Operação não cadastrada.'"
   ]
  },
  {
   "cell_type": "code",
   "execution_count": null,
   "id": "15f64031-018b-4173-9332-9cdad9135321",
   "metadata": {},
   "outputs": [],
   "source": [
    "\n",
    "\n"
   ]
  },
  {
   "cell_type": "markdown",
   "id": "2a4c9cfc-3121-4936-8a1f-7904696e3cae",
   "metadata": {},
   "source": [
    "---"
   ]
  },
  {
   "cell_type": "markdown",
   "id": "6d98fcd3-c6d2-4e2c-8bc1-a90e6fcb694e",
   "metadata": {},
   "source": [
    "### Exercício 10\n",
    "\n",
    "Escreva um programa que pergunte a distância que um passageiro deseja percorrer em km e em seguinda calcule o preço da viagem, sendo:\n",
    "\n",
    "* O valor cobrando para viagens de até de 200km é `R$`0,50 por km.\n",
    "* Acima de 200km o valor cobrado é de `R$`0,40 por km.\n"
   ]
  },
  {
   "cell_type": "code",
   "execution_count": null,
   "id": "cbd2ac2d-7d39-4cbb-bf06-80956aab6f4e",
   "metadata": {},
   "outputs": [],
   "source": [
    "\n",
    "\n"
   ]
  },
  {
   "cell_type": "markdown",
   "id": "4fa49c19-e49e-462b-aed7-ef278724cf35",
   "metadata": {},
   "source": [
    "---"
   ]
  },
  {
   "cell_type": "markdown",
   "id": "a5e0356b-e1c3-4215-8f09-cd6ae253040f",
   "metadata": {},
   "source": [
    "### Exercício 11\n",
    "\n",
    "Escreva um programa que pergunte o salário do funcionário e calcule:\n",
    "- Se o salário for menor ou igual a `R$`2000.00, ele receberá um aumento de 20%.\n",
    "- Se o salário for maior a `R$`2000.00, ele receberá um aumento de 10%.\n",
    "        \n",
    "**Dica:**<br>\n",
    "_20% equivale a 0.20_<br>\n",
    "_10% equivale a 0.10_\n",
    "\n",
    "Imprima o novo salário do funcionário."
   ]
  },
  {
   "cell_type": "code",
   "execution_count": null,
   "id": "343fd3b8-fddb-4d3f-a06f-eadce6447c48",
   "metadata": {},
   "outputs": [],
   "source": [
    "\n",
    "\n"
   ]
  },
  {
   "cell_type": "markdown",
   "id": "7ea2af9b-bd0b-4386-95be-80814188ad08",
   "metadata": {},
   "source": [
    "---"
   ]
  },
  {
   "cell_type": "markdown",
   "id": "ec79d8bf-8319-4db3-ac8d-ec779047d541",
   "metadata": {},
   "source": [
    "### Exercício 12\n",
    "\n",
    "Leia um número inteiro entre 1 e 12 e escreva o mês correspondente. Caso o usuário digite um número fora desse intervalo, deverá aparecer uma mensagem informando que 'não existe mês com este número'.\n",
    "\n",
    "**Exemplo:**  \n",
    "_Quando receber o número **1** retorne **Janeiro**  \n",
    "Quando receber o número **2** retorne **Fevereiro**  \n",
    "Quando receber o número **3** retorne **Março**  \n",
    "..._"
   ]
  },
  {
   "cell_type": "code",
   "execution_count": null,
   "id": "ab042dac-f4da-4dea-9b02-c17aaf9a2d41",
   "metadata": {
    "tags": []
   },
   "outputs": [],
   "source": [
    "\n",
    "\n"
   ]
  },
  {
   "cell_type": "markdown",
   "id": "5a12b5c7-4c4f-497f-baf8-fbc717c0455e",
   "metadata": {},
   "source": [
    "---"
   ]
  },
  {
   "cell_type": "markdown",
   "id": "115b57bc-71b6-496c-9886-f15f9f6ec1a4",
   "metadata": {
    "tags": []
   },
   "source": [
    "### Exercício 13\n",
    "\n",
    "Escreva um programa que faça duas perguntas ao usuário para calcular o valor da compra dele:\n",
    "\n",
    "1. Qual o valor total da compra\n",
    "1. Qual é forma de pagamento, sendo:\n",
    "    * Se o usuário digitar **pix** conceda um desconto de 5% em cima do valor total\n",
    "    * Se o usuário digitar **débito** retorne o valor original\n",
    "    * Se o usuário digitar **crédito** adicione um acréscimo de 5 % em cima do valor total\n",
    "    * Digitando qualquer outro valor retorne 'Valor inválido, operação cancelada'\n",
    "\n",
    "\n"
   ]
  },
  {
   "cell_type": "code",
   "execution_count": null,
   "id": "c8d8f48b-ff04-4e37-9cc5-90ccb1131b5c",
   "metadata": {
    "tags": []
   },
   "outputs": [],
   "source": [
    "\n",
    "\n"
   ]
  },
  {
   "cell_type": "markdown",
   "id": "657ec199-a0ef-410b-919b-1ac111952921",
   "metadata": {},
   "source": [
    "---"
   ]
  },
  {
   "cell_type": "markdown",
   "id": "f7d627b6-0fbe-45a3-8233-b5c5f81dee33",
   "metadata": {},
   "source": [
    "### Exercício 14\n",
    "\n",
    "Faça um Programa que peça um número inteiro e retorne se ele e par ou ímpar.\n",
    "\n",
    "**Dicas:**  \n",
    "_Todo número divisível por 2 é par!_\n",
    "\n",
    "**_Formúla:_**<br>\n",
    "_% (Módulo ou resto de divisão)_  \n",
    "<img style=\"height:120px\" src=https://www.estudamos.com.br/divisao/elementos-da-divisao.jpg>"
   ]
  },
  {
   "cell_type": "code",
   "execution_count": null,
   "id": "fa3a2050-dc65-43ca-ada1-3c4a29f04447",
   "metadata": {},
   "outputs": [],
   "source": [
    "\n",
    "\n"
   ]
  },
  {
   "cell_type": "markdown",
   "id": "a12779ad-661d-48c4-90f5-9f1b05ba160e",
   "metadata": {},
   "source": [
    "---"
   ]
  },
  {
   "cell_type": "markdown",
   "id": "16fc3e56-8bb0-4aa6-b610-542e12b59e3d",
   "metadata": {},
   "source": [
    "### Exercício 15\n",
    "\n",
    "Faça um algoritmo que leia os valores A, B, C e imprima na tela se a soma de A + B é maior ou menor que C."
   ]
  },
  {
   "cell_type": "code",
   "execution_count": null,
   "id": "f2545568-c2d5-4e45-a825-69ca656878c9",
   "metadata": {},
   "outputs": [],
   "source": [
    "\n",
    "\n"
   ]
  },
  {
   "cell_type": "markdown",
   "id": "50912b39-5567-40d2-bf3a-3c57469780d1",
   "metadata": {},
   "source": [
    "---"
   ]
  },
  {
   "cell_type": "markdown",
   "id": "d0beb2fd-76c7-472f-9bdc-08123129a6e1",
   "metadata": {},
   "source": [
    "### Exercício 16\n",
    "\n",
    "Faça um programa que pergunte o salário do funcionário e quantos dias de férias ele deseja tirar, em seguida crie a condição abaixo:\n",
    "\n",
    "* Se o funcionário informar que deseja tirar 20 dias de férias, então retorne o salário + 33%\n",
    "* Se o funcionário informar que deseja tirar 30 dias de férias, então retorne apenas o salário sem nenhum adicional\n",
    "* Se o funcionário informar qualquer outro valor retorne 'Valor inválido, operação cancelada'\n",
    "\n",
    "**Dica**  \n",
    "_33% equivale a 0.33_<br>"
   ]
  },
  {
   "cell_type": "code",
   "execution_count": null,
   "id": "a50224e4-15de-4afe-9039-652f18e4413f",
   "metadata": {},
   "outputs": [],
   "source": [
    "\n",
    "\n"
   ]
  },
  {
   "cell_type": "markdown",
   "id": "25ed69b8-e731-4d16-a89d-d56186a38ba4",
   "metadata": {},
   "source": [
    "---"
   ]
  },
  {
   "cell_type": "markdown",
   "id": "a15455e9-4288-4d05-ba5b-81506d9f6ee1",
   "metadata": {},
   "source": [
    "### Exercício 17\n",
    "\n",
    "Faça um algoritmo que leia um número inteiro e crie a condição abaixo:\n",
    "* Se a variável for par some mais 5 e imprima o resultado\n",
    "* Se a variável for ímpar some mais 8 e imprima o resultado\n",
    "\n",
    "**Dicas:**  \n",
    "_Todo número divisível por 2 é par!_\n",
    "\n",
    "**_Formúla:_**<br>\n",
    "_% (Módulo ou resto de divisão)_  \n",
    "<img style=\"height:120px\" src=https://www.estudamos.com.br/divisao/elementos-da-divisao.jpg>"
   ]
  },
  {
   "cell_type": "code",
   "execution_count": null,
   "id": "0b809cec-799d-4461-a21b-8c8a80fd9d55",
   "metadata": {
    "tags": []
   },
   "outputs": [],
   "source": [
    "\n",
    "\n"
   ]
  },
  {
   "cell_type": "markdown",
   "id": "f743653a-7393-4ebd-bdcc-beb2e10e9799",
   "metadata": {},
   "source": [
    "---"
   ]
  }
 ],
 "metadata": {
  "kernelspec": {
   "display_name": "Python 3",
   "language": "python",
   "name": "python3"
  },
  "language_info": {
   "codemirror_mode": {
    "name": "ipython",
    "version": 3
   },
   "file_extension": ".py",
   "mimetype": "text/x-python",
   "name": "python",
   "nbconvert_exporter": "python",
   "pygments_lexer": "ipython3",
   "version": "3.12.0"
  }
 },
 "nbformat": 4,
 "nbformat_minor": 5
}
