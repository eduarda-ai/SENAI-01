{
 "cells": [
  {
   "cell_type": "markdown",
   "id": "7480272d-de8f-49a4-926f-bf7608c5c6ce",
   "metadata": {},
   "source": [
    "# <font color='OrangeRed'><center>Exercícios - Operadores Aritméticos</center></font>"
   ]
  },
  {
   "cell_type": "markdown",
   "id": "415d7594-85c3-41bc-8288-557653756e50",
   "metadata": {},
   "source": [
    "### Exercício 01\n",
    "\n",
    "Escreva um programa que receba um número do usuário e em seguida imprima o número informado multiplicado por 5."
   ]
  },
  {
   "cell_type": "code",
   "execution_count": 35,
   "id": "225f01c3-a241-405f-8ec8-c52db1b6935e",
   "metadata": {},
   "outputs": [
    {
     "name": "stdout",
     "output_type": "stream",
     "text": [
      "O número 7 multiplicado por 5 é: 35\n"
     ]
    }
   ],
   "source": [
    "\n",
    "\n",
    "numero = int(input(\"Digite um número: \"))\n",
    "resultado = numero * 5\n",
    "print(f\"O número {numero} multiplicado por 5 é: {resultado}\")\n",
    "\n"
   ]
  },
  {
   "cell_type": "markdown",
   "id": "f393f0a7-0d92-4126-8257-138f851ae415",
   "metadata": {},
   "source": [
    "---"
   ]
  },
  {
   "cell_type": "markdown",
   "id": "7597f154-ddb4-4e4b-8324-11d479d2d4e7",
   "metadata": {},
   "source": [
    "### Exercício 02\n",
    "\n",
    "Escreva um programa que receba dois números, sendo um número de cada vez e em seguida imprima a soma dos números informados."
   ]
  },
  {
   "cell_type": "code",
   "execution_count": 36,
   "id": "f2835437-8ebc-4626-961f-3ef705c40333",
   "metadata": {},
   "outputs": [
    {
     "name": "stdout",
     "output_type": "stream",
     "text": [
      "A soma dos dois números é: 14\n"
     ]
    }
   ],
   "source": [
    "\n",
    "\n",
    "numero1 = int(input(\"Digite o primeiro número: \"))\n",
    "numero2 = int(input(\"Digite o segundo número: \"))\n",
    "\n",
    "\n",
    "soma = numero1 + numero2\n",
    "\n",
    "\n",
    "print(\"A soma dos dois números é:\", soma)\n",
    "\n",
    "\n",
    "\n"
   ]
  },
  {
   "cell_type": "markdown",
   "id": "8fc0df85-c0b3-4f53-b40e-9735c3e5f4ff",
   "metadata": {},
   "source": [
    "---"
   ]
  },
  {
   "cell_type": "markdown",
   "id": "e55ef877-7e90-4c67-a8ab-3930bc68c5ed",
   "metadata": {},
   "source": [
    "### Exercício 03\n",
    "\n",
    "Escreva um programa que receba dois números, sendo um número de cada vez e em seguida imprima a subtração dos números informados."
   ]
  },
  {
   "cell_type": "code",
   "execution_count": 3,
   "id": "43c8304d-ee14-4428-b598-a312e09d4244",
   "metadata": {},
   "outputs": [
    {
     "name": "stdout",
     "output_type": "stream",
     "text": [
      "A soma dos dois números é: 5.0\n"
     ]
    }
   ],
   "source": [
    "\n",
    "\n",
    "num1 = int(input(\"Digite o primeiro número: \"))\n",
    "num2 = int(input(\"Digite o segundo número: \"))\n",
    "\n",
    "\n",
    "soma = num1 - num2\n",
    "\n",
    "\n",
    "print(\"A soma dos dois números é:\", soma)\n",
    "\n",
    "\n",
    "\n",
    "\n",
    "\n"
   ]
  },
  {
   "cell_type": "markdown",
   "id": "9142530a-1500-4382-ac27-32d02d3a5622",
   "metadata": {},
   "source": [
    "---"
   ]
  },
  {
   "cell_type": "markdown",
   "id": "d31342cb-6901-48dc-aedb-5a95e94b4aca",
   "metadata": {},
   "source": [
    "### Exercício 04\n",
    "\n",
    "Crie o algoritmo abaixo:\n",
    "1. Peça 4 notas bimestrais ao usuário, sendo uma variável para cada nota.\n",
    "1. Some as quatro notas.\n",
    "1. Imprima a média aritmética, ou seja, divida a soma das 4 notas por 4."
   ]
  },
  {
   "cell_type": "code",
   "execution_count": 2,
   "id": "493dd9a4-a3bc-4d28-a0e1-20be5f41c1e1",
   "metadata": {},
   "outputs": [
    {
     "name": "stdout",
     "output_type": "stream",
     "text": [
      "A soma dos dois números é:3.5\n"
     ]
    }
   ],
   "source": [
    "\n",
    "\n",
    "\n",
    "nota1= float(input(\"Digite a primeira nota: \"))\n",
    "nota2 = float(input(\"Digite a segunda nota: \"))\n",
    "nota3 = float(input(\"Digite a terceira nota: \"))\n",
    "nota4 = float(input(\"Digite a quarta nota: \"))\n",
    "\n",
    "\n",
    "soma = nota1+ nota2 + nota3 + nota4\n",
    "\n",
    "\n",
    "print(f\"A soma dos dois números é:{soma / 4}\", )\n",
    "\n",
    "\n",
    "\n",
    "\n"
   ]
  },
  {
   "cell_type": "markdown",
   "id": "acf9b35c-d29f-41ba-99ad-1a70a72626e8",
   "metadata": {},
   "source": [
    "---"
   ]
  },
  {
   "cell_type": "markdown",
   "id": "99495f74-4a49-486f-8fa0-56e58f036163",
   "metadata": {},
   "source": [
    "### Exercício 05\n",
    "\n",
    "Escreva um programa que receba um valor em metros e em seguida \n",
    "exiba para o usuário o valor convertido em centímetros.\n",
    "\n",
    "**_Formúla:_**<br>\n",
    "_1 Metro = 100 Centímetros_"
   ]
  },
  {
   "cell_type": "code",
   "execution_count": 3,
   "id": "b58d23a3-75f4-4815-92b4-709d77c78d8e",
   "metadata": {},
   "outputs": [
    {
     "name": "stdout",
     "output_type": "stream",
     "text": [
      "3 metros equivalem a 300 centímetros.\n"
     ]
    }
   ],
   "source": [
    "\n",
    "metros = int(input(\"Digite o valor em metros: \"))\n",
    "centimetros = metros * 100\n",
    "\n",
    "\n",
    "print(f\"{metros} metros equivalem a {centimetros} centímetros.\")\n",
    "\n",
    "\n"
   ]
  },
  {
   "cell_type": "markdown",
   "id": "bfe32fb3-6d3f-4b91-906b-165b1cf84910",
   "metadata": {},
   "source": [
    "---"
   ]
  },
  {
   "cell_type": "markdown",
   "id": "aeb7cc33-bc2a-491a-821d-6051d673f102",
   "metadata": {},
   "source": [
    "### Exercício 06\n",
    "\n",
    "Escreva um programa que receba um valor em centímetros e em seguida \n",
    "exiba para o usuário o valor convertido em metros.\n",
    "\n",
    "**_Formúla:_**<br>\n",
    "_100 Centímetros = 1 Metro_"
   ]
  },
  {
   "cell_type": "code",
   "execution_count": 8,
   "id": "ecfda305-93ac-4bd2-ad5c-f8c20971e05e",
   "metadata": {},
   "outputs": [
    {
     "name": "stdout",
     "output_type": "stream",
     "text": [
      "100.0 centimetros equivalem a 1.0 metros.\n"
     ]
    }
   ],
   "source": [
    "\n",
    "\n",
    "centimetros = float(input(\"Digite o valor em centimetros: \"))\n",
    "metros = centimetros / 100\n",
    "\n",
    "print(f\"{centimetros} centimetros equivalem a {metros} metros.\")\n",
    "\n"
   ]
  },
  {
   "cell_type": "markdown",
   "id": "321c490c-6fae-456e-8b99-a1552aa35706",
   "metadata": {},
   "source": [
    "---"
   ]
  },
  {
   "cell_type": "markdown",
   "id": "d068a3a3-c074-4fa9-873e-e90fdab642aa",
   "metadata": {},
   "source": [
    "### Exercício 07\n",
    "\n",
    "Faça um programa que peça o ano de nascimento do usuário e retorne quantos anos eles tem.\n",
    "\n",
    "**Observação:**  \n",
    "_Considere que o usuário já fez aniversário este ano, exemplo:_  \n",
    "_Se o ano atual for 2024 e o usuário nasceu no ano 2004 retorne 20 anos de idade!_"
   ]
  },
  {
   "cell_type": "code",
   "execution_count": 34,
   "id": "2ceddaf6",
   "metadata": {},
   "outputs": [
    {
     "name": "stdout",
     "output_type": "stream",
     "text": [
      "Sua idade atual é 21\n"
     ]
    }
   ],
   "source": [
    "\n",
    "ano_nascimento = int(input(\"Digite seu ano de nascimento: \"))\n",
    "ano_atual = 2025\n",
    "idade = ano_atual - ano_nascimento\n",
    "\n",
    "print(f\"Sua idade atual é {idade}\")\n"
   ]
  },
  {
   "cell_type": "markdown",
   "id": "dc6a9623-b74a-4993-ab96-ef5cdaff1555",
   "metadata": {},
   "source": [
    "---"
   ]
  },
  {
   "cell_type": "markdown",
   "id": "4317e942-20cb-4a87-bda3-f8b0f66669c0",
   "metadata": {},
   "source": [
    "### Exercício 08\n",
    "\n",
    "Escreva um programa que peça um número ao usuário e em seguida retorne o valor ao quadrado.\n",
    "\n",
    "**_Formúla:_**<br>\n",
    "_n²_"
   ]
  },
  {
   "cell_type": "code",
   "execution_count": 7,
   "id": "34f4160a-3be5-44db-b877-6bc3bbe5e557",
   "metadata": {},
   "outputs": [
    {
     "name": "stdout",
     "output_type": "stream",
     "text": [
      "16\n"
     ]
    }
   ],
   "source": [
    "\n",
    "num1 = int(input(\"Digite um numero: \"))\n",
    "print(num1 ** 2 )\n",
    "\n",
    "\n"
   ]
  },
  {
   "cell_type": "markdown",
   "id": "ba97d73d-4cc9-4fb9-8b50-3bbf05ce0284",
   "metadata": {},
   "source": [
    "---"
   ]
  },
  {
   "cell_type": "markdown",
   "id": "cffb8ffc-ede1-42f9-94f4-24da68cb57f3",
   "metadata": {},
   "source": [
    "### Exercício 09\n",
    "\n",
    "Escreva um programa que peça um número inteiro ao usuário e em seguida imprima o próximo número e o número anterior."
   ]
  },
  {
   "cell_type": "code",
   "execution_count": 38,
   "id": "d7cd9d8a-dabd-40bf-a660-1dfbeb8a6ce3",
   "metadata": {},
   "outputs": [
    {
     "name": "stdout",
     "output_type": "stream",
     "text": [
      "3.0\n",
      "1.0\n"
     ]
    }
   ],
   "source": [
    "\n",
    "num1 = int(input(\"Digite um numero inteiro: \"))\n",
    "\n",
    "\n",
    "print(num1 + 1)\n",
    "print(num1 - 1)"
   ]
  },
  {
   "cell_type": "markdown",
   "id": "5f6cc9f1-8fa8-4d0b-b2fc-f38546404296",
   "metadata": {},
   "source": [
    "---"
   ]
  },
  {
   "cell_type": "markdown",
   "id": "61754b1d-5965-483e-8956-481b9edd4384",
   "metadata": {},
   "source": [
    "### Exercício 10\n",
    "\n",
    "Escreva um programa que peça uma quantidade de horas ao usuário e em seguida imprima o valor das horas convertidas em minutos.\n",
    "\n",
    "\n",
    "**_Formúla:_**<br>\n",
    "_minutos = horas * 60_"
   ]
  },
  {
   "cell_type": "code",
   "execution_count": 8,
   "id": "84770ecb-0d33-42a8-9027-2192544ca69f",
   "metadata": {},
   "outputs": [
    {
     "name": "stdout",
     "output_type": "stream",
     "text": [
      "o valor desse horario em minutos é 4800\n"
     ]
    }
   ],
   "source": [
    "\n",
    "\n",
    "horas = int(input(\"Digite que horas são: \"))\n",
    "minutos = horas * 60\n",
    "\n",
    "print(f\"o valor desse horario em minutos é {minutos}\")\n",
    "\n",
    "\n"
   ]
  },
  {
   "cell_type": "markdown",
   "id": "554b782e-6a68-41cb-a8c8-faef367328b5",
   "metadata": {},
   "source": [
    "---"
   ]
  },
  {
   "cell_type": "markdown",
   "id": "68472e91-1fe8-448d-b397-481a46cf6efc",
   "metadata": {},
   "source": [
    "### Exercício 11\n",
    "\n",
    "Escreva um programa que peça um número ao usuário e em seguida retorne o valor ao cubo.\n",
    "\n",
    "**_Formúla:_**<br>\n",
    "_n³_"
   ]
  },
  {
   "cell_type": "code",
   "execution_count": 20,
   "id": "3a90833e-f192-456a-93f4-bd4bdd05c7ad",
   "metadata": {},
   "outputs": [
    {
     "name": "stdout",
     "output_type": "stream",
     "text": [
      "512.0\n"
     ]
    }
   ],
   "source": [
    "\n",
    "num1 = int(input(\"Digite um numero: \"))\n",
    "print(num1 ** 3 )\n"
   ]
  },
  {
   "cell_type": "markdown",
   "id": "af851aec-e325-4594-a774-e21747547065",
   "metadata": {},
   "source": [
    "---"
   ]
  },
  {
   "cell_type": "markdown",
   "id": "8534fb94-a98f-4a29-be1e-58195fb6abb5",
   "metadata": {},
   "source": [
    "### Exercício 12\n",
    "\n",
    "Escreva um programa que pergunte quantos litros de gasolina o cliente deseja abastacer e em seguida imprima o valor total da compra.\n",
    "\n",
    "**O Valor da gasolina é de 4.99**"
   ]
  },
  {
   "cell_type": "code",
   "execution_count": 11,
   "id": "17356753-fbb4-414c-9f82-5f52c582369b",
   "metadata": {},
   "outputs": [
    {
     "name": "stdout",
     "output_type": "stream",
     "text": [
      "o valor da gasolina ficou 104.65\n"
     ]
    }
   ],
   "source": [
    "\n",
    "\n",
    "\n",
    "\n",
    "gasolina = float(input(\"Quantos litros deseja abastecer: \"))\n",
    "valor = gasolina * 2.99\n",
    "\n",
    "print(f\"o valor da gasolina ficou {valor:.2f}\")\n",
    "\n",
    "\n"
   ]
  },
  {
   "cell_type": "markdown",
   "id": "fa9623d7-9248-4c71-93c4-f2946d10a816",
   "metadata": {},
   "source": [
    "---"
   ]
  }
 ],
 "metadata": {
  "kernelspec": {
   "display_name": "Python 3",
   "language": "python",
   "name": "python3"
  },
  "language_info": {
   "codemirror_mode": {
    "name": "ipython",
    "version": 3
   },
   "file_extension": ".py",
   "mimetype": "text/x-python",
   "name": "python",
   "nbconvert_exporter": "python",
   "pygments_lexer": "ipython3",
   "version": "3.12.0"
  }
 },
 "nbformat": 4,
 "nbformat_minor": 5
}
