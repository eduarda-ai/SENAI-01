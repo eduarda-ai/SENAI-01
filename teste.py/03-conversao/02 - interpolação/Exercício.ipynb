{
 "cells": [
  {
   "cell_type": "markdown",
   "id": "494b9be3-bd14-48e8-9b67-eaa93b21ad58",
   "metadata": {},
   "source": [
    "# <font color='OrangeRed'><center>Exercícios - Interpolação</center></font>"
   ]
  },
  {
   "cell_type": "markdown",
   "id": "e92f6113-7778-48bc-92e2-31d5210199dc",
   "metadata": {},
   "source": [
    "### Exercício 01\n",
    "\n",
    "Faça um programa que solicite o nome do usuário, em seguida, usando a interpolação, imprima o nome digitado, exemplo:\n",
    "\n",
    "**Entrada:**   \n",
    "_Digite o seu nome:_  \n",
    "**Saída:**  \n",
    "_Meu nome é Ana_"
   ]
  },
  {
   "cell_type": "code",
   "execution_count": 3,
   "id": "dd278c9d-a43d-415c-8e60-ac3e84bd6be4",
   "metadata": {},
   "outputs": [
    {
     "name": "stdout",
     "output_type": "stream",
     "text": [
      "meu nome é eduarda\n"
     ]
    }
   ],
   "source": [
    "\n",
    "nome = input(\"digite o seu nome:\")\n",
    "\n",
    "print(f\"meu nome é {nome}\")"
   ]
  },
  {
   "cell_type": "markdown",
   "id": "3897bbf7-c919-48bc-8b8c-45862b8ba208",
   "metadata": {},
   "source": [
    "---"
   ]
  },
  {
   "cell_type": "markdown",
   "id": "23261338-341d-4698-a660-d2b3505e459a",
   "metadata": {},
   "source": [
    "### Exercício 02\n",
    "\n",
    "Usando a interpolação, substitua o texto **var** pelo valor da variável **var**"
   ]
  },
  {
   "cell_type": "code",
   "execution_count": 25,
   "id": "396027e6-8b3d-4183-b196-00bacdad8bac",
   "metadata": {},
   "outputs": [
    {
     "name": "stdout",
     "output_type": "stream",
     "text": [
      "Estou fazendo o curso Programação em Python\n"
     ]
    }
   ],
   "source": [
    "# Variável\n",
    "var = 'Programação em Python'\n",
    "\n",
    "# Texto\n",
    "print(f'Estou fazendo o curso {var}')"
   ]
  },
  {
   "cell_type": "markdown",
   "id": "229b1ae1-4aac-4caf-8f65-4050b1cadde7",
   "metadata": {},
   "source": [
    "---"
   ]
  },
  {
   "cell_type": "markdown",
   "id": "60287d63-f617-4b45-9f12-58caf8cedc45",
   "metadata": {},
   "source": [
    "### Exercício 03\n",
    "\n",
    "Faça um programa que solicite o nome do prato preferido do usuário, em seguida, usando a interpolação, imprima o nome do prato, exemplo:\n",
    "\n",
    "**Entrada:**   \n",
    "_Qual é o seu prato favorito:_   \n",
    "**Saída:**  \n",
    "_Meu prato preferido é lasanha_"
   ]
  },
  {
   "cell_type": "code",
   "execution_count": 5,
   "id": "d2d5bc61-fa4b-4d31-a9f1-b6bef969f79e",
   "metadata": {},
   "outputs": [
    {
     "name": "stdout",
     "output_type": "stream",
     "text": [
      "meu prato preferido é lasanha\n"
     ]
    }
   ],
   "source": [
    "\n",
    "\n",
    "prato = input(\"qual seu prato preferido?\")\n",
    "\n",
    "print(f\"meu prato preferido é {prato}\")\n"
   ]
  },
  {
   "cell_type": "markdown",
   "id": "4391842a-f0fb-4b58-8cd0-dddbc89bbecc",
   "metadata": {},
   "source": [
    "---"
   ]
  },
  {
   "cell_type": "markdown",
   "id": "cdb380a6-777d-4b8d-a4fa-60e6adbec42c",
   "metadata": {},
   "source": [
    "### Exercício 04\n",
    "\n",
    "Faça um programa que solicite a data de hoje, em seguida, usando a interpolação, imprima a data informada, exemplo:\n",
    "\n",
    "**Entrada:**   \n",
    "_Digite a data de hoje:_  \n",
    "**Saída:**  \n",
    "_A data de hoje é 19/05/2003_"
   ]
  },
  {
   "cell_type": "code",
   "execution_count": 7,
   "id": "f2020d8c-4db3-4687-977f-868622e24373",
   "metadata": {},
   "outputs": [
    {
     "name": "stdout",
     "output_type": "stream",
     "text": [
      "a data de hoje é 19/5/2003\n"
     ]
    }
   ],
   "source": [
    "\n",
    "dia = 19\n",
    "mes = 5\n",
    "ano = 2003\n",
    "\n",
    "print(f\"a data de hoje é {dia}/{mes}/{ano}\")\n"
   ]
  },
  {
   "cell_type": "markdown",
   "id": "12df86a5-bd1a-4add-9b75-55f42c76200d",
   "metadata": {},
   "source": [
    "---"
   ]
  },
  {
   "cell_type": "markdown",
   "id": "a875d13b-f431-4621-9515-3614da9fb5ca",
   "metadata": {},
   "source": [
    "### Exercício 05\n",
    "\n",
    "Faça um programa que solicite ao usuário digitar um número, em seguida, usando a interpolação, imprima o valor digitado, exemplo\n",
    "\n",
    "**Entrada:**   \n",
    "_Digite um número:_  \n",
    "**Saída:**  \n",
    "_O número digitado foi: 5_"
   ]
  },
  {
   "cell_type": "code",
   "execution_count": 10,
   "id": "6c761e9f-07f7-44bd-81e4-9ee9c2d3f4de",
   "metadata": {},
   "outputs": [
    {
     "name": "stdout",
     "output_type": "stream",
     "text": [
      "o numero digitado foi 5\n"
     ]
    }
   ],
   "source": [
    "\n",
    "num = input(\"digite um numero\")\n",
    "\n",
    "\n",
    "print(f\"o numero digitado foi {num}\")"
   ]
  },
  {
   "cell_type": "markdown",
   "id": "2eb86b22-79ca-4b1a-af2c-dab0e339dda8",
   "metadata": {},
   "source": [
    "---"
   ]
  },
  {
   "cell_type": "markdown",
   "id": "97114d1c-55cf-405d-beb1-b2fc652fd087",
   "metadata": {},
   "source": [
    "### Exercício 06\n",
    "\n",
    "Usando a interpolação, substitua o texto **var** pelo resultado da soma das variáveis **a** e **b**"
   ]
  },
  {
   "cell_type": "code",
   "execution_count": 11,
   "id": "43b63913-17e6-4e38-aabe-b552c660b45a",
   "metadata": {
    "tags": []
   },
   "outputs": [
    {
     "name": "stdout",
     "output_type": "stream",
     "text": [
      "A soma de a + b é: 15\n"
     ]
    }
   ],
   "source": [
    "a = 7\n",
    "b = 8\n",
    "\n",
    "print(f'A soma de a + b é: {a + b }')"
   ]
  },
  {
   "cell_type": "markdown",
   "id": "fabc628c-6fd4-4dd8-aa28-52b31127f1ee",
   "metadata": {},
   "source": [
    "---"
   ]
  },
  {
   "cell_type": "markdown",
   "id": "d55916ed-8290-45ad-9877-4ca46d6929f1",
   "metadata": {},
   "source": [
    "### Exercício 07\n",
    "\n",
    "Usando a interpolação, substitua o texto **var** pelo resultado da subtração das variáveis **c** e **d**"
   ]
  },
  {
   "cell_type": "code",
   "execution_count": 12,
   "id": "50afb9c4-c062-4165-8896-300bb3334cde",
   "metadata": {},
   "outputs": [
    {
     "name": "stdout",
     "output_type": "stream",
     "text": [
      "A subtração de c - d é: 35\n"
     ]
    }
   ],
   "source": [
    "c = 60\n",
    "d = 25\n",
    "\n",
    "print(f'A subtração de c - d é: {c - d}')"
   ]
  },
  {
   "cell_type": "markdown",
   "id": "29e5c727-8e36-4e94-94d5-c237ae118124",
   "metadata": {},
   "source": [
    "---"
   ]
  },
  {
   "cell_type": "markdown",
   "id": "2b91bbfe-bdff-47f1-86a0-a3b4afa99843",
   "metadata": {},
   "source": [
    "### Exercício 08\n",
    "\n",
    "Usando a interpolação, substitua os **textos** das variáveis var1, var2 e var3 pelos valores das **variáveis** var1, var2 e var3"
   ]
  },
  {
   "cell_type": "code",
   "execution_count": 2,
   "id": "7e116c1a-3feb-4b67-a235-4d3829c9f0f5",
   "metadata": {},
   "outputs": [
    {
     "name": "stdout",
     "output_type": "stream",
     "text": [
      "Cores:\n",
      "var1: Vermelho\n",
      "var2: Verde\n",
      "var3: Azul\n",
      "\n"
     ]
    }
   ],
   "source": [
    "cor1 = 'Vermelho'\n",
    "cor2 = 'Verde'\n",
    "cor3 = 'Azul'\n",
    "\n",
    "print(f'''Cores:\n",
    "var1: {cor1}\n",
    "var2: {cor2}\n",
    "var3: {cor3}\n",
    "''')"
   ]
  },
  {
   "cell_type": "markdown",
   "id": "c9bf7849-e8c1-415d-ad46-38822881d666",
   "metadata": {},
   "source": [
    "---"
   ]
  },
  {
   "cell_type": "markdown",
   "id": "ffc2a921-7979-4510-86cb-ef03daefad2e",
   "metadata": {},
   "source": [
    "### Exercício 09\n",
    "\n",
    "Crie o algoritmo abaixo:  \n",
    "1. Crie as variáveis: **var_nome**, **var_cidade** e **var_estado**  \n",
    "1. Atribua algum valor a essas variáveis  \n",
    "1. Usando a interpolação, substitua os valores dos **textos** pelos valores das **variáveis** criadas por você"
   ]
  },
  {
   "cell_type": "code",
   "execution_count": 3,
   "id": "0d0e60fa-cccb-4bea-8893-d4dcc58cecc8",
   "metadata": {},
   "outputs": [
    {
     "name": "stdout",
     "output_type": "stream",
     "text": [
      "CADASTRO:\n",
      "Nome: eduarda\n",
      "Cidade: votorantim\n",
      "Estado: sao paulo\n",
      "\n"
     ]
    }
   ],
   "source": [
    "nome = 'eduarda'\n",
    "cidade = 'votorantim'\n",
    "estado = 'sao paulo'\n",
    "\n",
    "\n",
    "print(f'''CADASTRO:\n",
    "Nome: {nome}\n",
    "Cidade: {cidade}\n",
    "Estado: {estado}\n",
    "''')"
   ]
  },
  {
   "cell_type": "markdown",
   "id": "7a17048f-0452-42d7-bc86-52a8a7f99be8",
   "metadata": {},
   "source": [
    "---"
   ]
  },
  {
   "cell_type": "markdown",
   "id": "53b0f85c-a716-420a-b6da-16c6207bfae9",
   "metadata": {},
   "source": [
    "### Exercício 10\n",
    "\n",
    "Crie o algoritmo abaixo:  \n",
    "1. Solicite o nome do usuário  \n",
    "1. Solicite a idade do usuário  \n",
    "1. Usando a interpolação, imprima o nome e a idade fornecida, exemplo:\n",
    "\n",
    "**Entrada:**   \n",
    "_Digite o seu nome:_  \n",
    "_Digite a sua idade:_  \n",
    "**Saída:**  \n",
    "_Pedro tem 21 anos!_"
   ]
  },
  {
   "cell_type": "code",
   "execution_count": 15,
   "id": "8e9eb95b-485a-4ed9-b6ce-838e86c97c1d",
   "metadata": {},
   "outputs": [
    {
     "name": "stdout",
     "output_type": "stream",
     "text": [
      " eduarda tem 21anos de idade\n"
     ]
    }
   ],
   "source": [
    "nome = input(\"digite seu nome:\")\n",
    "idade = input(\"digite a sua idade:\")\n",
    "\n",
    "print(f\" {nome} tem {idade} anos de idade\")\n"
   ]
  },
  {
   "cell_type": "markdown",
   "id": "e8bfc3fb-6918-47da-a475-c119966cc01e",
   "metadata": {},
   "source": [
    "---"
   ]
  },
  {
   "cell_type": "markdown",
   "id": "fe180d2b-e1e6-4fb8-82c7-4542fe095552",
   "metadata": {},
   "source": [
    "### Exercício 11\n",
    "\n",
    "Faça o arredondamento do número abaixo deixando apenas 2 casas decimais, em seguida, usando a interpolação, substituia o texto **var** pelo valor da variável **var**"
   ]
  },
  {
   "cell_type": "code",
   "execution_count": 6,
   "id": "6f32e32b-58e1-4ec9-9537-e16dad379301",
   "metadata": {},
   "outputs": [
    {
     "name": "stdout",
     "output_type": "stream",
     "text": [
      " o valor total da sua compraq foi de 129.99\n"
     ]
    }
   ],
   "source": [
    "total = 129.99451654\n",
    "round(total,2) #só assim vai\n",
    "\n",
    "\n",
    "\n",
    "print(f\" o valor total da sua compraq foi de {total:.2f}\") \n"
   ]
  },
  {
   "cell_type": "markdown",
   "id": "09094d46-a087-4679-bc3e-88449b9f015e",
   "metadata": {},
   "source": [
    "---"
   ]
  },
  {
   "cell_type": "markdown",
   "id": "4acbd285-f8c3-40bf-8c32-3b58b109cce9",
   "metadata": {},
   "source": [
    "### Exercício 12\n",
    "\n",
    "Faça o arredondamento do número abaixo deixando apenas 3 casas decimais, em seguida, usando a interpolação, substituia o texto **var** pelo valor da variável **var**"
   ]
  },
  {
   "cell_type": "code",
   "execution_count": 10,
   "id": "ecfcc40d-dcdd-41be-b282-07f766aa5845",
   "metadata": {},
   "outputs": [
    {
     "name": "stdout",
     "output_type": "stream",
     "text": [
      " A diferença entre os corredores foi de apenas 0.875\n"
     ]
    }
   ],
   "source": [
    "corredores = 0.8754321\n",
    "\n",
    "print(f\" A diferença entre os corredores foi de apenas {round(corredores, 3)}\") \n"
   ]
  },
  {
   "cell_type": "markdown",
   "id": "2260ec1b-0017-4b90-b314-4aea01639859",
   "metadata": {},
   "source": [
    "---"
   ]
  },
  {
   "cell_type": "markdown",
   "id": "293d1d3a-675f-4068-b6fa-3285f99a8c07",
   "metadata": {},
   "source": [
    "### Exercício 13\n",
    "\n",
    "Faça o arredondamento do número abaixo deixando apenas 1 casa decimal, em seguida, usando a interpolação, substituia o texto **var** pelo valor da variável **var**"
   ]
  },
  {
   "cell_type": "code",
   "execution_count": 11,
   "id": "5c8de827-7f14-4f6d-8890-c6bb545b4552",
   "metadata": {},
   "outputs": [
    {
     "name": "stdout",
     "output_type": "stream",
     "text": [
      " A piscina tem apenas 0.63 metros de profundidade\n"
     ]
    }
   ],
   "source": [
    "metros = 0.629874\n",
    "\n",
    "\n",
    "\n",
    "print(f\" A piscina tem apenas {round(metros,2)} metros de profundidade\") \n"
   ]
  },
  {
   "cell_type": "markdown",
   "id": "7d4df24e-451e-4edf-92da-2d53ad03ba8e",
   "metadata": {},
   "source": [
    "---"
   ]
  },
  {
   "cell_type": "markdown",
   "id": "404737cb-7b08-4f60-bd97-bf7b22e9255b",
   "metadata": {},
   "source": [
    "### Exercício 14\n",
    "\n",
    "Crie o algoritmo abaixo:  \n",
    "1. Solicite o nome do usuário  \n",
    "1. Solicite a profissão do usuário  \n",
    "1. Usando a interpolação, imprima o nome e a profissão fornecida, exemplo:\n",
    "\n",
    "**Entrada:**   \n",
    "_Digite o seu nome:_  \n",
    "_Digite a sua profissão:_  \n",
    "**Saída:**  \n",
    "_João é enfermeiro._"
   ]
  },
  {
   "cell_type": "code",
   "execution_count": 21,
   "id": "ab9304a6-c8c1-4cda-80ba-362aa122b9f2",
   "metadata": {},
   "outputs": [
    {
     "name": "stdout",
     "output_type": "stream",
     "text": [
      " eduarda  é ti\n"
     ]
    }
   ],
   "source": [
    "nome = input(\"digite seu nome:\")\n",
    "profisao = input(\"digite a sua profissão:\")\n",
    "\n",
    "print(f\" {nome} é {profisao}\")\n",
    "\n"
   ]
  },
  {
   "cell_type": "markdown",
   "id": "974213f0-be41-49d9-abfb-f430d1d661ac",
   "metadata": {},
   "source": [
    "---"
   ]
  }
 ],
 "metadata": {
  "kernelspec": {
   "display_name": "Python 3",
   "language": "python",
   "name": "python3"
  },
  "language_info": {
   "codemirror_mode": {
    "name": "ipython",
    "version": 3
   },
   "file_extension": ".py",
   "mimetype": "text/x-python",
   "name": "python",
   "nbconvert_exporter": "python",
   "pygments_lexer": "ipython3",
   "version": "3.12.0"
  }
 },
 "nbformat": 4,
 "nbformat_minor": 5
}
