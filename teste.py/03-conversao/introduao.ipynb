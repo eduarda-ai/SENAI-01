{
 "cells": [
  {
   "cell_type": "code",
   "execution_count": null,
   "metadata": {},
   "outputs": [
    {
     "name": "stdout",
     "output_type": "stream",
     "text": [
      "a soma de n1 + n2 é 15\n"
     ]
    }
   ],
   "source": [
    "n1 = int(input(\"digite o 1º numero:\"))\n",
    "n1= int(n1)\n",
    "\n",
    "n2 = int(input(\"digite o 2º numero: \"))\n",
    "\n",
    "print(f\"a soma de n1 + n2 é {n1 + n2}\") #concatenou por ser duas strings"
   ]
  },
  {
   "cell_type": "code",
   "execution_count": null,
   "metadata": {},
   "outputs": [],
   "source": [
    "# type () retorna um tipo de dado\n",
    "\n",
    "print(5)\n",
    "print( type (5))\n",
    "print( type (\"5\"))\n",
    "print( type (5.0))\n",
    "\n"
   ]
  },
  {
   "cell_type": "code",
   "execution_count": 6,
   "metadata": {},
   "outputs": [
    {
     "name": "stdout",
     "output_type": "stream",
     "text": [
      "10\n",
      "<class 'str'>\n"
     ]
    }
   ],
   "source": [
    "num = input(\"digite um numero:\")\n",
    "print(num)\n",
    "print(type (num))"
   ]
  },
  {
   "cell_type": "code",
   "execution_count": 5,
   "metadata": {},
   "outputs": [
    {
     "name": "stdout",
     "output_type": "stream",
     "text": [
      "<class 'str'>\n",
      "<class 'str'>\n",
      "<class 'str'>\n"
     ]
    }
   ],
   "source": [
    " # str - string- texto\n",
    "\n",
    "print(type(\"senai\"))\n",
    "print(type (\"tads\"))\n",
    "\n",
    "\n",
    "num = 5\n",
    "num = str(num)\n",
    "\n",
    "print( type (num))"
   ]
  },
  {
   "cell_type": "code",
   "execution_count": null,
   "metadata": {},
   "outputs": [],
   "source": [
    "# int - inteiro\n",
    "print(type(24))"
   ]
  },
  {
   "cell_type": "code",
   "execution_count": null,
   "metadata": {},
   "outputs": [],
   "source": [
    "# float - numero de ponto flutuante - decimal\n",
    "\n",
    "print(type(2.5))"
   ]
  },
  {
   "cell_type": "code",
   "execution_count": 2,
   "metadata": {},
   "outputs": [
    {
     "name": "stdout",
     "output_type": "stream",
     "text": [
      "<class 'bool'>\n",
      "<class 'bool'>\n"
     ]
    }
   ],
   "source": [
    "#bool - verdadeiro/falso\n",
    "\n",
    "print(type(True))\n",
    "\n",
    "print(type(False))\n"
   ]
  }
 ],
 "metadata": {
  "kernelspec": {
   "display_name": "Python 3",
   "language": "python",
   "name": "python3"
  },
  "language_info": {
   "codemirror_mode": {
    "name": "ipython",
    "version": 3
   },
   "file_extension": ".py",
   "mimetype": "text/x-python",
   "name": "python",
   "nbconvert_exporter": "python",
   "pygments_lexer": "ipython3",
   "version": "3.12.0"
  }
 },
 "nbformat": 4,
 "nbformat_minor": 2
}
