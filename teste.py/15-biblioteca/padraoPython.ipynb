{
 "cells": [
  {
   "cell_type": "code",
   "execution_count": 2,
   "metadata": {},
   "outputs": [],
   "source": [
    "#bibliotecas\n",
    "import math\n",
    "\n"
   ]
  },
  {
   "cell_type": "code",
   "execution_count": 3,
   "metadata": {},
   "outputs": [
    {
     "name": "stdout",
     "output_type": "stream",
     "text": [
      "3.0\n"
     ]
    }
   ],
   "source": [
    "#sqrt - raiz quadrada\n",
    "\n",
    "print(math.sqrt(9))"
   ]
  },
  {
   "cell_type": "code",
   "execution_count": 4,
   "metadata": {},
   "outputs": [
    {
     "name": "stdout",
     "output_type": "stream",
     "text": [
      "4.0\n"
     ]
    }
   ],
   "source": [
    "#pow - potencia\n",
    "\n",
    "print(math.pow(2,2))"
   ]
  },
  {
   "cell_type": "code",
   "execution_count": 5,
   "metadata": {},
   "outputs": [
    {
     "name": "stdout",
     "output_type": "stream",
     "text": [
      "2\n"
     ]
    }
   ],
   "source": [
    "#floor - arredonda para baixo\n",
    "\n",
    "print(math.floor(2.0))"
   ]
  },
  {
   "cell_type": "code",
   "execution_count": 7,
   "metadata": {},
   "outputs": [
    {
     "name": "stdout",
     "output_type": "stream",
     "text": [
      "3\n",
      "3\n",
      "3\n"
     ]
    }
   ],
   "source": [
    "#ceil - arredonda para cima\n",
    "\n",
    "print(math.ceil(2.1))\n",
    "print(math.ceil(2.01))\n",
    "print(math.ceil(2.001))"
   ]
  },
  {
   "cell_type": "code",
   "execution_count": 8,
   "metadata": {},
   "outputs": [
    {
     "name": "stdout",
     "output_type": "stream",
     "text": [
      "3.141592653589793\n"
     ]
    }
   ],
   "source": [
    "#pi - valor aproximado de pi\n",
    "\n",
    "print(math.pi)"
   ]
  },
  {
   "cell_type": "code",
   "execution_count": 9,
   "metadata": {},
   "outputs": [],
   "source": [
    "import datetime\n"
   ]
  },
  {
   "cell_type": "code",
   "execution_count": 10,
   "metadata": {},
   "outputs": [
    {
     "data": {
      "text/plain": [
       "datetime.datetime(2025, 2, 26, 13, 30, 9, 804432)"
      ]
     },
     "execution_count": 10,
     "metadata": {},
     "output_type": "execute_result"
    }
   ],
   "source": [
    "datetime.datetime.now()"
   ]
  },
  {
   "cell_type": "code",
   "execution_count": 11,
   "metadata": {},
   "outputs": [
    {
     "name": "stdout",
     "output_type": "stream",
     "text": [
      "2025\n",
      "2\n",
      "26\n",
      "13\n",
      "30\n",
      "11\n",
      "115360\n"
     ]
    }
   ],
   "source": [
    "print(datetime.datetime.now().year)\n",
    "print(datetime.datetime.now().month)\n",
    "print(datetime.datetime.now().day)\n",
    "print(datetime.datetime.now().hour)\n",
    "print(datetime.datetime.now().minute)\n",
    "print(datetime.datetime.now().second)\n",
    "print(datetime.datetime.now().microsecond)\n"
   ]
  },
  {
   "cell_type": "code",
   "execution_count": 12,
   "metadata": {},
   "outputs": [
    {
     "data": {
      "text/plain": [
       "datetime.datetime(2024, 12, 31, 0, 0)"
      ]
     },
     "execution_count": 12,
     "metadata": {},
     "output_type": "execute_result"
    }
   ],
   "source": [
    "#como criar uma data\n",
    "\n",
    "datetime.datetime(2024,12,31)"
   ]
  },
  {
   "cell_type": "code",
   "execution_count": 13,
   "metadata": {},
   "outputs": [
    {
     "name": "stdout",
     "output_type": "stream",
     "text": [
      "6 days, 0:00:00\n",
      "6\n"
     ]
    }
   ],
   "source": [
    "integracao= datetime.datetime(2025, 3, 3)\n",
    "hoje = datetime.datetime(2025,2,25)\n",
    "\n",
    "\n",
    "print(integracao - hoje)\n",
    "print((integracao - hoje).days)"
   ]
  },
  {
   "cell_type": "code",
   "execution_count": 14,
   "metadata": {},
   "outputs": [
    {
     "name": "stdout",
     "output_type": "stream",
     "text": [
      "2025-02-26 16:30:16.416637\n"
     ]
    }
   ],
   "source": [
    "#adicionar / subtrair tempo\n",
    "\n",
    "agora =datetime.datetime.now()\n",
    "\n",
    "#essa variavel contem 3 horas\n",
    "dif_hora = datetime.timedelta(hours=3)\n",
    "\n",
    "\n",
    "print(agora + dif_hora)"
   ]
  },
  {
   "cell_type": "code",
   "execution_count": 15,
   "metadata": {},
   "outputs": [
    {
     "data": {
      "text/plain": [
       "datetime.timedelta(days=3)"
      ]
     },
     "execution_count": 15,
     "metadata": {},
     "output_type": "execute_result"
    }
   ],
   "source": [
    "#adicionar ou subtrair\n",
    "\n",
    "datetime.timedelta(days=3)"
   ]
  },
  {
   "cell_type": "code",
   "execution_count": 16,
   "metadata": {},
   "outputs": [
    {
     "name": "stdout",
     "output_type": "stream",
     "text": [
      "2025-02-26 00:00:00\n",
      "2025-03-05 00:00:00\n"
     ]
    }
   ],
   "source": [
    "hoje=datetime.datetime(2025, 2, 26)\n",
    "semana=datetime.timedelta(weeks=1)\n",
    "\n",
    "print(hoje)\n",
    "print(hoje + semana)"
   ]
  },
  {
   "cell_type": "code",
   "execution_count": 18,
   "metadata": {},
   "outputs": [
    {
     "name": "stdout",
     "output_type": "stream",
     "text": [
      "2025-02-26 13:39:10.283683\n",
      "26\n",
      "25\n",
      "26/02/2025\n"
     ]
    }
   ],
   "source": [
    "#strftime - converte de datatime para string \n",
    "\n",
    "agora = datetime.datetime.now()\n",
    "\n",
    "print(agora)\n",
    "print(agora.strftime(\"%d\"))\n",
    "print(agora.strftime(\"%y\"))\n",
    "print(agora.strftime(\"%d/%m/%Y\"))\n",
    "\n"
   ]
  },
  {
   "cell_type": "code",
   "execution_count": 23,
   "metadata": {},
   "outputs": [
    {
     "name": "stdout",
     "output_type": "stream",
     "text": [
      "2025-02-26 00:00:00\n",
      "2025-02-26 00:00:00\n"
     ]
    }
   ],
   "source": [
    "#strptime  - converte string para datetime\n",
    "\n",
    "hoje = \"26/02/2025\"\n",
    "\n",
    "print(datetime.datetime.strptime(hoje, \"%d/%m/%Y\"))\n",
    "\n",
    "print(datetime.datetime.strptime(\"hoje é dia 26 do 02 de 2025\", \"hoje é dia %d do %m de %Y\"))"
   ]
  },
  {
   "cell_type": "code",
   "execution_count": null,
   "metadata": {},
   "outputs": [],
   "source": [
    "#gera strings aleatorio\n",
    "\n",
    "import random"
   ]
  },
  {
   "cell_type": "code",
   "execution_count": 25,
   "metadata": {},
   "outputs": [
    {
     "name": "stdout",
     "output_type": "stream",
     "text": [
      "0.2133582802177959\n"
     ]
    }
   ],
   "source": [
    "print(random.random())"
   ]
  },
  {
   "cell_type": "code",
   "execution_count": 26,
   "metadata": {},
   "outputs": [
    {
     "name": "stdout",
     "output_type": "stream",
     "text": [
      "8\n"
     ]
    }
   ],
   "source": [
    "#gera numero inteiro e aleatorio\n",
    "\n",
    "print(random.randint(1,10))"
   ]
  },
  {
   "cell_type": "code",
   "execution_count": null,
   "metadata": {},
   "outputs": [
    {
     "name": "stdout",
     "output_type": "stream",
     "text": [
      "3.363605708256438\n"
     ]
    }
   ],
   "source": [
    "\n",
    "\n",
    "print(random.uniform(1,10))"
   ]
  },
  {
   "cell_type": "code",
   "execution_count": null,
   "metadata": {},
   "outputs": [],
   "source": [
    "#choice, sortei valor\n",
    "\n",
    "\n",
    "\n"
   ]
  }
 ],
 "metadata": {
  "kernelspec": {
   "display_name": "Python 3",
   "language": "python",
   "name": "python3"
  },
  "language_info": {
   "codemirror_mode": {
    "name": "ipython",
    "version": 3
   },
   "file_extension": ".py",
   "mimetype": "text/x-python",
   "name": "python",
   "nbconvert_exporter": "python",
   "pygments_lexer": "ipython3",
   "version": "3.12.0"
  }
 },
 "nbformat": 4,
 "nbformat_minor": 2
}
