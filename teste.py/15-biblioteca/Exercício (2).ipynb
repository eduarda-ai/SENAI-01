{
 "cells": [
  {
   "cell_type": "markdown",
   "id": "6ded908c-5252-4da7-be8a-690aa38710e2",
   "metadata": {},
   "source": [
    "# <font color='OrangeRed'><center>Exercícios - Bibliotecas</center></font>"
   ]
  },
  {
   "cell_type": "markdown",
   "id": "5652f20f-e871-4138-a2d7-981c1c1ccff0",
   "metadata": {},
   "source": [
    "### Biblitecas importadas:"
   ]
  },
  {
   "cell_type": "code",
   "execution_count": 26,
   "id": "dfd2687b-1b3d-4b31-bc8b-cd47a3c1ff13",
   "metadata": {},
   "outputs": [],
   "source": [
    "# Importe aqui suas bibliotecas (Opcional)\n",
    "\n",
    "import math\n",
    "import random\n",
    "import datetime\n"
   ]
  },
  {
   "cell_type": "markdown",
   "id": "587fba16-6406-4fe6-916d-2f3690b1b30f",
   "metadata": {},
   "source": [
    "---"
   ]
  },
  {
   "cell_type": "markdown",
   "id": "bfeeb3d9-0fa0-452e-84cd-6de7003c079a",
   "metadata": {},
   "source": [
    "### Exercício 01\n",
    "\n",
    "Utilizando a biblioteca **math**, crie um algoritmo que receba dois números como argumento e que retorne um número elevado a um expoente"
   ]
  },
  {
   "cell_type": "code",
   "execution_count": 27,
   "id": "77c981f9-fe73-437d-a8f8-fc5915fe5b1d",
   "metadata": {},
   "outputs": [
    {
     "name": "stdout",
     "output_type": "stream",
     "text": [
      "O resultado de 3.0 elevado a 5.0 é 243.0.\n"
     ]
    }
   ],
   "source": [
    "\n",
    "def elevar_numero(base, expoente):\n",
    "    return math.pow(base, expoente)\n",
    "\n",
    "base = float(input(\"Digite a base: \"))\n",
    "expoente = float(input(\"Digite o expoente: \"))\n",
    "\n",
    "resultado = elevar_numero(base, expoente)\n",
    "print(f\"O resultado de {base} elevado a {expoente} é {resultado}.\")\n"
   ]
  },
  {
   "cell_type": "markdown",
   "id": "88c748b0-fd02-4cf0-b079-95dfe264594a",
   "metadata": {
    "tags": []
   },
   "source": [
    "---"
   ]
  },
  {
   "cell_type": "markdown",
   "id": "df7ecfe2-1a1f-412b-ad03-75915352eec8",
   "metadata": {},
   "source": [
    "### Exercício 02\n",
    "\n",
    "Utilizando a biblioteca **math**, crie um algoritmo que receba um número como argumento e que retorne a raiz quadadra de um número"
   ]
  },
  {
   "cell_type": "code",
   "execution_count": 28,
   "id": "89f061a9-e7a6-43ef-9ca2-d32491d103db",
   "metadata": {},
   "outputs": [
    {
     "name": "stdout",
     "output_type": "stream",
     "text": [
      "A raiz quadrada de 4.0 é 2.0.\n"
     ]
    }
   ],
   "source": [
    "\n",
    "\n",
    "def raiz_quadrada(numero):\n",
    "    return math.sqrt(numero)\n",
    "\n",
    "\n",
    "numero = float(input(\"Digite um número para calcular a raiz quadrada: \"))\n",
    "\n",
    "resultado = raiz_quadrada(numero)\n",
    "print(f\"A raiz quadrada de {numero} é {resultado}.\")\n"
   ]
  },
  {
   "cell_type": "markdown",
   "id": "a253c8ca-c740-47db-92b2-48fa2c7bcc81",
   "metadata": {
    "tags": []
   },
   "source": [
    "---"
   ]
  },
  {
   "cell_type": "markdown",
   "id": "06650806-2974-4c6e-ac14-805859bd6fc7",
   "metadata": {},
   "source": [
    "### Exercício 03\n",
    "\n",
    "Utilizando a biblioteca **math**, escreva um programa que receba a medida do raio de uma circunferência e que em seguida imprima o comprimento da circunferência.\n",
    "\n",
    "**_Formúla:_**<br>\n",
    "_Comprimento = 2 * PI * Raio_"
   ]
  },
  {
   "cell_type": "code",
   "execution_count": 5,
   "id": "4e41835f-f880-4521-9fe2-188177f09d50",
   "metadata": {},
   "outputs": [
    {
     "name": "stdout",
     "output_type": "stream",
     "text": [
      "O comprimento da circunferência com raio 4.0 é 25.13.\n"
     ]
    }
   ],
   "source": [
    "\n",
    "\n",
    "def circunferencia(raio):\n",
    "    return 2 * math.pi * raio\n",
    "\n",
    "\n",
    "raio = float(input(\"Digite o raio da circunferência: \"))\n",
    "\n",
    "comprimento = circunferencia(raio)\n",
    "print(f\"O comprimento da circunferência com raio {raio} é {comprimento:.2f}.\")\n",
    "\n",
    "\n"
   ]
  },
  {
   "cell_type": "markdown",
   "id": "43032d11-d7a7-4567-96ac-aaff30b29f57",
   "metadata": {
    "tags": []
   },
   "source": [
    "---"
   ]
  },
  {
   "cell_type": "markdown",
   "id": "67ff50ce-7ada-489b-8c47-a622f088e5d4",
   "metadata": {},
   "source": [
    "### Exercício 04\n",
    "\n",
    "Crie uma lista com cinco nomes e em seguida, utilizando a biblioteca **random**, use um método para retornar um nome aleatório da lista."
   ]
  },
  {
   "cell_type": "code",
   "execution_count": 10,
   "id": "782a2296-864d-4116-a3bc-eac28f392cfb",
   "metadata": {},
   "outputs": [
    {
     "name": "stdout",
     "output_type": "stream",
     "text": [
      "O nome aleatório escolhido é: Pedro\n"
     ]
    }
   ],
   "source": [
    "\n",
    "\n",
    "nomes = [\"Ana\", \"Carlos\", \"Maria\", \"João\", \"Pedro\"]\n",
    "\n",
    "\n",
    "nome_aleatorio = random.choice(nomes)\n",
    "\n",
    "print(f\"O nome aleatório escolhido é: {nome_aleatorio}\")\n",
    "\n",
    "\n",
    "\n"
   ]
  },
  {
   "cell_type": "markdown",
   "id": "caf2c150-8b20-4583-b45f-24f0cc32dcad",
   "metadata": {
    "tags": []
   },
   "source": [
    "---"
   ]
  },
  {
   "cell_type": "markdown",
   "id": "53dd578c-7233-41b9-bd5c-1433be9c9118",
   "metadata": {},
   "source": [
    "### Exercício 05\n",
    "\n",
    "Utilizando a biblioteca **random**, crie uma variável e atribula a ela um número inteiro aleatório entre 1 a 5, em seguida peça para o usuário digitar um número e crie a condição abaixo:\n",
    "\n",
    "* Se o número aleatório for igual ao número digitado, então retorne 'Parabéns, você acertou!'\n",
    "* Senão retorne 'Você errou, tente novamente.'"
   ]
  },
  {
   "cell_type": "code",
   "execution_count": 29,
   "id": "670c01b1-9712-4b15-8142-f056eeed78cb",
   "metadata": {},
   "outputs": [
    {
     "name": "stdout",
     "output_type": "stream",
     "text": [
      "Você errou, tente novamente.\n"
     ]
    }
   ],
   "source": [
    "\n",
    "num1= random.randint(1, 5)\n",
    "\n",
    "\n",
    "num = int(input(\"digite um numero inteiro\"))\n",
    "\n",
    "\n",
    "if num1 == num:\n",
    "    print(\"Parabéns, você acertou!\")\n",
    "else:\n",
    "    print(\"Você errou, tente novamente.\")\n",
    "\n"
   ]
  },
  {
   "cell_type": "markdown",
   "id": "decf708c-40a0-449f-b198-0e605e293604",
   "metadata": {},
   "source": [
    "---"
   ]
  },
  {
   "cell_type": "markdown",
   "id": "f05862c2-aea9-4fa0-b731-5b550e6e8036",
   "metadata": {},
   "source": [
    "### Exercício 06\n",
    "\n",
    "Peça para o usuário informar o salário dele e em seguida, utilizando a biblioteca **random**, use um método que retorne um número de ponto fluante entre 0.10 a 0.20.\n",
    "\n",
    "Imprima o valor do salário + (10% a 20%) gerado pela biblioteca"
   ]
  },
  {
   "cell_type": "code",
   "execution_count": 25,
   "id": "bd6da05b-be2f-4ac8-b424-a8a1af67be04",
   "metadata": {},
   "outputs": [
    {
     "name": "stdout",
     "output_type": "stream",
     "text": [
      "O seu salário com um aumento de 10.04% é R$ 1870.60\n"
     ]
    }
   ],
   "source": [
    "\n",
    "salario = int(input(\"Informe seu salario: \"))\n",
    "\n",
    "percentual= random.uniform(0.10,0.20)\n",
    "\n",
    "aumento = salario * percentual\n",
    "\n",
    "\n",
    "novo_salario = salario + aumento \n",
    "print(f\"O seu salário com um aumento de {percentual*100:.2f}% é R$ {novo_salario:.2f}\")\n",
    "\n"
   ]
  },
  {
   "cell_type": "markdown",
   "id": "d6f36074-667c-4c81-8113-9cdc636f21ef",
   "metadata": {},
   "source": [
    "---"
   ]
  },
  {
   "cell_type": "markdown",
   "id": "cff309da-216f-4c0f-9da0-24f99481ffc0",
   "metadata": {},
   "source": [
    "### Exercício 07\n",
    "\n",
    "Utilizando a biblioteca **datetime**, conveta os 3 textos abaixo para o tipo data"
   ]
  },
  {
   "cell_type": "code",
   "execution_count": 46,
   "id": "4de9e319-f2a5-4d24-a8df-3fe533635716",
   "metadata": {},
   "outputs": [
    {
     "name": "stdout",
     "output_type": "stream",
     "text": [
      "2000-12-20 00:00:00\n",
      "2000-12-20 00:00:00\n",
      "2000-12-20 00:00:00\n"
     ]
    }
   ],
   "source": [
    "formato_brasil = '20/12/2000'\n",
    "formato_eua = '12/20/2000'\n",
    "formato_iso = '2000-12-20'\n",
    "\n",
    "\n",
    "\n",
    "print(datetime.datetime.strptime(formato_brasil, \"%d/%m/%Y\"))\n",
    "print(datetime.datetime.strptime(formato_eua, \"%m/%d/%Y\"))\n",
    "print(datetime.datetime.strptime(formato_iso, \"%Y-%m-%d\"))\n",
    "\n",
    "\n"
   ]
  },
  {
   "cell_type": "markdown",
   "id": "59743d2c-6ddb-4f09-9d54-f872e24814fa",
   "metadata": {},
   "source": [
    "---"
   ]
  },
  {
   "cell_type": "markdown",
   "id": "801342a5-189f-4fbd-b57b-71fbca814401",
   "metadata": {
    "tags": []
   },
   "source": [
    "### Exercício 08\n",
    "\n",
    "Utilizando a biblioteca **datetime**, retorne quantos dias faltam para o data 01/01/2025."
   ]
  },
  {
   "cell_type": "code",
   "execution_count": 51,
   "id": "f407c950-2649-441c-a9ee-73a07beb72a5",
   "metadata": {},
   "outputs": [
    {
     "name": "stdout",
     "output_type": "stream",
     "text": [
      "-57 days, 7:36:34.329638\n"
     ]
    }
   ],
   "source": [
    "dias = datetime.datetime(2025, 1, 1)\n",
    "hoje = datetime.datetime.now()\n",
    "\n",
    "\n",
    "print(dias - hoje)"
   ]
  },
  {
   "cell_type": "markdown",
   "id": "7689de3f-73f0-4937-925b-5ccfe6903f8f",
   "metadata": {},
   "source": [
    "---"
   ]
  },
  {
   "cell_type": "markdown",
   "id": "e01e520c-3bcc-439f-84e0-1042df23ff8f",
   "metadata": {
    "tags": []
   },
   "source": [
    "### Exercício 09\n",
    "\n",
    "Utilizando a biblioteca **datetime**, peça para o usuário informar um número inteiro e em seguida retorne a data de hoje + o valor informado em dias, exemplo:\n",
    "\n",
    "**Entrada:**  \n",
    "_5_\n",
    "\n",
    "**Saída:**  \n",
    "_01/01/2024 + 5 = 06/01/2024_"
   ]
  },
  {
   "cell_type": "code",
   "execution_count": 52,
   "id": "5bae6a90-9c41-4e99-9b44-12327ca4678a",
   "metadata": {},
   "outputs": [
    {
     "name": "stdout",
     "output_type": "stream",
     "text": [
      "2024-01-06 00:00:00\n"
     ]
    }
   ],
   "source": [
    "\n",
    "\n",
    "num = int(input(\"digite um numero inteiro: \"))\n",
    "\n",
    "\n",
    "\n",
    "hoje = datetime.datetime(2024,1,1)\n",
    "num = datetime.timedelta(days=num)\n",
    "\n",
    "\n",
    "print(num + hoje)\n"
   ]
  },
  {
   "cell_type": "markdown",
   "id": "d1cf2104-d450-433c-b5aa-f8e4f9416ddf",
   "metadata": {},
   "source": [
    "---"
   ]
  },
  {
   "cell_type": "markdown",
   "id": "c8c7e24b-6273-46e8-ab1c-201cc7576cf3",
   "metadata": {},
   "source": [
    "### Exercício 10\n",
    "\n",
    "Utilizando a biblioteca **datetime**, converta a data abaixo no formato do brasil\n",
    "\n",
    "**Formato do Brasil:**  \n",
    "_DD/MM/YYYY_  "
   ]
  },
  {
   "cell_type": "code",
   "execution_count": 39,
   "id": "739f08c7-33d9-44d9-85db-dbf36f149488",
   "metadata": {},
   "outputs": [
    {
     "name": "stdout",
     "output_type": "stream",
     "text": [
      "01/01/2024\n"
     ]
    }
   ],
   "source": [
    "data = datetime.datetime(2024, 1, 1)\n",
    "\n",
    "\n",
    "\n",
    "print(data.strftime(\"%d/%m/%Y\"))\n",
    "\n"
   ]
  },
  {
   "cell_type": "markdown",
   "id": "d4112d19-2155-4eb5-bc4b-1d534b6f860a",
   "metadata": {},
   "source": [
    "---"
   ]
  },
  {
   "cell_type": "markdown",
   "id": "d0b104f3-9803-4c2a-97d2-3578119d54e8",
   "metadata": {},
   "source": [
    "### Exercício 11\n",
    "\n",
    "Utilizando a biblioteca **math**, use um método para imprimir cada um dos números da lista abaixo arredondado para baixo"
   ]
  },
  {
   "cell_type": "code",
   "execution_count": 34,
   "id": "15c112d4-36af-4607-b5f0-5c9e5052581f",
   "metadata": {},
   "outputs": [
    {
     "name": "stdout",
     "output_type": "stream",
     "text": [
      "4\n",
      "77\n",
      "21\n",
      "8\n",
      "5\n"
     ]
    }
   ],
   "source": [
    "lista = [4.15, 77.55, 21.1, 8.006, 5.97]\n",
    "\n",
    "\n",
    "for lista in lista:\n",
    "    print(math.floor(lista))"
   ]
  },
  {
   "cell_type": "markdown",
   "id": "4b883696-4bbc-4595-a0a3-9c9a227a20a6",
   "metadata": {},
   "source": [
    "---"
   ]
  },
  {
   "cell_type": "markdown",
   "id": "168cf493-a245-4755-a425-19cf0e7cea2b",
   "metadata": {},
   "source": [
    "### Exercício 12\n",
    "\n",
    "Utilizando a biblioteca **math**, use um método para imprimir cada um dos números da lista abaixo arredondado para cima"
   ]
  },
  {
   "cell_type": "code",
   "execution_count": 35,
   "id": "96b64391-f155-49a4-b6ef-6ac513c59704",
   "metadata": {},
   "outputs": [
    {
     "name": "stdout",
     "output_type": "stream",
     "text": [
      "8\n",
      "10\n",
      "23\n",
      "4\n",
      "7\n"
     ]
    }
   ],
   "source": [
    "lista = [7.85, 9.445, 22.561, 3.416, 6.71]\n",
    "\n",
    "for lista in lista:\n",
    "    print(math.ceil(lista))"
   ]
  },
  {
   "cell_type": "markdown",
   "id": "5a673cd5-377c-432c-8b2b-2107f2863c55",
   "metadata": {},
   "source": [
    "---"
   ]
  }
 ],
 "metadata": {
  "kernelspec": {
   "display_name": "Python 3",
   "language": "python",
   "name": "python3"
  },
  "language_info": {
   "codemirror_mode": {
    "name": "ipython",
    "version": 3
   },
   "file_extension": ".py",
   "mimetype": "text/x-python",
   "name": "python",
   "nbconvert_exporter": "python",
   "pygments_lexer": "ipython3",
   "version": "3.12.0"
  }
 },
 "nbformat": 4,
 "nbformat_minor": 5
}
