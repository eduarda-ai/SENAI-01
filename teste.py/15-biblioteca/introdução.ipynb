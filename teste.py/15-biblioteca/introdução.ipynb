{
 "cells": [
  {
   "cell_type": "code",
   "execution_count": null,
   "metadata": {},
   "outputs": [],
   "source": [
    "import minhabiblioteca\n",
    "\n",
    "\n",
    "print( minhabiblioteca.dobro(4))\n",
    "print( minhabiblioteca.soma(6,5))\n",
    "print( minhabiblioteca.saudacao(\"eduarda\"))"
   ]
  },
  {
   "cell_type": "code",
   "execution_count": null,
   "metadata": {},
   "outputs": [],
   "source": [
    "#apelido para biblioteca - alias\n",
    "\n",
    "import minhabiblioteca as mb\n",
    "\n",
    "\n",
    "print( mb.dobro(4))\n",
    "print( mb.soma(6,5))\n",
    "print( mb.saudacao(\"eduarda\"))"
   ]
  },
  {
   "cell_type": "code",
   "execution_count": null,
   "metadata": {},
   "outputs": [
    {
     "name": "stdout",
     "output_type": "stream",
     "text": [
      "9\n",
      "4\n"
     ]
    }
   ],
   "source": [
    "from minhabiblioteca import soma, dobro\n",
    "print(soma(4,5))\n",
    "print(dobro(2))"
   ]
  }
 ],
 "metadata": {
  "kernelspec": {
   "display_name": "Python 3",
   "language": "python",
   "name": "python3"
  },
  "language_info": {
   "codemirror_mode": {
    "name": "ipython",
    "version": 3
   },
   "file_extension": ".py",
   "mimetype": "text/x-python",
   "name": "python",
   "nbconvert_exporter": "python",
   "pygments_lexer": "ipython3",
   "version": "3.12.0"
  }
 },
 "nbformat": 4,
 "nbformat_minor": 2
}
