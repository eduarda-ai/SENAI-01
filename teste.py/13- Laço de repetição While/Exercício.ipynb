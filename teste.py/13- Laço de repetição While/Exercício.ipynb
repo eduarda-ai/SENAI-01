{
 "cells": [
  {
   "cell_type": "markdown",
   "id": "a55a1c33-9a5a-4214-b4fb-567fc561fa60",
   "metadata": {},
   "source": [
    "# <font color='OrangeRed'><center>Exercícios - While</center></font>"
   ]
  },
  {
   "cell_type": "markdown",
   "id": "a7afefee-53de-44b4-b9b5-4572861f6960",
   "metadata": {},
   "source": [
    "### Exercício 01\n",
    "\n",
    "Crie uma variável e atribua a ela o valor 10, utilizando a instrução while crie um programa onde a cada iteração do loop seja incrementando +1 a variável, enquanto o valor da variável for menor ou igual a 20 continue executando."
   ]
  },
  {
   "cell_type": "code",
   "execution_count": 4,
   "id": "0a96d5a9-a863-4790-b8c3-0e4c2ba925b2",
   "metadata": {},
   "outputs": [
    {
     "name": "stdout",
     "output_type": "stream",
     "text": [
      "O valor atual do acumulador é 11.\n",
      "O valor atual do acumulador é 12.\n",
      "O valor atual do acumulador é 13.\n",
      "O valor atual do acumulador é 14.\n",
      "O valor atual do acumulador é 15.\n",
      "O valor atual do acumulador é 16.\n",
      "O valor atual do acumulador é 17.\n",
      "O valor atual do acumulador é 18.\n",
      "O valor atual do acumulador é 19.\n",
      "O valor atual do acumulador é 20.\n",
      "O valor atual do acumulador é 21.\n",
      "fimm\n"
     ]
    }
   ],
   "source": [
    "numero = 10\n",
    "\n",
    "while numero <= 20:\n",
    "\n",
    "\tnumero = numero + 1\n",
    "\tprint(f'O valor atual do acumulador é {numero}.')\n",
    "\n",
    "print(\"fimm\")\n",
    "\n"
   ]
  },
  {
   "cell_type": "markdown",
   "id": "e50652d8-3a09-4046-b286-e6cd4b2c0b32",
   "metadata": {},
   "source": [
    "---"
   ]
  },
  {
   "cell_type": "markdown",
   "id": "2fd35e37-3b7e-49f2-acbe-c818da01e2d9",
   "metadata": {},
   "source": [
    "### Exercício 02\n",
    "\n",
    "Utilizando a instrução while, crie um programa que pergunte ao usuário se ele deseja continuar no loop, enquanto o usuário não digitar a palavra 'não' continue executando o loop."
   ]
  },
  {
   "cell_type": "code",
   "execution_count": null,
   "id": "a2db5c33-42bd-4f4d-a9c8-ce339e4df672",
   "metadata": {},
   "outputs": [],
   "source": [
    "loop= input(\"Deseja continuar no loop: \")\n",
    "\n",
    "while loop ==\"Não\":\n",
    "    print(\"loop encerrado\")\n",
    "    break\n",
    "\n",
    "while loop ==\"Sim\":\n",
    "    print(\"loop continua\")\n",
    "\n",
    "\n",
    "   \n"
   ]
  },
  {
   "cell_type": "markdown",
   "id": "e620440b-cc5e-405f-99af-95232020dac2",
   "metadata": {},
   "source": [
    "---"
   ]
  },
  {
   "cell_type": "markdown",
   "id": "9bafa94b-0f3a-48c8-9ee2-40aba2a10143",
   "metadata": {},
   "source": [
    "### Exercício 03\n",
    "\n",
    "Crie uma variável e atribua a ela o valor 0, utilizando a instrução while crie um programa onde a cada iteração seja incrementando +5 a variável, enquanto o valor da variável for menor ou igual a 50 continue executando."
   ]
  },
  {
   "cell_type": "code",
   "execution_count": null,
   "id": "63793dfc-e3a1-4f25-9764-e0d2b9730946",
   "metadata": {},
   "outputs": [],
   "source": [
    "numero = 0\n",
    "\n",
    "while numero <= 50:\n",
    "\n",
    "\tnumero = numero + 5\n",
    "\tprint(f'O valor atual do acumulador é {numero}.')\n",
    "\n",
    "print(\"fimm\")\n",
    "\n",
    "\n"
   ]
  },
  {
   "cell_type": "markdown",
   "id": "5a0d5e75-16d6-4513-964c-62ca1e32b479",
   "metadata": {},
   "source": [
    "---"
   ]
  },
  {
   "cell_type": "markdown",
   "id": "9a1da876-a633-43d1-9d71-3d9335a6e0ed",
   "metadata": {},
   "source": [
    "### Exercício 04\n",
    "\n",
    "Utilizando a instrução while, crie um programa que peça para o usuário digitar uma **vogal** e enquanto o usuário não digitar uma vogal continue executando o código."
   ]
  },
  {
   "cell_type": "code",
   "execution_count": null,
   "id": "184e174b-3ef0-414c-901f-4c1f447cb770",
   "metadata": {},
   "outputs": [],
   "source": [
    "\n",
    "\n",
    "vogal = input(\"Digite uma vogal: \")\n",
    "\n",
    "while vogal not in 'aeiouAEIOU':\n",
    "    print(\"Você não digitou uma vogal!\")\n",
    "    vogal = input(\"Digite uma vogal: \")\n",
    "\n",
    "print(f\"Você digitou a vogal: {vogal}\")\n"
   ]
  },
  {
   "cell_type": "markdown",
   "id": "a6deec0a-e737-4a96-9d15-76fbc5216253",
   "metadata": {},
   "source": [
    "---"
   ]
  },
  {
   "cell_type": "markdown",
   "id": "2f31bd8e-f02e-4630-a7f4-2c296ea6a2c4",
   "metadata": {},
   "source": [
    "### Exercício 05\n",
    "\n",
    "Utilizando a instrução while, crie um programa que peça para o usuário inserir um número inteiro e enquanto o usuário não inserir um valor **divisível por 3** continue executando o código."
   ]
  },
  {
   "cell_type": "code",
   "execution_count": null,
   "id": "917e7b34-bc31-4556-8be9-d49d558e874f",
   "metadata": {},
   "outputs": [],
   "source": [
    "\n",
    "\n",
    "num = int(input(\"Digite um número inteiro divisível por 3: \"))\n",
    "\n",
    "while num % 3 != 0:  \n",
    "    print(\"Esse número não é divisível por 3.\")\n",
    "    num = int(input(\"Digite um número inteiro divisível por 3: \"))\n",
    "\n",
    "print(f\"Você digitou o número {num}, que é divisível por 3!\")\n",
    "\n"
   ]
  },
  {
   "cell_type": "markdown",
   "id": "c174efc7-c12d-4173-b77f-e05c28d3cd52",
   "metadata": {},
   "source": [
    "---"
   ]
  },
  {
   "cell_type": "markdown",
   "id": "7426b6c3-b5f5-450e-9cfe-7c99974038ff",
   "metadata": {},
   "source": [
    "### Exercício 06\n",
    "\n",
    "Utilizando a instrução while, crie um programa que peça para o usuário inserir um número inteiro e enquanto o usuário não inserir um valor **menor que 10 OU maior que 20** continue executando o código."
   ]
  },
  {
   "cell_type": "code",
   "execution_count": null,
   "id": "61ae61e0-7c11-4f43-bf3d-d89a74d11407",
   "metadata": {},
   "outputs": [],
   "source": [
    "num = int(input(\"Digite um número inteiro: \"))\n",
    "\n",
    "while num <10 or num >20:\n",
    "    print(\"numero errado\")\n",
    "    num = int(input(\"Digite um numero inteiro:\"))\n",
    "    \n",
    "print(f\"Você digitou o número {num} certo, menor que 10 OU maior que 20 \")\n",
    "    \n",
    "\n",
    "\n"
   ]
  },
  {
   "cell_type": "markdown",
   "id": "b91fca52-ea24-474a-a953-c1f7d6ff622d",
   "metadata": {},
   "source": [
    "---"
   ]
  },
  {
   "cell_type": "markdown",
   "id": "8cded626-7d89-44a8-b5ba-9907722b6da1",
   "metadata": {},
   "source": [
    "### Exercício 07\n",
    "\n",
    "Utilizando a instrução while, crie um programa que peça para o usuário **'Digitar a senha de acesso'** e enquanto o usuário não digitar a palavra **'segredo'** continue executando o loop."
   ]
  },
  {
   "cell_type": "code",
   "execution_count": null,
   "id": "a0aa84ff-cdc8-4944-94cd-586e7d589e8a",
   "metadata": {},
   "outputs": [],
   "source": [
    "senha=input(\"Digite sua senha de acesso: \")\n",
    "\n",
    "while senha !=\"SEGREDO\":\n",
    "    print(\"senha incorreta\")\n",
    "    senha = input(\"digite a senha :\")\n",
    "print(\"acertouuuu\")"
   ]
  },
  {
   "cell_type": "markdown",
   "id": "a9edd058-80ac-4172-9539-c16f6ebefbd2",
   "metadata": {},
   "source": [
    "---"
   ]
  },
  {
   "cell_type": "markdown",
   "id": "2731e88d-620b-4881-8b43-419ffe35e443",
   "metadata": {},
   "source": [
    "### Exercício 08\n",
    "\n",
    "Utilizando a instrução while, crie um programa que imprima 5 vezes a frase **'Programação em Python'**.\n",
    "\n",
    "**Dica:**  \n",
    "_Utilize um contador_"
   ]
  },
  {
   "cell_type": "code",
   "execution_count": null,
   "id": "e8ab5ad4-f3f7-43f0-a808-464b59c20726",
   "metadata": {},
   "outputs": [],
   "source": [
    "\n",
    "contador = 1\n",
    "\n",
    "\n",
    "while contador <= 5:\n",
    "    print('Programação em Python')\n",
    "    contador += 1  \n"
   ]
  },
  {
   "cell_type": "markdown",
   "id": "da3fa10e-b2d2-4439-a151-58ebecdf91bd",
   "metadata": {},
   "source": [
    "---"
   ]
  },
  {
   "cell_type": "markdown",
   "id": "1586e09e-4614-488b-8d33-5dc8d5cc4588",
   "metadata": {
    "tags": []
   },
   "source": [
    "### Exercício 09\n",
    "\n",
    "Crie uma variável e atribua a ela uma lista vazia [], utilizando a instrução while faça um programa onde a cada iteração pergunte **'qual fruta o usuário deseja adicionar a lista'**, e enquanto a lista tiver menos que 5 frutas continue executando o código.  \n",
    "\n",
    "Após o fim do loop imprima os itens da lista."
   ]
  },
  {
   "cell_type": "code",
   "execution_count": null,
   "id": "7abaac3b-e63c-4438-beb5-efb0e02ba727",
   "metadata": {
    "tags": []
   },
   "outputs": [],
   "source": [
    "\n",
    "frutas = []\n",
    "\n",
    "while len(frutas) < 5:\n",
    "    fruta = input('Qual fruta você deseja adicionar à lista? ')  \n",
    "    frutas.append(fruta)  \n",
    "\n",
    "print('As frutas na lista são:', frutas)\n",
    "\n"
   ]
  },
  {
   "cell_type": "markdown",
   "id": "7aee4a32-8157-45a4-adb9-e519f941f353",
   "metadata": {},
   "source": [
    "---"
   ]
  },
  {
   "cell_type": "markdown",
   "id": "c423400e-5e2a-426d-86ed-5e29f6d351b9",
   "metadata": {},
   "source": [
    "### Exercício 10\n",
    "\n",
    "Utilizando a instrução while, crie um programa que peça para o usuário inserir um número inteiro e enquanto o usuário inserir um valor **maior ou igual a zero** continue executando o loop."
   ]
  },
  {
   "cell_type": "markdown",
   "id": "a1d993e1",
   "metadata": {},
   "source": [
    "\n"
   ]
  },
  {
   "cell_type": "code",
   "execution_count": null,
   "id": "5ef50124-40eb-43bd-8235-55d450ee0b5b",
   "metadata": {},
   "outputs": [],
   "source": [
    "num = int(input(\"Digite um número inteiro: \"))\n",
    "\n",
    "while num <=0:\n",
    "    print(\"numero errado\")\n",
    "    num = int(input(\"Digite um numero inteiro:\"))\n",
    "    \n",
    "print(f\"{num}é um numero maior ou igual a zero \")\n",
    "\n"
   ]
  },
  {
   "cell_type": "markdown",
   "id": "e3a6c527-ccfc-457c-9400-002802de044b",
   "metadata": {},
   "source": [
    "---"
   ]
  },
  {
   "cell_type": "markdown",
   "id": "16d3fc53-96a9-4edf-8688-c23a60ab67ab",
   "metadata": {},
   "source": [
    "### Exercício 11\n",
    "\n",
    "Utilizando a instrução while, crie um programa que peça para o usuário **'Digitar um texto'** e enquanto o usuário digitar uma palavra com **menos que 6** caracteres continue executando o código."
   ]
  },
  {
   "cell_type": "code",
   "execution_count": 1,
   "id": "38bb2a63-b5ee-49f5-ab8e-32ad0579a2e9",
   "metadata": {},
   "outputs": [
    {
     "name": "stdout",
     "output_type": "stream",
     "text": [
      "errado\n",
      "acertouuuu\n"
     ]
    }
   ],
   "source": [
    "texto= input(\"digite um texto:\")\n",
    "\n",
    "while len(texto) <6 :\n",
    "    print(\"errado\")\n",
    "    texto= input(\"digite um texto com mais 6 caracteres:\")\n",
    "print(\"acertouuuu\")\n",
    "\n"
   ]
  },
  {
   "cell_type": "markdown",
   "id": "b277f9bd-6c08-4376-84ce-2366ecfcdcc3",
   "metadata": {},
   "source": [
    "---"
   ]
  },
  {
   "cell_type": "markdown",
   "id": "f9540547-db11-4bd1-8307-064b82f09c20",
   "metadata": {},
   "source": [
    "### Exercício 12\n",
    "\n",
    "Crie uma variável e atribua a ela o valor 0, utilizando a instrção while, crie um programa que peça para o usuário digitar um número inteiro e a cada vez que o usuário digitar um número some o valor informado a variável criada. \n",
    "\n",
    "Enquando a variável criada for **menor que 100** continue executando o código."
   ]
  },
  {
   "cell_type": "code",
   "execution_count": 3,
   "id": "422e0260-d6d9-4930-9601-b39d209a43fd",
   "metadata": {
    "tags": []
   },
   "outputs": [
    {
     "name": "stdout",
     "output_type": "stream",
     "text": [
      "A soma total é: 100\n"
     ]
    }
   ],
   "source": [
    "numero = int(input('Digite um número inteiro: '))\n",
    "\n",
    "soma = 0\n",
    "while soma < 100:\n",
    "    soma += numero  \n",
    "\n",
    "print('A soma total é:', soma)\n",
    "\n",
    "\n"
   ]
  },
  {
   "cell_type": "markdown",
   "id": "d2f352c3-9a73-4042-986a-2710abbebf85",
   "metadata": {},
   "source": [
    "---"
   ]
  }
 ],
 "metadata": {
  "kernelspec": {
   "display_name": "Python 3",
   "language": "python",
   "name": "python3"
  },
  "language_info": {
   "codemirror_mode": {
    "name": "ipython",
    "version": 3
   },
   "file_extension": ".py",
   "mimetype": "text/x-python",
   "name": "python",
   "nbconvert_exporter": "python",
   "pygments_lexer": "ipython3",
   "version": "3.12.0"
  }
 },
 "nbformat": 4,
 "nbformat_minor": 5
}
