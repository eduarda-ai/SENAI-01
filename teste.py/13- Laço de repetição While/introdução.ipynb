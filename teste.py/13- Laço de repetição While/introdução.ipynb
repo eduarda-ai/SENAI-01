{
 "cells": [
  {
   "cell_type": "code",
   "execution_count": null,
   "metadata": {},
   "outputs": [],
   "source": [
    "acumulador = 0\n",
    "\n",
    "# Enquanto o acumulador for menor do que 5 o bloco de código abaixo será executado\n",
    "while acumulador < 5:\n",
    "\n",
    "\tacumulador = acumulador + 1\n",
    "\tprint(f'O valor atual do acumulador é {acumulador}.')\n",
    "\n",
    "print(\"fimm\")"
   ]
  },
  {
   "cell_type": "code",
   "execution_count": null,
   "metadata": {},
   "outputs": [],
   "source": [
    "acumulador = 0\n",
    "\n",
    "# Enquanto o acumulador for menor do que 10 o bloco de código abaixo será executado\n",
    "while acumulador < 10:\n",
    "\n",
    "\tacumulador = acumulador + 1\n",
    "\t\n",
    "\t# Se o valor do acumulador for maior do que 5 interrompa o laço\n",
    "\tif acumulador > 5:\n",
    "\t\tbreak\n",
    "\n",
    "\tprint(f'O valor atual do acumulador é {acumulador}.')"
   ]
  },
  {
   "cell_type": "code",
   "execution_count": null,
   "metadata": {},
   "outputs": [],
   "source": [
    "while True:\n",
    "\n",
    "\tsenha = input('Digite a senha:')\n",
    "\t\n",
    "\tif senha == '123456':\n",
    "\t\tbreak"
   ]
  },
  {
   "cell_type": "code",
   "execution_count": null,
   "metadata": {},
   "outputs": [],
   "source": [
    "acumulador = 0\n",
    "\n",
    "while True:\n",
    "\n",
    "\tacumulador += 1\n",
    "\t\n",
    "\tif acumulador > 5:\n",
    "\t\tbreak\n",
    "\t\t\n",
    "\tprint(f'O valor atual do acumulador é {acumulador}.')"
   ]
  },
  {
   "cell_type": "code",
   "execution_count": null,
   "metadata": {},
   "outputs": [],
   "source": [
    "senha = input(\"digite a senha:\")\n",
    "\n",
    "while senha !=\"123\":\n",
    "    print(\"senha incorreta\")\n",
    "    senha = input(\"digite a senha :\")\n",
    "print(\"acertouuuu\")"
   ]
  },
  {
   "cell_type": "code",
   "execution_count": null,
   "metadata": {},
   "outputs": [],
   "source": [
    "erro=0\n",
    "senha = input(\"Digite a senha: \")\n",
    "\n",
    "while senha !=\"123\":\n",
    "    \n",
    "    if erro ==2:\n",
    "        print(\"usuario bloqueado, contate o adm\")\n",
    "        break\n",
    "    else:\n",
    "        erro = erro + 1\n",
    "        print(\"senha incorreta\")\n",
    "        senha = input(\"digite a senha:\")"
   ]
  },
  {
   "cell_type": "code",
   "execution_count": null,
   "metadata": {},
   "outputs": [],
   "source": [
    "\n",
    "#loop infinito\n",
    "while True:\n",
    "    print(\"infinito\")"
   ]
  }
 ],
 "metadata": {
  "kernelspec": {
   "display_name": "Python 3",
   "language": "python",
   "name": "python3"
  },
  "language_info": {
   "codemirror_mode": {
    "name": "ipython",
    "version": 3
   },
   "file_extension": ".py",
   "mimetype": "text/x-python",
   "name": "python",
   "nbconvert_exporter": "python",
   "pygments_lexer": "ipython3",
   "version": "3.12.0"
  }
 },
 "nbformat": 4,
 "nbformat_minor": 2
}
