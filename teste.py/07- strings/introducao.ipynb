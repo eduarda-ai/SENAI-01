{
 "cells": [
  {
   "cell_type": "code",
   "execution_count": 1,
   "metadata": {},
   "outputs": [
    {
     "data": {
      "text/plain": [
       "'PROGRAMAÇÃO EM PYTHON'"
      ]
     },
     "execution_count": 1,
     "metadata": {},
     "output_type": "execute_result"
    }
   ],
   "source": [
    "\"programação em python\". upper() #converte tudo para maiuscula\n",
    "\n"
   ]
  },
  {
   "cell_type": "code",
   "execution_count": 2,
   "metadata": {},
   "outputs": [
    {
     "name": "stdout",
     "output_type": "stream",
     "text": [
      "PROGRAMAÇÃO EM PYTHON\n",
      "DUDA\n"
     ]
    }
   ],
   "source": [
    "#funçao vs metodo\n",
    "\n",
    "#função(valor) \n",
    "# valor.metodo()\n",
    "\n",
    "\n",
    "print(\"programação em python\".upper())\n",
    "\n",
    "nome=\"duda\"\n",
    "print(nome.upper())\n",
    "\n",
    "\n"
   ]
  },
  {
   "cell_type": "code",
   "execution_count": 4,
   "metadata": {},
   "outputs": [
    {
     "name": "stdout",
     "output_type": "stream",
     "text": [
      "aula 1\n"
     ]
    }
   ],
   "source": [
    "# lower() letra minuscula\n",
    "\n",
    "print(\"AULA 1\".lower())\n"
   ]
  },
  {
   "cell_type": "code",
   "execution_count": null,
   "metadata": {},
   "outputs": [],
   "source": [
    "#title() converte a primeira letra em maiuscula \n",
    "\n",
    "\n",
    "nome = \"JULIA tal\"\n",
    "nome1 = \"kaike COISA\"\n",
    "\n",
    "\n",
    "print(nome.title())"
   ]
  },
  {
   "cell_type": "code",
   "execution_count": 6,
   "metadata": {},
   "outputs": [
    {
     "name": "stdout",
     "output_type": "stream",
     "text": [
      "Antes do replace\n",
      "Depois do replace\n"
     ]
    }
   ],
   "source": [
    "#replace() substitui o valor informado por um novo valor\n",
    "\n",
    "\n",
    "print(\"Antes do replace\") \n",
    "print(\"Antes do replace\".replace(\"Antes\", \"Depois\")) "
   ]
  },
  {
   "cell_type": "code",
   "execution_count": 9,
   "metadata": {},
   "outputs": [
    {
     "name": "stdout",
     "output_type": "stream",
     "text": [
      "CASA SENSITIVE\n",
      "1.000.00\n"
     ]
    }
   ],
   "source": [
    "print(\"CASE SENSITIVE\".replace(\"case\".upper(), \"CASA\")) \n",
    "\n",
    "print(\"1,000,00\".replace(\",\",\".\"))"
   ]
  },
  {
   "cell_type": "code",
   "execution_count": 12,
   "metadata": {},
   "outputs": [
    {
     "name": "stdout",
     "output_type": "stream",
     "text": [
      "    inicio    meio    fim   \n",
      "inicio    meio    fim\n"
     ]
    }
   ],
   "source": [
    "#strip() remove espaço lateral\n",
    "\n",
    "print(   \"    inicio    meio    fim   \" )\n",
    "print(   \"    inicio    meio    fim   \" .strip() )"
   ]
  },
  {
   "cell_type": "code",
   "execution_count": 14,
   "metadata": {},
   "outputs": [
    {
     "name": "stdout",
     "output_type": "stream",
     "text": [
      "4\n"
     ]
    }
   ],
   "source": [
    "#count () retorna a quantidade de vezes que o valor informado é encontrado\n",
    "\n",
    "\n",
    "msg = \"eduarda lino dos santos silva\"\n",
    "print(msg.count(\"a\"))"
   ]
  },
  {
   "cell_type": "code",
   "execution_count": 17,
   "metadata": {},
   "outputs": [
    {
     "name": "stdout",
     "output_type": "stream",
     "text": [
      "1\n"
     ]
    }
   ],
   "source": [
    "msg = \"Eduarda lino dos santos silva\".upper()\n",
    "\n",
    "print(msg.count(\"E\"))\n"
   ]
  },
  {
   "cell_type": "code",
   "execution_count": 18,
   "metadata": {},
   "outputs": [
    {
     "data": {
      "text/plain": [
       "1"
      ]
     },
     "execution_count": 18,
     "metadata": {},
     "output_type": "execute_result"
    }
   ],
   "source": [
    "#metodos alinhados \n",
    "\n",
    "\"Eduarda lino dos santos silva\".upper().count(\"E\")"
   ]
  },
  {
   "cell_type": "code",
   "execution_count": 23,
   "metadata": {},
   "outputs": [
    {
     "name": "stdout",
     "output_type": "stream",
     "text": [
      "007\n",
      "100\n"
     ]
    }
   ],
   "source": [
    "#zfill() preenche com zero a esquerda\n",
    "\n",
    "print(\"7\".zfill(3))\n",
    "\n",
    "print(\"100\".zfill(3))\n"
   ]
  },
  {
   "cell_type": "code",
   "execution_count": 24,
   "metadata": {},
   "outputs": [
    {
     "name": "stdout",
     "output_type": "stream",
     "text": [
      "True\n",
      "False\n"
     ]
    }
   ],
   "source": [
    "#endswith () retorna true se o valor informado estiver no final da string\n",
    "\n",
    "\n",
    "print(\"senai 404\".endswith(\"404\"))\n",
    "print(\"senai 402\".endswith(\"404\"))"
   ]
  },
  {
   "cell_type": "code",
   "execution_count": 26,
   "metadata": {},
   "outputs": [
    {
     "name": "stdout",
     "output_type": "stream",
     "text": [
      "senai itavuvu\n"
     ]
    }
   ],
   "source": [
    "escola = \"senai 404\".endswith(\"404\")\n",
    "if escola:\n",
    "    print(\"senai itavuvu\")\n",
    "else:\n",
    "    print(\"senai santa r.\")"
   ]
  },
  {
   "cell_type": "code",
   "execution_count": 25,
   "metadata": {},
   "outputs": [
    {
     "name": "stdout",
     "output_type": "stream",
     "text": [
      "True\n",
      "False\n"
     ]
    }
   ],
   "source": [
    "#startswuith retona true se estiver no começo da string\n",
    "\n",
    "\n",
    "print(\"sorocaba/sp\".startswith(\"sorocaba\"))\n",
    "print(\"itu/sp\".startswith(\"sorocaba\"))"
   ]
  },
  {
   "cell_type": "code",
   "execution_count": null,
   "metadata": {},
   "outputs": [],
   "source": [
    "estado = \"rio grande do sul\".count"
   ]
  },
  {
   "cell_type": "code",
   "execution_count": 27,
   "metadata": {},
   "outputs": [
    {
     "name": "stdout",
     "output_type": "stream",
     "text": [
      "False\n",
      "False\n"
     ]
    }
   ],
   "source": [
    "#isalpha retorna true se todos os caracteres forem todas as letras\n",
    "\n",
    "print(\" senai\".isalpha())\n",
    "print(\" senai1\".isalpha())"
   ]
  },
  {
   "cell_type": "code",
   "execution_count": 28,
   "metadata": {},
   "outputs": [
    {
     "name": "stdout",
     "output_type": "stream",
     "text": [
      "True\n",
      "False\n"
     ]
    }
   ],
   "source": [
    "#isdecimal() retorna true se forem numeros decimal(0-9)\n",
    "\n",
    "\n",
    "print(\"1234\".isdecimal())\n",
    "print(\"A1234\".isdecimal())"
   ]
  },
  {
   "cell_type": "code",
   "execution_count": 30,
   "metadata": {},
   "outputs": [
    {
     "name": "stdout",
     "output_type": "stream",
     "text": [
      "True\n",
      "True\n",
      "True\n"
     ]
    }
   ],
   "source": [
    "#isalnum () retorna true se houver letras ou numeros\n",
    "\n",
    "print(\"Kat1a\".isalnum())\n",
    "print(\"1234\".isalnum())\n",
    "print(\"eduarda\".isalnum())\n"
   ]
  }
 ],
 "metadata": {
  "kernelspec": {
   "display_name": "Python 3",
   "language": "python",
   "name": "python3"
  },
  "language_info": {
   "codemirror_mode": {
    "name": "ipython",
    "version": 3
   },
   "file_extension": ".py",
   "mimetype": "text/x-python",
   "name": "python",
   "nbconvert_exporter": "python",
   "pygments_lexer": "ipython3",
   "version": "3.12.0"
  }
 },
 "nbformat": 4,
 "nbformat_minor": 2
}
