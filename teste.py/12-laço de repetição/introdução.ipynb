{
 "cells": [
  {
   "cell_type": "code",
   "execution_count": null,
   "metadata": {},
   "outputs": [],
   "source": [
    "#sem utilizar a intrução for\n",
    "\n",
    "valores=[1,2,3,4,5]\n",
    "\n",
    "print(valores [1]*5)\n"
   ]
  },
  {
   "cell_type": "code",
   "execution_count": 7,
   "metadata": {},
   "outputs": [
    {
     "name": "stdout",
     "output_type": "stream",
     "text": [
      "5\n",
      "10\n",
      "15\n",
      "20\n",
      "25\n"
     ]
    }
   ],
   "source": [
    "#utilizando o for\n",
    "\n",
    "for valor in valores:\n",
    "    print(valor * 5)\n",
    "\n",
    "\n"
   ]
  },
  {
   "cell_type": "code",
   "execution_count": null,
   "metadata": {},
   "outputs": [],
   "source": []
  },
  {
   "cell_type": "code",
   "execution_count": 9,
   "metadata": {},
   "outputs": [
    {
     "name": "stdout",
     "output_type": "stream",
     "text": [
      "0\n",
      "1\n",
      "2\n",
      "3\n",
      "4\n",
      "5\n",
      "6\n",
      "7\n",
      "8\n",
      "9\n"
     ]
    }
   ],
   "source": [
    "for x in range(10):\n",
    "    print(x)"
   ]
  },
  {
   "cell_type": "code",
   "execution_count": 2,
   "metadata": {},
   "outputs": [
    {
     "ename": "IndentationError",
     "evalue": "expected an indented block after 'for' statement on line 4 (591310223.py, line 5)",
     "output_type": "error",
     "traceback": [
      "\u001b[1;36m  Cell \u001b[1;32mIn[2], line 5\u001b[1;36m\u001b[0m\n\u001b[1;33m    print(x)\u001b[0m\n\u001b[1;37m    ^\u001b[0m\n\u001b[1;31mIndentationError\u001b[0m\u001b[1;31m:\u001b[0m expected an indented block after 'for' statement on line 4\n"
     ]
    }
   ],
   "source": [
    "#range inicio e fim\n",
    "\n",
    "\n",
    "for x in range (5,0,-1):\n",
    "print(x)"
   ]
  },
  {
   "cell_type": "code",
   "execution_count": 4,
   "metadata": {},
   "outputs": [
    {
     "name": "stdout",
     "output_type": "stream",
     "text": [
      "o numero 1 é impar\n",
      "o numero 2 é par\n",
      "o numero 3 é impar\n",
      "o numero 4 é par\n",
      "o numero 5 é impar\n"
     ]
    }
   ],
   "source": [
    "\n",
    "valores=[1,2,3,4,5]\n",
    "\n",
    "for valor in valores:\n",
    "    resto = valor %2\n",
    "    if resto ==0:\n",
    "        print(f\"o numero {valor} é par\")\n",
    "    else:\n",
    "        print(f\"o numero {valor} é impar\")"
   ]
  },
  {
   "cell_type": "code",
   "execution_count": 5,
   "metadata": {},
   "outputs": [
    {
     "name": "stdout",
     "output_type": "stream",
     "text": [
      "a letra s é um consoante\n",
      "a letra e é um vogal\n",
      "a letra n é um consoante\n",
      "a letra a é um vogal\n",
      "a letra i é um vogal\n"
     ]
    }
   ],
   "source": [
    "for letra in \"senai\":\n",
    "    if letra in [\"a\", \"e\", \"i\", \"o\", \"u\"]:\n",
    "        print(f\"a letra {letra} é um vogal\")\n",
    "    else:\n",
    "        print(f\"a letra {letra} é um consoante\")"
   ]
  }
 ],
 "metadata": {
  "kernelspec": {
   "display_name": "Python 3",
   "language": "python",
   "name": "python3"
  },
  "language_info": {
   "codemirror_mode": {
    "name": "ipython",
    "version": 3
   },
   "file_extension": ".py",
   "mimetype": "text/x-python",
   "name": "python",
   "nbconvert_exporter": "python",
   "pygments_lexer": "ipython3",
   "version": "3.12.0"
  }
 },
 "nbformat": 4,
 "nbformat_minor": 2
}
