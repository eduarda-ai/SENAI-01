{
 "cells": [
  {
   "cell_type": "markdown",
   "id": "63c9e98e-1c8f-488d-b939-36da825dcff0",
   "metadata": {},
   "source": [
    "# <font color='OrangeRed'><center>Exercícios - Listas: Iteração de listas</center></font>"
   ]
  },
  {
   "cell_type": "markdown",
   "id": "19af7e00-c587-4f7a-92d1-810aba6506ee",
   "metadata": {},
   "source": [
    "### Exercício 01\n",
    "\n",
    "Faça um programa que percorra a lista abaixo e para cada número da lista retorne o valor do número multiplicado por 2."
   ]
  },
  {
   "cell_type": "code",
   "execution_count": 2,
   "id": "bfc77199-4454-4a49-b7a4-36fe288efdcb",
   "metadata": {},
   "outputs": [
    {
     "name": "stdout",
     "output_type": "stream",
     "text": [
      "2\n",
      "4\n",
      "6\n",
      "8\n",
      "10\n",
      "12\n",
      "14\n",
      "16\n",
      "18\n",
      "20\n"
     ]
    }
   ],
   "source": [
    "numeros = [1, 2, 3, 4, 5, 6, 7, 8, 9, 10]\n",
    "\n",
    "for valor in numeros:\n",
    "    print(valor * 2)"
   ]
  },
  {
   "cell_type": "markdown",
   "id": "55e6813b-6d93-4023-8efc-de057619dca7",
   "metadata": {},
   "source": [
    "---"
   ]
  },
  {
   "cell_type": "markdown",
   "id": "b3be1f14-ed95-4836-baf4-bc3915a4a033",
   "metadata": {},
   "source": [
    "### Exercício 02\n",
    "\n",
    "Faça um programa que peça ao usuário digitar um número inteiro e em seguida multiplique o valor do número informado por cada número da lista abaixo."
   ]
  },
  {
   "cell_type": "code",
   "execution_count": 4,
   "id": "c1dbd734-3f58-477b-8a18-20e073432670",
   "metadata": {},
   "outputs": [
    {
     "name": "stdout",
     "output_type": "stream",
     "text": [
      "3\n",
      "6\n",
      "9\n",
      "12\n",
      "15\n",
      "18\n",
      "21\n",
      "24\n",
      "27\n",
      "30\n"
     ]
    }
   ],
   "source": [
    "numeros = [1, 2, 3, 4, 5, 6, 7, 8, 9, 10]\n",
    "\n",
    "num1 = int(input(\"Digite um numero inteiro: \"))\n",
    "\n",
    "\n",
    "for valor in numeros:\n",
    "    print(num1 * valor)\n"
   ]
  },
  {
   "cell_type": "markdown",
   "id": "3aebfcf0-4c30-4b97-b077-243b6e8df049",
   "metadata": {},
   "source": [
    "---"
   ]
  },
  {
   "cell_type": "markdown",
   "id": "92a388a9-308c-43c3-a10a-7d3b7d949cd4",
   "metadata": {},
   "source": [
    "### Exercício 03\n",
    "\n",
    "Faça um programa que percorra a lista abaixo e para cada linguagem retorne a frase 'Eu quero aprender {nome da linguagem}'"
   ]
  },
  {
   "cell_type": "code",
   "execution_count": 5,
   "id": "c1e7740b-cae5-4180-bc6c-15456ef760ad",
   "metadata": {},
   "outputs": [
    {
     "name": "stdout",
     "output_type": "stream",
     "text": [
      "Eu quero aprender C\n",
      "Eu quero aprender C++\n",
      "Eu quero aprender Java\n",
      "Eu quero aprender Python\n",
      "Eu quero aprender Ruby\n",
      "Eu quero aprender PHP\n",
      "Eu quero aprender R\n",
      "Eu quero aprender GoLang\n",
      "Eu quero aprender Kotlin\n",
      "Eu quero aprender React\n"
     ]
    }
   ],
   "source": [
    "linguagens = ['C', 'C++', 'Java', 'Python', 'Ruby', 'PHP', 'R', 'GoLang', 'Kotlin', 'React']\n",
    "\n",
    "for linguagem in linguagens:\n",
    "    print(f\"Eu quero aprender {linguagem}\")"
   ]
  },
  {
   "cell_type": "markdown",
   "id": "62eb3cd3-daf1-4d64-99a7-189d5f7a5641",
   "metadata": {},
   "source": [
    "---"
   ]
  },
  {
   "cell_type": "markdown",
   "id": "61d4dce0-c6a2-4533-81b8-0736eaa0dfdb",
   "metadata": {},
   "source": [
    "### Exercício 04\n",
    "\n",
    "Faça um programa que percorra a lista abaixo e retorne somente os números pares."
   ]
  },
  {
   "cell_type": "code",
   "execution_count": 9,
   "id": "bc4b6230-be47-4814-a6aa-3e7ddd65d1ac",
   "metadata": {},
   "outputs": [
    {
     "name": "stdout",
     "output_type": "stream",
     "text": [
      "2\n",
      "4\n",
      "6\n",
      "8\n",
      "10\n"
     ]
    }
   ],
   "source": [
    "numeros = [1, 2, 3, 4, 5, 6, 7, 8, 9, 10]\n",
    "\n",
    "\n",
    "for numero in numeros:\n",
    "    if numero % 2 == 0:\n",
    "        print(numero)\n",
    "\n",
    "    "
   ]
  },
  {
   "cell_type": "markdown",
   "id": "d42188f4-17ff-442b-94c6-e0cc30a4de76",
   "metadata": {},
   "source": [
    "---"
   ]
  },
  {
   "cell_type": "markdown",
   "id": "f5f2b493-54f1-41c0-b017-f727d2e67b48",
   "metadata": {},
   "source": [
    "### Exercício 05\n",
    "\n",
    "Faça um programa que percorra a palavra imprimindo se a letra é uma vogal ou uma consoante."
   ]
  },
  {
   "cell_type": "code",
   "execution_count": 11,
   "id": "7c82631a-d6d8-4b1b-a608-5363a42f3121",
   "metadata": {},
   "outputs": [
    {
     "name": "stdout",
     "output_type": "stream",
     "text": [
      "a letra P é um consoante\n",
      "a letra y é um consoante\n",
      "a letra t é um consoante\n",
      "a letra h é um consoante\n",
      "a letra o é um vogal\n",
      "a letra n é um consoante\n"
     ]
    }
   ],
   "source": [
    "for palavra in 'Python':\n",
    "\n",
    " if palavra in [\"a\", \"e\", \"i\", \"o\", \"u\"]:\n",
    "    print(f\"a letra {palavra} é um vogal\")\n",
    " else:\n",
    "    print(f\"a letra {palavra} é um consoante\")\n"
   ]
  },
  {
   "cell_type": "markdown",
   "id": "e4a59ea9-6b49-4931-b70e-c8941fb5f688",
   "metadata": {},
   "source": [
    "---"
   ]
  },
  {
   "cell_type": "markdown",
   "id": "85f51090-7805-40be-b293-1f68614f895f",
   "metadata": {},
   "source": [
    "### Exercício 06\n",
    "\n",
    "Faça um programa que percorra a lista de frutas abaixo e crie uma condicional if/else para que se o valor for igual a **'Abacaxi'** retorne **'Eu gosto de Abacaxi'**, para todas as demais retorne **'Eu não gosto de {nome da fruta}'**:\n"
   ]
  },
  {
   "cell_type": "code",
   "execution_count": 12,
   "id": "b8bada26-12b0-4c15-9f28-cd46b0ec7d8a",
   "metadata": {},
   "outputs": [
    {
     "name": "stdout",
     "output_type": "stream",
     "text": [
      "Eu não gosto de Maçã\n",
      "Eu não gosto de Banana\n",
      "Eu não gosto de Jaca\n",
      "Eu não gosto de Melão\n",
      "Eu gosto de Abacaxi\n",
      "Eu não gosto de Kiwi\n",
      "Eu não gosto de Cereja\n"
     ]
    }
   ],
   "source": [
    "frutas = ['Maçã', 'Banana', 'Jaca', 'Melão', 'Abacaxi', 'Kiwi', 'Cereja']\n",
    "\n",
    "\n",
    "for fruta in frutas:\n",
    "    if fruta == 'Abacaxi':\n",
    "        print('Eu gosto de Abacaxi')\n",
    "    else:\n",
    "        print(f'Eu não gosto de {fruta}')\n",
    "\n",
    "\n"
   ]
  },
  {
   "cell_type": "markdown",
   "id": "6c0b5a50-fa4d-4352-8f43-8b0eacec49f4",
   "metadata": {},
   "source": [
    "---"
   ]
  },
  {
   "cell_type": "markdown",
   "id": "e469fb5f-0eb7-42b6-9304-050f66eeab98",
   "metadata": {},
   "source": [
    "### Exercício 07\n",
    "\n",
    "Faça um programa que percorra a lista abaixo e que imprima o número convertido para negativo.  \n",
    "\n",
    "Por exemplo: Quando for o número 5 imprima -5:"
   ]
  },
  {
   "cell_type": "code",
   "execution_count": 15,
   "id": "875db15d-6510-465c-baf6-3ea12184d714",
   "metadata": {},
   "outputs": [
    {
     "name": "stdout",
     "output_type": "stream",
     "text": [
      "-1\n",
      "-2\n",
      "-3\n",
      "-4\n",
      "-5\n",
      "-6\n",
      "-7\n",
      "-8\n",
      "-9\n",
      "-10\n"
     ]
    }
   ],
   "source": [
    "numeros = [1, 2, 3, 4, 5, 6, 7, 8, 9, 10]\n",
    "\n",
    "for numero in numeros:\n",
    "    print(-numero)\n"
   ]
  },
  {
   "cell_type": "markdown",
   "id": "51ae3b92-8115-4442-8ce6-f4fe9dbf2271",
   "metadata": {},
   "source": [
    "---"
   ]
  },
  {
   "cell_type": "markdown",
   "id": "88005072-8eed-42ef-8ebf-82d71eab2584",
   "metadata": {},
   "source": [
    "### Exercício 08\n",
    "\n",
    "Faça um programa que percorra a lista de números abaixo e para cada número da lista faça uma validação com uma condicional if/else para que imprima se o número é **maior** ou **menor** do que 10."
   ]
  },
  {
   "cell_type": "code",
   "execution_count": 16,
   "id": "734f9eb6-dffa-43ff-845f-06afc6c84db6",
   "metadata": {},
   "outputs": [
    {
     "name": "stdout",
     "output_type": "stream",
     "text": [
      "1 é menor ou igual a 10\n",
      "20 é maior que 10\n",
      "3 é menor ou igual a 10\n",
      "40 é maior que 10\n",
      "5 é menor ou igual a 10\n",
      "60 é maior que 10\n",
      "7 é menor ou igual a 10\n",
      "80 é maior que 10\n",
      "9 é menor ou igual a 10\n",
      "100 é maior que 10\n"
     ]
    }
   ],
   "source": [
    "numeros = [1, 20, 3, 40, 5, 60, 7, 80, 9, 100]\n",
    "\n",
    "\n",
    "for numero in numeros:\n",
    "    if numero > 10:\n",
    "        print(f\"{numero} é maior que 10\")\n",
    "    else:\n",
    "        print(f\"{numero} é menor ou igual a 10\")"
   ]
  },
  {
   "cell_type": "markdown",
   "id": "9e010d29-74f1-444c-9cc6-b94e3e781112",
   "metadata": {},
   "source": [
    "---"
   ]
  },
  {
   "cell_type": "markdown",
   "id": "33cb5e92-2185-4894-a598-56ba9ef6d82d",
   "metadata": {},
   "source": [
    "### Exercício 09\n",
    "\n",
    "Faça um programa que percorra a lista abaixo e para cada número da lista faça uma validação com uma condicional if/else para que imprima somente os números divisíveis por 3.\n",
    "\n",
    "**Dica:**  \n",
    "_Utilize o operador módulo %_"
   ]
  },
  {
   "cell_type": "code",
   "execution_count": 17,
   "id": "20f82e9c-5cf1-4537-acea-61a964ad9066",
   "metadata": {},
   "outputs": [
    {
     "name": "stdout",
     "output_type": "stream",
     "text": [
      "3\n",
      "6\n",
      "9\n"
     ]
    }
   ],
   "source": [
    "numeros = [1, 2, 3, 4, 5, 6, 7, 8, 9, 10]\n",
    "\n",
    "\n",
    "for numero in numeros:\n",
    "    if numero % 3 == 0:  \n",
    "        print(numero)\n"
   ]
  },
  {
   "cell_type": "markdown",
   "id": "c9ebe4d6-d271-42f5-aa43-de3a6c9eed95",
   "metadata": {},
   "source": [
    "---"
   ]
  },
  {
   "cell_type": "markdown",
   "id": "df98807f-2256-4341-ad5a-5f673507d01b",
   "metadata": {},
   "source": [
    "### Exercício 10\n",
    "\n",
    "Faça um programa que percorra a lista abaixo e para cada número da lista faça uma validação com uma condicional if/else para que imprima somente os números divisíveis por 5.\n",
    "\n",
    "**Dica:**  \n",
    "_Utilize o operador módulo %_"
   ]
  },
  {
   "cell_type": "code",
   "execution_count": 18,
   "id": "e9a5c7c0-611a-4dc8-95b1-b4df1f35a7a3",
   "metadata": {},
   "outputs": [
    {
     "name": "stdout",
     "output_type": "stream",
     "text": [
      "10\n",
      "35\n",
      "50\n",
      "80\n",
      "90\n"
     ]
    }
   ],
   "source": [
    "numeros = [10, 22, 35, 44, 50, 69, 78, 80, 89, 90]\n",
    "\n",
    "\n",
    "for numero in numeros:\n",
    "    if numero % 5 == 0:  \n",
    "        print(numero)\n"
   ]
  },
  {
   "cell_type": "markdown",
   "id": "e9833443-a8fa-4ecc-8e61-234cb33ef25d",
   "metadata": {},
   "source": [
    "---"
   ]
  },
  {
   "cell_type": "markdown",
   "id": "903bc83d-7941-456d-819b-2dae54e37622",
   "metadata": {},
   "source": [
    "### Exercício 11\n",
    "\n",
    "Faça um programa que peça ao usuário digitar uma palavra e em seguida percorra a palavra imprimindo uma letra de cada vezes. "
   ]
  },
  {
   "cell_type": "code",
   "execution_count": 19,
   "id": "e1e16672-6efb-4287-a4e9-1cc0b797917e",
   "metadata": {},
   "outputs": [
    {
     "name": "stdout",
     "output_type": "stream",
     "text": [
      "e\n",
      "d\n",
      "u\n",
      "a\n",
      "r\n",
      "d\n",
      "a\n"
     ]
    }
   ],
   "source": [
    "palavra = input('Digite uma palavra: ')\n",
    "\n",
    "\n",
    "for letra in palavra:\n",
    "    print(letra)\n"
   ]
  },
  {
   "cell_type": "markdown",
   "id": "be77a18a-0c4b-4b71-962c-fb8c80b8491e",
   "metadata": {},
   "source": [
    "---"
   ]
  },
  {
   "cell_type": "markdown",
   "id": "01437bdd-de6e-4e54-a51d-992a839088e6",
   "metadata": {},
   "source": [
    "### Exercício 12\n",
    "\n",
    "Faça um programa que percorra a lista abaixo e imprima apenas a primeira letra de cada palavra"
   ]
  },
  {
   "cell_type": "code",
   "execution_count": 20,
   "id": "ac0dd534-cb7e-4644-a090-da9d037d8257",
   "metadata": {
    "tags": []
   },
   "outputs": [
    {
     "name": "stdout",
     "output_type": "stream",
     "text": [
      "F\n",
      "I\n",
      "F\n",
      "A\n"
     ]
    }
   ],
   "source": [
    "siglas = ['Federação','Internacional','Futebol','Associado']\n",
    "\n",
    "\n",
    "for palavra in siglas:\n",
    "    print(palavra[0])  \n"
   ]
  },
  {
   "cell_type": "markdown",
   "id": "2c5504f4-d843-437c-9676-c4bd6f672d72",
   "metadata": {},
   "source": [
    "---"
   ]
  },
  {
   "cell_type": "markdown",
   "id": "704f1783-1a76-4ca1-8a20-65dabdd68217",
   "metadata": {
    "tags": []
   },
   "source": [
    "### Exercício 13\n",
    "\n",
    "Faça um programa que percorra a lista abaixo e imprima cada um dos números abaixo elevado ao quadrado\n",
    "\n",
    "**Fórmula:**  \n",
    "_n²_"
   ]
  },
  {
   "cell_type": "code",
   "execution_count": 21,
   "id": "71055bfa-d648-448e-884b-76cdcb0b8807",
   "metadata": {
    "tags": []
   },
   "outputs": [
    {
     "name": "stdout",
     "output_type": "stream",
     "text": [
      "1\n",
      "4\n",
      "9\n",
      "16\n",
      "25\n",
      "36\n",
      "49\n",
      "64\n",
      "81\n",
      "100\n"
     ]
    }
   ],
   "source": [
    "numeros = [1, 2, 3, 4, 5, 6, 7, 8, 9, 10]\n",
    "\n",
    "for numero in numeros:\n",
    "    print(numero ** 2)"
   ]
  },
  {
   "cell_type": "markdown",
   "id": "d3c259c9-78dd-4ebd-b1d5-5a1e6e1fdf81",
   "metadata": {},
   "source": [
    "---"
   ]
  },
  {
   "cell_type": "markdown",
   "id": "3f25a086-8683-4f44-b7cd-bdbae52a61e0",
   "metadata": {
    "tags": []
   },
   "source": [
    "### Exercício 14\n",
    "\n",
    "Escreva um programa que imprima todos os números da lista que são menores que o número 7."
   ]
  },
  {
   "cell_type": "code",
   "execution_count": 22,
   "id": "d357d9d5-efc6-4ea5-88cf-677386fcd7e9",
   "metadata": {
    "tags": []
   },
   "outputs": [
    {
     "name": "stdout",
     "output_type": "stream",
     "text": [
      "1\n",
      "3\n",
      "4\n",
      "5\n"
     ]
    }
   ],
   "source": [
    "numeros = [1, 3, 4, 5, 8, 11, 13, 21, 25, 29]\n",
    "\n",
    "\n",
    "for numero in numeros:\n",
    "    if numero < 7: \n",
    "        print(numero)\n"
   ]
  },
  {
   "cell_type": "markdown",
   "id": "afa4a536-cd88-463f-ba2a-0f4e8ebb29c5",
   "metadata": {},
   "source": [
    "---"
   ]
  }
 ],
 "metadata": {
  "kernelspec": {
   "display_name": "Python 3",
   "language": "python",
   "name": "python3"
  },
  "language_info": {
   "codemirror_mode": {
    "name": "ipython",
    "version": 3
   },
   "file_extension": ".py",
   "mimetype": "text/x-python",
   "name": "python",
   "nbconvert_exporter": "python",
   "pygments_lexer": "ipython3",
   "version": "3.12.0"
  }
 },
 "nbformat": 4,
 "nbformat_minor": 5
}
