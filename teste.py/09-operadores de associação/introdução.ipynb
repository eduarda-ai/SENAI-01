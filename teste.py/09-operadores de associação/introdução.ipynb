{
 "cells": [
  {
   "cell_type": "code",
   "execution_count": null,
   "metadata": {},
   "outputs": [
    {
     "name": "stdout",
     "output_type": "stream",
     "text": [
      "True\n",
      "False\n"
     ]
    }
   ],
   "source": [
    "#operador \"in\"\n",
    "\n",
    "frutas = [\"banana\", \"mamao\", \"abacate\", \"kiwi\"]\n",
    "\n",
    "\n",
    "\n",
    "#verifica se o valor está presente na lista\n",
    "print(\"banana\" in frutas)#true\n",
    "print(\"morango\" in frutas)#true\n"
   ]
  },
  {
   "cell_type": "code",
   "execution_count": 4,
   "metadata": {},
   "outputs": [
    {
     "name": "stdout",
     "output_type": "stream",
     "text": [
      "True\n"
     ]
    }
   ],
   "source": [
    "frutas = [\"banana\", \"mamao\", \"abacate\", \"kiwi\"]\n",
    "\n",
    "print(\"banana\" in frutas or \"morango\" in frutas)#true\n",
    "\n"
   ]
  },
  {
   "cell_type": "code",
   "execution_count": 5,
   "metadata": {},
   "outputs": [
    {
     "name": "stdout",
     "output_type": "stream",
     "text": [
      "True\n",
      "True\n"
     ]
    }
   ],
   "source": [
    "curso = \"HTML\"\n",
    "letra = \"T\"\n",
    "\n",
    "print(\"H\" in curso)\n",
    "print(letra in \"HTML\")"
   ]
  },
  {
   "cell_type": "code",
   "execution_count": 6,
   "metadata": {},
   "outputs": [
    {
     "name": "stdout",
     "output_type": "stream",
     "text": [
      "True\n",
      "False\n"
     ]
    }
   ],
   "source": [
    "#operador not in\n",
    "\n",
    "nomes=[\"pedro\", \"jefs\", \"nanias\", \"doglas\"]\n",
    "\n",
    "\n",
    "\n",
    "\n",
    "print(\"claudio\" not in nomes )  #claudio não está presente na lisra - afirmação\n",
    "print(\"jefs\" not in nomes ) "
   ]
  },
  {
   "cell_type": "code",
   "execution_count": 7,
   "metadata": {},
   "outputs": [
    {
     "name": "stdout",
     "output_type": "stream",
     "text": [
      "o numero 5 está presente na lista\n"
     ]
    }
   ],
   "source": [
    "numeros = [1,2,3,4,5]\n",
    "\n",
    "if 5 in numeros:\n",
    "    print(\"o numero 5 está presente na lista\")\n",
    "\n",
    "else:\n",
    "    print(\"não está na lista\")"
   ]
  },
  {
   "cell_type": "code",
   "execution_count": 9,
   "metadata": {},
   "outputs": [
    {
     "name": "stdout",
     "output_type": "stream",
     "text": [
      "java está presente\n"
     ]
    }
   ],
   "source": [
    "lings = [\"c\", \"java\", \"js\", \"py\", \"php\"]\n",
    "\n",
    "ling = \"java\"\n",
    "\n",
    "if ling in lings:\n",
    "    print(f\"{ling} está presente\")\n",
    "\n",
    "else:\n",
    "    print(f\"{ling} está presente na lista\")"
   ]
  },
  {
   "cell_type": "code",
   "execution_count": 2,
   "metadata": {},
   "outputs": [
    {
     "name": "stdout",
     "output_type": "stream",
     "text": [
      "vogal\n"
     ]
    }
   ],
   "source": [
    "letra = \"a\"\n",
    "\n",
    "if letra in \"aeiouAEIOU\":\n",
    "    print(\"vogal\")\n",
    "\n",
    "else:\n",
    "    print(\"consoante\")"
   ]
  }
 ],
 "metadata": {
  "kernelspec": {
   "display_name": "Python 3",
   "language": "python",
   "name": "python3"
  },
  "language_info": {
   "codemirror_mode": {
    "name": "ipython",
    "version": 3
   },
   "file_extension": ".py",
   "mimetype": "text/x-python",
   "name": "python",
   "nbconvert_exporter": "python",
   "pygments_lexer": "ipython3",
   "version": "3.12.0"
  }
 },
 "nbformat": 4,
 "nbformat_minor": 2
}
