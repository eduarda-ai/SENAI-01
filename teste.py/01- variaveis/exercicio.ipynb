{
 "cells": [
  {
   "cell_type": "markdown",
   "id": "7b0d83b5-bfbc-403a-acb2-efb9c72c4569",
   "metadata": {},
   "source": [
    "# <font color='OrangeRed'><center>Exercícios - Variáveis</center></font>"
   ]
  },
  {
   "cell_type": "markdown",
   "id": "72475343-890c-4d84-b399-d1f42dca6019",
   "metadata": {},
   "source": [
    "### Exercício 01\n",
    "\n",
    "Imprima o valor da variável 'c'"
   ]
  },
  {
   "cell_type": "code",
   "execution_count": 1,
   "id": "b91989ff-4097-4641-9077-1878e47130a5",
   "metadata": {},
   "outputs": [
    {
     "name": "stdout",
     "output_type": "stream",
     "text": [
      "15\n"
     ]
    }
   ],
   "source": [
    "a = 5\n",
    "b = 10\n",
    "c = a + b\n",
    "print(c)"
   ]
  },
  {
   "cell_type": "markdown",
   "id": "df28b209-42db-437a-bde6-f885c62b4769",
   "metadata": {},
   "source": [
    "---"
   ]
  },
  {
   "cell_type": "markdown",
   "id": "33c98b45-152a-426d-ae12-c3eb234a67f9",
   "metadata": {},
   "source": [
    "### Exercício 02\n",
    "\n",
    "Imprima o valor da variável 'escola'"
   ]
  },
  {
   "cell_type": "code",
   "execution_count": 2,
   "id": "52a804b5-32e4-424f-9a8a-a58b61b6651b",
   "metadata": {},
   "outputs": [
    {
     "name": "stdout",
     "output_type": "stream",
     "text": [
      "SENAI Luiz Pagliato\n"
     ]
    }
   ],
   "source": [
    "escola = 'SENAI Luiz Pagliato'\n",
    "print(escola)"
   ]
  },
  {
   "cell_type": "markdown",
   "id": "44693095-afd7-438e-9b68-e7ae49c8b2c3",
   "metadata": {},
   "source": [
    "---"
   ]
  },
  {
   "cell_type": "markdown",
   "id": "fafbc675-5bb9-4dc0-ba12-45e60b1dc1f3",
   "metadata": {},
   "source": [
    "### Exercício 03\n",
    "\n",
    "Crie a variável 'z', em seguida atribua a ela o valor de 'x + y', por fim imprima o valor de 'z'"
   ]
  },
  {
   "cell_type": "code",
   "execution_count": 3,
   "id": "5e70830e-bf1a-49ea-abd0-c3f6a3d0a234",
   "metadata": {},
   "outputs": [
    {
     "name": "stdout",
     "output_type": "stream",
     "text": [
      "15\n"
     ]
    }
   ],
   "source": [
    "x = 7\n",
    "y = 8\n",
    "z = x +y\n",
    "print(z)"
   ]
  },
  {
   "cell_type": "markdown",
   "id": "b6d4b961-7b2f-4c8a-9849-a17b0c8ddeb2",
   "metadata": {},
   "source": [
    "---"
   ]
  },
  {
   "cell_type": "markdown",
   "id": "ec55c058-7200-410f-ae59-2f699123e4d5",
   "metadata": {},
   "source": [
    "### Exercício 04\n",
    "\n",
    "Crie a variável 't', em seguida atribua a ela o valor de 'r - s', por fim imprima o valor de 't'"
   ]
  },
  {
   "cell_type": "code",
   "execution_count": 4,
   "id": "a108852b-8488-40b9-92ba-55f4aadd62c7",
   "metadata": {},
   "outputs": [
    {
     "name": "stdout",
     "output_type": "stream",
     "text": [
      "2\n"
     ]
    }
   ],
   "source": [
    "r = 12\n",
    "s = 10\n",
    "t = r - s\n",
    "print(t)"
   ]
  },
  {
   "cell_type": "markdown",
   "id": "19cf80cc-9001-4c83-a7c7-5bc7eb298021",
   "metadata": {},
   "source": [
    "---"
   ]
  },
  {
   "cell_type": "markdown",
   "id": "813bef85-fba9-4075-a2f3-b521bf934cdc",
   "metadata": {},
   "source": [
    "### Exercício 05\n",
    "\n",
    "Crie a variável 'd', em seguida atribua a ela o valor de 'a + b + c', por fim imprima o valor de 'd'"
   ]
  },
  {
   "cell_type": "code",
   "execution_count": 5,
   "id": "d48a5691-392e-4e7f-b132-6e02d967676a",
   "metadata": {},
   "outputs": [
    {
     "name": "stdout",
     "output_type": "stream",
     "text": [
      "10\n"
     ]
    }
   ],
   "source": [
    "a = 2\n",
    "b = 3\n",
    "c = 5\n",
    "d = a + b + c\n",
    "print(d)"
   ]
  },
  {
   "cell_type": "markdown",
   "id": "b7760180-e1ca-4f4d-9252-257025df768a",
   "metadata": {},
   "source": [
    "---"
   ]
  },
  {
   "cell_type": "markdown",
   "id": "d3cbee2e-14bb-4836-842e-8246b4f4aab1",
   "metadata": {},
   "source": [
    "### Exercício 06\n",
    "\n",
    "Crie o algoritmo abaixo:\n",
    "1. Pergunte qual é o nome completo do usuário, salve o valor dentro de uma variável\n",
    "1. Imprima o nome informado\n",
    "\n",
    "**Entrada:**   \n",
    "_Digite seu nome completo:_  \n",
    "**Saída:**  \n",
    "_Lucas Proença_"
   ]
  },
  {
   "cell_type": "code",
   "execution_count": 13,
   "id": "bc7fd895-6d43-4e33-97e8-2fa38c648773",
   "metadata": {},
   "outputs": [
    {
     "name": "stdout",
     "output_type": "stream",
     "text": [
      "lucas\n"
     ]
    }
   ],
   "source": [
    "\n",
    "\n",
    "\n",
    "nome = input(\"digite seu nome completo:\")\n",
    "print(nome)"
   ]
  },
  {
   "cell_type": "markdown",
   "id": "3ab571c9-a918-4a00-9129-c0e4b41bcfd3",
   "metadata": {},
   "source": [
    "---"
   ]
  },
  {
   "cell_type": "markdown",
   "id": "514c35f4-c6cd-4493-8e2e-83c23a0c07cb",
   "metadata": {},
   "source": [
    "### Exercício 07\n",
    "\n",
    "Crie o algoritmo abaixo:\n",
    "1. Pergunte qual é a idade do usuário, salve o valor dentro de uma variável\n",
    "1. Imprima a idade informada\n",
    "\n",
    "**Entrada:**   \n",
    "_Digite a sua idade:_  \n",
    "**Saída:**  \n",
    "_21_"
   ]
  },
  {
   "cell_type": "code",
   "execution_count": 10,
   "id": "eb7638b9-e5be-4899-9c22-de84d501c2ba",
   "metadata": {},
   "outputs": [
    {
     "name": "stdout",
     "output_type": "stream",
     "text": [
      "Minha idade é 21\n"
     ]
    }
   ],
   "source": [
    "idade = input(\"Digite a sua idade:\")\n",
    "print(\"Minha idade é\", idade)"
   ]
  },
  {
   "cell_type": "markdown",
   "id": "7ff9926c-7916-419b-af23-2a047791bc89",
   "metadata": {},
   "source": [
    "---"
   ]
  },
  {
   "cell_type": "markdown",
   "id": "2753ce74-276e-4971-a93d-49c49612f5df",
   "metadata": {},
   "source": [
    "### Exercício 08\n",
    "\n",
    "Crie o algoritmo abaixo:\n",
    "1. Pergunte qual linguagem de programação o usuário gostaria de aprender, salve o valor dentro de uma variável\n",
    "1. Imprima o nome da linguagem informada\n",
    "\n",
    "**Entrada:**   \n",
    "_Digite qual linguagem de programação você gostaria de aprender:_  \n",
    "**Saída:**  \n",
    "_Python_"
   ]
  },
  {
   "cell_type": "code",
   "execution_count": 9,
   "id": "38d8fd67-a090-480f-a45a-75854d556312",
   "metadata": {},
   "outputs": [
    {
     "name": "stdout",
     "output_type": "stream",
     "text": [
      "Você gostaria de aprender python\n"
     ]
    }
   ],
   "source": [
    "\n",
    "linguagem = input(\"Digite qual linguagem de programação você gostaria de aprender: \")\n",
    "\n",
    "print(\"Você gostaria de aprender\", linguagem)"
   ]
  },
  {
   "cell_type": "markdown",
   "id": "203bd6b9-5d8c-4f8b-b0f2-42d22f4c255e",
   "metadata": {},
   "source": [
    "---"
   ]
  },
  {
   "cell_type": "markdown",
   "id": "565ad9dc-26f6-43bd-8d0f-34988350f181",
   "metadata": {},
   "source": [
    "### Exercício 09\n",
    "\n",
    "Crie o algoritmo abaixo:\n",
    "1. Pergunte qual é a data de hoje, salve o valor dentro de uma variável\n",
    "1. Imprima a data informada\n",
    "\n",
    "**Entrada:**   \n",
    "_Digite a data de hoje:_  \n",
    "**Saída:**  \n",
    "_21/02/2015_"
   ]
  },
  {
   "cell_type": "code",
   "execution_count": 11,
   "id": "c2f8782e-0ee1-4bb5-9765-b2ea6898e358",
   "metadata": {},
   "outputs": [
    {
     "name": "stdout",
     "output_type": "stream",
     "text": [
      "a data de hoje é 21022015\n"
     ]
    }
   ],
   "source": [
    "data = input(\"qual a data de hoje?\")\n",
    "print(\"a data de hoje é\", data)"
   ]
  },
  {
   "cell_type": "markdown",
   "id": "0f562969-2d36-4a00-9a55-ba029625acad",
   "metadata": {},
   "source": [
    "---"
   ]
  },
  {
   "cell_type": "markdown",
   "id": "4781c1eb-3499-47f7-a079-f85aea11314b",
   "metadata": {},
   "source": [
    "### Exercício 10\n",
    "\n",
    "Crie o algoritmo abaixo:\n",
    "1. Pergunte qual é o dia da semana, salve o valor dentro de uma variável\n",
    "1. Imprima o dia informado\n",
    "\n",
    "**Entrada:**   \n",
    "_Digite qual é o dia da semana:_  \n",
    "**Saída:**  \n",
    "_Segunda-Feira_"
   ]
  },
  {
   "cell_type": "code",
   "execution_count": 12,
   "id": "ae15b58c-3505-40ad-a337-29b95d692d61",
   "metadata": {},
   "outputs": [
    {
     "name": "stdout",
     "output_type": "stream",
     "text": [
      "o dia de hoje é segunda feira\n"
     ]
    }
   ],
   "source": [
    "dia_da_semana = input(\"qual o é o dia da semana?\")\n",
    "print(\"o dia de hoje é\", dia_da_semana)"
   ]
  },
  {
   "cell_type": "markdown",
   "id": "5bc73a34-1682-4e8f-85e4-1737fae52e7d",
   "metadata": {},
   "source": [
    "---"
   ]
  }
 ],
 "metadata": {
  "kernelspec": {
   "display_name": "Python 3",
   "language": "python",
   "name": "python3"
  },
  "language_info": {
   "codemirror_mode": {
    "name": "ipython",
    "version": 3
   },
   "file_extension": ".py",
   "mimetype": "text/x-python",
   "name": "python",
   "nbconvert_exporter": "python",
   "pygments_lexer": "ipython3",
   "version": "3.12.0"
  }
 },
 "nbformat": 4,
 "nbformat_minor": 5
}
