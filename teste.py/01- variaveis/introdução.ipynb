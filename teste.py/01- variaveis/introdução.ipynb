{
 "cells": [
  {
   "cell_type": "code",
   "execution_count": null,
   "metadata": {},
   "outputs": [],
   "source": [
    "print('meu primeiro codigo')\n",
    "print('5-10')\n"
   ]
  },
  {
   "cell_type": "code",
   "execution_count": null,
   "metadata": {},
   "outputs": [],
   "source": [
    "#a função print pode excerder mais de um argumento\n",
    "print('meu nome é eduarda e minha idade é', 10, \"anos de idade\")"
   ]
  },
  {
   "cell_type": "code",
   "execution_count": null,
   "metadata": {},
   "outputs": [],
   "source": [
    "#Python é uma linguagem CASE SENSITIVE\n",
    "#isso significa que ele diferencia maiusculo de minusculo\n",
    "print(\"python\")\n",
    "Print(\"Python\")\n"
   ]
  },
  {
   "cell_type": "code",
   "execution_count": null,
   "metadata": {},
   "outputs": [],
   "source": [
    "#input, recebe uma informação do usuario\n",
    "\n",
    "input(\"qual seu nome:\")"
   ]
  },
  {
   "cell_type": "code",
   "execution_count": null,
   "metadata": {},
   "outputs": [],
   "source": [
    "#variaveis (nome por exemplo é a variavel ) e sempre com letra minuscula \n",
    "\n",
    "nome = \"eduarda\"\n",
    "print(nome)\n"
   ]
  },
  {
   "cell_type": "code",
   "execution_count": null,
   "metadata": {},
   "outputs": [],
   "source": [
    "idade = 21\n",
    "\n",
    "nome= \"eduarda\"\n",
    "\n",
    "print(\"Meu nome é\", nome, \"e eu tenho\" ,idade, \"anos de idade\")"
   ]
  },
  {
   "cell_type": "code",
   "execution_count": null,
   "metadata": {},
   "outputs": [],
   "source": [
    "#não pode ter espaço\n",
    "nome_completo = \"Eduarda Lino\"\n",
    "\n",
    "print(\"Meu nome completo é\", nome_completo)\n",
    "\n",
    "#não pode começar com numeros\n",
    "\n",
    "numero10 = 100\n",
    "\n",
    "#não pode caracter especial \n",
    "#dolar$%!@&* - = 8\n",
    "\n",
    "#Nao utilizar acentos\n",
    "\n"
   ]
  },
  {
   "cell_type": "code",
   "execution_count": 23,
   "metadata": {},
   "outputs": [
    {
     "name": "stdout",
     "output_type": "stream",
     "text": [
      "meu nome é eduarda\n"
     ]
    }
   ],
   "source": [
    "#como armazenar valores na função input\n",
    "nome = input(\"qual o seu nome\")\n",
    "print(\"meu nome é\",nome)"
   ]
  },
  {
   "cell_type": "code",
   "execution_count": null,
   "metadata": {},
   "outputs": [],
   "source": []
  }
 ],
 "metadata": {
  "kernelspec": {
   "display_name": "Python 3",
   "language": "python",
   "name": "python3"
  },
  "language_info": {
   "codemirror_mode": {
    "name": "ipython",
    "version": 3
   },
   "file_extension": ".py",
   "mimetype": "text/x-python",
   "name": "python",
   "nbconvert_exporter": "python",
   "pygments_lexer": "ipython3",
   "version": "3.12.0"
  }
 },
 "nbformat": 4,
 "nbformat_minor": 2
}
