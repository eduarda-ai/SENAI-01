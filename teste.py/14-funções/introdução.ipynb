{
 "cells": [
  {
   "cell_type": "code",
   "execution_count": 16,
   "metadata": {},
   "outputs": [
    {
     "name": "stdout",
     "output_type": "stream",
     "text": [
      "9\n",
      "aprovado\n",
      "7\n",
      "aprovado\n",
      "5\n",
      "aprovado\n",
      "6\n",
      "aprovado\n"
     ]
    }
   ],
   "source": [
    "\n",
    "aluno1= 10 + 9 + 8.5 + 10 \n",
    "\n",
    "aluno2 = 7.5 + 8 +7.5 + 6.5\n",
    "aluno3 = 4 + 5.5 + 4.5 + 6.5\n",
    "aluno4 = 8 + 7 + 5 + 5.5\n",
    "\n",
    "\n",
    "\n",
    "print(f\"{aluno1 / 4:.0f}\")\n",
    "\n",
    "if aluno1 >=7:\n",
    "    print(\"aprovado\")\n",
    "else:\n",
    "    print(\"reprovado\")\n",
    "\n",
    "print(f\"{aluno2 / 4:.0f}\")\n",
    "if aluno2 >=7:\n",
    "    print(\"aprovado\")\n",
    "else:\n",
    "    print(\"reprovado\")\n",
    "\n",
    "print(f\"{aluno3 / 4:.0f}\")\n",
    "if aluno3 >7:\n",
    "    print(\"aprovado\")\n",
    "else:\n",
    "    print(\"reprovado\")\n",
    "\n",
    "print(f\"{aluno4 / 4:.0f}\")\n",
    "if aluno4 >=7:\n",
    "    print(\"aprovado\")\n",
    "else:\n",
    "    print(\"reprovado\")\n",
    "\n",
    "\n",
    "\n"
   ]
  },
  {
   "cell_type": "code",
   "execution_count": 19,
   "metadata": {},
   "outputs": [
    {
     "name": "stdout",
     "output_type": "stream",
     "text": [
      "7\n"
     ]
    }
   ],
   "source": [
    "def funcao():\n",
    "    soma = 3+4\n",
    "    return soma\n",
    "\n",
    "print(funcao())"
   ]
  },
  {
   "cell_type": "code",
   "execution_count": 22,
   "metadata": {},
   "outputs": [
    {
     "name": "stdout",
     "output_type": "stream",
     "text": [
      "20\n",
      "8\n",
      "12\n"
     ]
    }
   ],
   "source": [
    "def mult(v1,v2):\n",
    "    return v1*v2\n",
    "\n",
    "print(mult(5,4))\n",
    "print(mult(2,4))\n",
    "print(mult(3,4))"
   ]
  },
  {
   "cell_type": "code",
   "execution_count": 23,
   "metadata": {},
   "outputs": [
    {
     "data": {
      "text/plain": [
       "'bem-vindo(a) eduarda!'"
      ]
     },
     "execution_count": 23,
     "metadata": {},
     "output_type": "execute_result"
    }
   ],
   "source": [
    "def saudacao(nome):\n",
    "    return f\"bem-vindo(a) {nome}!\"\n",
    "\n",
    "nome =  input (\"digite seu  nome: \")\n",
    "\n",
    "saudacao(nome)"
   ]
  },
  {
   "cell_type": "code",
   "execution_count": 24,
   "metadata": {},
   "outputs": [
    {
     "name": "stdout",
     "output_type": "stream",
     "text": [
      "5\n"
     ]
    }
   ],
   "source": [
    "def soma (v1=0, v2=0):\n",
    "    return v1 + v2\n",
    "\n",
    "\n",
    "print (soma(2, 3))"
   ]
  },
  {
   "cell_type": "code",
   "execution_count": 25,
   "metadata": {},
   "outputs": [
    {
     "name": "stdout",
     "output_type": "stream",
     "text": [
      "5\n"
     ]
    }
   ],
   "source": [
    "\n",
    "def sub(v1, v2):\n",
    "    return v1 - v2\n",
    "\n",
    "\n",
    "print (sub(10, 5))"
   ]
  },
  {
   "cell_type": "code",
   "execution_count": null,
   "metadata": {},
   "outputs": [],
   "source": [
    "#funções com estrutura if\n",
    "\n",
    "def par_ou_impar(valor):\n",
    "    if valor %2 ==0:\n",
    "        return f\"o numero {valor} é par\"\n",
    "    else:\n",
    "        return f\"o numero {valor} é impar\"\n",
    "    \n",
    "print(par_ou_impar(2))\n",
    "print(par_ou_impar(3))\n",
    "print(par_ou_impar(4))"
   ]
  },
  {
   "cell_type": "code",
   "execution_count": 1,
   "metadata": {},
   "outputs": [
    {
     "name": "stdout",
     "output_type": "stream",
     "text": [
      "5.0\n"
     ]
    }
   ],
   "source": [
    "def soma (v1,v2):\n",
    "    return v1+v2\n",
    "\n",
    "def metade (valor):\n",
    "    return valor /2\n",
    "\n",
    "resultado1=soma(4,6)\n",
    "resultado2=metade (resultado1)\n",
    "print(resultado2)\n"
   ]
  }
 ],
 "metadata": {
  "kernelspec": {
   "display_name": "Python 3",
   "language": "python",
   "name": "python3"
  },
  "language_info": {
   "codemirror_mode": {
    "name": "ipython",
    "version": 3
   },
   "file_extension": ".py",
   "mimetype": "text/x-python",
   "name": "python",
   "nbconvert_exporter": "python",
   "pygments_lexer": "ipython3",
   "version": "3.12.0"
  }
 },
 "nbformat": 4,
 "nbformat_minor": 2
}
