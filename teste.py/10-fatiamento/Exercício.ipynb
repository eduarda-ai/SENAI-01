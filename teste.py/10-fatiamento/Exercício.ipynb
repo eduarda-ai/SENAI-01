{
 "cells": [
  {
   "cell_type": "markdown",
   "id": "83778c0a-b368-4660-a81f-3a0bd1789ad3",
   "metadata": {},
   "source": [
    "# <font color='OrangeRed'><center>Exercícios - Listas: Slicing</center></font>"
   ]
  },
  {
   "cell_type": "markdown",
   "id": "1d4e075f-5243-40b7-87a8-f746f6d56d5b",
   "metadata": {},
   "source": [
    "## Slicling\n",
    "\n",
    ">Lista[ **Início : Fim : Passo** ]"
   ]
  },
  {
   "cell_type": "markdown",
   "id": "bcd721bd-0f76-4b48-9eef-f9e0c100323c",
   "metadata": {},
   "source": [
    "---"
   ]
  },
  {
   "cell_type": "markdown",
   "id": "e86c2c1a-5aa5-4198-b55b-f321bdf2981a",
   "metadata": {},
   "source": [
    "### Exercício 01\n",
    "\n",
    "Utilizando a operação de slicing, faça o fatiamento da lista abaixo para retornar apenas esses elementos:\n",
    "\n",
    "> ['Melão', 'Abacaxi', 'Laranja', 'Kiwi']"
   ]
  },
  {
   "cell_type": "code",
   "execution_count": null,
   "id": "7f3c36b4-9a4e-4e62-8744-e0e9e0b8fc33",
   "metadata": {},
   "outputs": [
    {
     "name": "stdout",
     "output_type": "stream",
     "text": [
      "['Melão', 'Abacaxi', 'Laranja', 'Kiwi']\n"
     ]
    }
   ],
   "source": [
    "frutas = ['Maça', 'Banana', 'Jaca', 'Melão', 'Abacaxi', 'Laranja', 'Kiwi']\n",
    "\n",
    "\n",
    "print( frutas[3:] ) "
   ]
  },
  {
   "cell_type": "markdown",
   "id": "8afac9f1-593f-402f-93d2-480347ffdd76",
   "metadata": {},
   "source": [
    "---"
   ]
  },
  {
   "cell_type": "markdown",
   "id": "7f2aea1b-6624-4ec7-bfda-3daa2e69006b",
   "metadata": {},
   "source": [
    "### Exercício 02\n",
    "\n",
    "Utilizando a operação de slicing, faça o fatiamento da lista abaixo para retornar apenas esses elementos:\n",
    "\n",
    "> [6, 7, 8, 9, 10]"
   ]
  },
  {
   "cell_type": "code",
   "execution_count": 5,
   "id": "e17301ba-5f7a-4fae-bedf-7e88f2029dea",
   "metadata": {},
   "outputs": [
    {
     "name": "stdout",
     "output_type": "stream",
     "text": [
      "[6, 7, 8, 9, 10]\n"
     ]
    }
   ],
   "source": [
    "numeros = [0, 1, 2, 3, 4, 5, 6, 7, 8, 9, 10]\n",
    "\n",
    "\n",
    "print( numeros[6:] ) "
   ]
  },
  {
   "cell_type": "markdown",
   "id": "c4e97473-738e-4d7b-84f6-0c21f601bf5e",
   "metadata": {},
   "source": [
    "---"
   ]
  },
  {
   "cell_type": "markdown",
   "id": "8e813054-81f7-4918-8aae-417540a3ab13",
   "metadata": {},
   "source": [
    "### Exercício 03\n",
    "\n",
    "Utilizando a operação de slicing, faça o fatiamento da lista abaixo para retornar apenas esses elementos:\n",
    "\n",
    "> ['Jaca', 'Melão', 'Abacaxi']\n",
    "          \n",
    "          "
   ]
  },
  {
   "cell_type": "code",
   "execution_count": 36,
   "id": "e2d95bde-0791-44a3-bc71-601fda8d92d0",
   "metadata": {},
   "outputs": [
    {
     "name": "stdout",
     "output_type": "stream",
     "text": [
      "['Jaca', 'Melão', 'Abacaxi']\n"
     ]
    }
   ],
   "source": [
    "frutas = ['Maça', 'Banana', 'Jaca', 'Melão', 'Abacaxi', 'Laranja', 'Kiwi']\n",
    "\n",
    "\n",
    "print(frutas[2:5:])"
   ]
  },
  {
   "cell_type": "markdown",
   "id": "e97308f4-ddf7-4708-85f0-e8e0549adc2b",
   "metadata": {},
   "source": [
    "---"
   ]
  },
  {
   "cell_type": "markdown",
   "id": "9598d7d0-2a24-464f-9a9c-aed70e926f9b",
   "metadata": {},
   "source": [
    "### Exercício 04\n",
    "\n",
    "Utilizando a operação de slicing, faça o fatiamento da lista abaixo para retornar apenas esses elementos:\n",
    "\n",
    "> [4, 5, 6, 7, 8]"
   ]
  },
  {
   "cell_type": "code",
   "execution_count": 41,
   "id": "630ed118-0d44-45b8-ac01-24b912547f8a",
   "metadata": {},
   "outputs": [
    {
     "name": "stdout",
     "output_type": "stream",
     "text": [
      "[4, 5, 6, 7, 8]\n"
     ]
    }
   ],
   "source": [
    "numeros = [0, 1, 2, 3, 4, 5, 6, 7, 8, 9, 10]\n",
    "\n",
    "\n",
    "print( numeros[4:9:] ) "
   ]
  },
  {
   "cell_type": "markdown",
   "id": "f3a8ec11-9b19-4563-a7dd-48dd56c02a01",
   "metadata": {},
   "source": [
    "---"
   ]
  },
  {
   "cell_type": "markdown",
   "id": "11a3d6b7-0da2-4ced-88d7-2967c95d29a6",
   "metadata": {},
   "source": [
    "### Exercício 05\n",
    "\n",
    "Utilizando a operação de slicing, faça o fatiamento da lista abaixo para retornar apenas esses elementos:\n",
    "\n",
    "> [0, 1, 2, 3, 4]"
   ]
  },
  {
   "cell_type": "code",
   "execution_count": 45,
   "id": "03a9f9b0-1a4a-4c5a-95f7-d56cf3e9444f",
   "metadata": {},
   "outputs": [
    {
     "name": "stdout",
     "output_type": "stream",
     "text": [
      "[0, 1, 2, 3, 4]\n"
     ]
    }
   ],
   "source": [
    "numeros = [0, 1, 2, 3, 4, 5, 6, 7, 8, 9, 10]\n",
    "\n",
    "\n",
    "print( numeros[0:5:] ) "
   ]
  },
  {
   "cell_type": "markdown",
   "id": "7be038c7-8c30-43d0-8220-9ebeaf5e6e49",
   "metadata": {},
   "source": [
    "---"
   ]
  },
  {
   "cell_type": "markdown",
   "id": "496f1e41-952a-4c49-8070-0177e40b4547",
   "metadata": {},
   "source": [
    "### Exercício 06\n",
    "\n",
    "Utilizando a operação de slicing, faça o fatiamento da lista abaixo para retornar apenas esses elementos:\n",
    "\n",
    "> [0, 2, 4, 6, 8, 10]"
   ]
  },
  {
   "cell_type": "code",
   "execution_count": 46,
   "id": "c7b6fdc7-67f0-42d6-9f0f-251443f33b96",
   "metadata": {},
   "outputs": [
    {
     "name": "stdout",
     "output_type": "stream",
     "text": [
      "[0, 2, 4, 6, 8, 10]\n"
     ]
    }
   ],
   "source": [
    "numeros = [0, 1, 2, 3, 4, 5, 6, 7, 8, 9, 10]\n",
    "\n",
    "\n",
    "print(numeros [::2])"
   ]
  },
  {
   "cell_type": "markdown",
   "id": "81d50df7-d055-4ab6-8f22-f403101a9fac",
   "metadata": {},
   "source": [
    "---"
   ]
  },
  {
   "cell_type": "markdown",
   "id": "4decb5f5-a2e5-4a17-804f-e152d9323ed8",
   "metadata": {},
   "source": [
    "### Exercício 07\n",
    "\n",
    "Utilizando a operação de slicing, faça o fatiamento da lista abaixo para retornar apenas esses elementos:\n",
    "\n",
    "> [1, 3, 5, 7, 9]"
   ]
  },
  {
   "cell_type": "code",
   "execution_count": 77,
   "id": "b072446f-b832-4c11-a935-f95eb6648ae8",
   "metadata": {},
   "outputs": [
    {
     "name": "stdout",
     "output_type": "stream",
     "text": [
      "[1, 3, 5, 7, 9]\n"
     ]
    }
   ],
   "source": [
    "numeros = [0, 1, 2, 3, 4, 5, 6, 7, 8, 9, 10]\n",
    "\n",
    "print(numeros[1::2])"
   ]
  },
  {
   "cell_type": "markdown",
   "id": "d8aecd8c-4e4b-44eb-aa8d-39c274132cd5",
   "metadata": {},
   "source": [
    "---"
   ]
  },
  {
   "cell_type": "markdown",
   "id": "f32add57-6663-407b-ac5b-e3539900dad9",
   "metadata": {},
   "source": [
    "### Exercício 08\n",
    "\n",
    "Utilizando a operação de slicing, faça o fatiamento da string abaixo para retornar apenas esses caracteres:\n",
    "\n",
    "> 'ACERTOU'"
   ]
  },
  {
   "cell_type": "code",
   "execution_count": 78,
   "id": "96c5be06-887d-4983-86ba-31f64308fc9a",
   "metadata": {},
   "outputs": [
    {
     "name": "stdout",
     "output_type": "stream",
     "text": [
      "ACERTOU\n"
     ]
    }
   ],
   "source": [
    "texto = 'A.C.E.R.T.O.U'\n",
    "\n",
    "\n",
    "print(texto[0::2])"
   ]
  },
  {
   "cell_type": "markdown",
   "id": "6e56bda9-32f7-4d0f-8473-02d1553f83bf",
   "metadata": {},
   "source": [
    "---"
   ]
  },
  {
   "cell_type": "markdown",
   "id": "83216b87-5c4a-4acb-a41e-bfb07659a839",
   "metadata": {},
   "source": [
    "### Exercício 09\n",
    "\n",
    "Utilizando a operação de slicing, faça o fatiamento da string abaixo para retornar apenas esses caracteres:\n",
    "\n",
    "> 'ACERTOU'"
   ]
  },
  {
   "cell_type": "code",
   "execution_count": 80,
   "id": "d4aaa2c6-2e65-4999-8d31-f0fe430485f6",
   "metadata": {},
   "outputs": [
    {
     "name": "stdout",
     "output_type": "stream",
     "text": [
      "ACERTOU\n"
     ]
    }
   ],
   "source": [
    "texto = '...A.C.E.R.T.O.U'\n",
    "\n",
    "\n",
    "print(texto[3::2])"
   ]
  },
  {
   "cell_type": "markdown",
   "id": "849d851e-5b21-4de4-bc44-d6e236d65905",
   "metadata": {},
   "source": [
    "---"
   ]
  },
  {
   "cell_type": "markdown",
   "id": "fe205906-a3c2-43ca-9ca8-df3e24d0912d",
   "metadata": {},
   "source": [
    "### Exercício 10\n",
    "\n",
    "Utilizando a operação de slicing, faça o fatiamento da lista abaixo para retornar apenas os dias da semana:\n",
    "\n",
    "> ['SEG', 'TER', 'QUA', 'QUI', 'SEX']"
   ]
  },
  {
   "cell_type": "code",
   "execution_count": 87,
   "id": "a224a38b-7fd2-4139-bfa3-02a33ff4330f",
   "metadata": {},
   "outputs": [
    {
     "name": "stdout",
     "output_type": "stream",
     "text": [
      "['SEG', 'TER', 'QUA', 'QUI', 'SEX']\n"
     ]
    }
   ],
   "source": [
    "semana = ['SEG', 'TER', 'QUA', 'QUI', 'SEX', 'SAB', 'DOM']\n",
    "\n",
    "print( semana[0:5:] ) "
   ]
  },
  {
   "cell_type": "markdown",
   "id": "028c51b3-882e-471e-9e39-2da8573ee3fb",
   "metadata": {},
   "source": [
    "---"
   ]
  },
  {
   "cell_type": "markdown",
   "id": "8d6d2c6a-f3f1-4459-b6e4-195d56d0bfba",
   "metadata": {},
   "source": [
    "### Exercício 11\n",
    "\n",
    "Utilizando a operação de slicing, faça o fatiamento da lista abaixo para retornar apenas os dias de fim de semana:\n",
    "\n",
    "> ['SAB', 'DOM']"
   ]
  },
  {
   "cell_type": "code",
   "execution_count": 88,
   "id": "c206841d-461c-4c10-a6d2-cbebb6a68018",
   "metadata": {
    "tags": []
   },
   "outputs": [
    {
     "name": "stdout",
     "output_type": "stream",
     "text": [
      "['SAB', 'DOM']\n"
     ]
    }
   ],
   "source": [
    "semana = ['SEG', 'TER', 'QUA', 'QUI', 'SEX', 'SAB', 'DOM']\n",
    "\n",
    "\n",
    "print( semana[5:] ) "
   ]
  },
  {
   "cell_type": "markdown",
   "id": "6b62f847-3728-418b-b6eb-37a77cea8e7d",
   "metadata": {},
   "source": [
    "---"
   ]
  },
  {
   "cell_type": "markdown",
   "id": "f6a1a5b9-3d9a-45e0-bf08-30c8874ca605",
   "metadata": {},
   "source": [
    "### Exercício 12\n",
    "\n",
    "Os meses do ano que possuem 31 dias são:\n",
    "* Janeiro\n",
    "* Março\n",
    "* Maio\n",
    "* Julho\n",
    "* Agosto\n",
    "* Outubro\n",
    "* Dezembro\n",
    "\n",
    "Dito isto, faça o fatiamento da lista de meses abaixo e retorne apenas os meses do ano que possuem 31 dias"
   ]
  },
  {
   "cell_type": "code",
   "execution_count": 97,
   "id": "9566f395-d58f-4dd9-a562-04a635c80b8f",
   "metadata": {
    "tags": []
   },
   "outputs": [
    {
     "name": "stdout",
     "output_type": "stream",
     "text": [
      "['Janeiro', 'Março', 'Maio', 'Julho']\n"
     ]
    }
   ],
   "source": [
    "meses = ['Janeiro', 'Fevereiro', 'Março', 'Abril', 'Maio', 'Junho', 'Julho']\n",
    "\n",
    "\n",
    "\n",
    "print( meses[::2]  ) "
   ]
  }
 ],
 "metadata": {
  "kernelspec": {
   "display_name": "Python 3",
   "language": "python",
   "name": "python3"
  },
  "language_info": {
   "codemirror_mode": {
    "name": "ipython",
    "version": 3
   },
   "file_extension": ".py",
   "mimetype": "text/x-python",
   "name": "python",
   "nbconvert_exporter": "python",
   "pygments_lexer": "ipython3",
   "version": "3.12.0"
  }
 },
 "nbformat": 4,
 "nbformat_minor": 5
}
