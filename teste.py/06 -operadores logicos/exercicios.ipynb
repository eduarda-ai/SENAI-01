{
 "cells": [
  {
   "cell_type": "markdown",
   "id": "683567dd-3c83-4c12-baa9-fbf1cddba90e",
   "metadata": {},
   "source": [
    "# <font color='OrangeRed'><center>Exercícios - Operadores Lógicos</center></font>"
   ]
  },
  {
   "cell_type": "markdown",
   "id": "7b586856-e799-434f-88de-d04a0ece332a",
   "metadata": {},
   "source": [
    "### Exercício 01\n",
    "\n",
    "Pessoas com idade maior ou igual a 18 **E** menor ou igual a 70 anos são obrigadas a votar.  \n",
    "Escreva um programa que pergunte a idade do usuário e retorne se ele é obrigado a votar ou não."
   ]
  },
  {
   "cell_type": "code",
   "execution_count": null,
   "id": "8ac758ea-e6b3-4f13-bb2d-a32e033f26f0",
   "metadata": {},
   "outputs": [],
   "source": [
    "\n",
    "idade = int(input(\"qual a sua idade?\"))\n",
    "\n",
    "\n",
    "\n",
    "if idade >=18  and idade <= 70:\n",
    "    print(\"obrigatorio votar\")\n",
    "else:\n",
    "    print(\"não precisa votar\")\n"
   ]
  },
  {
   "cell_type": "markdown",
   "id": "d1c26a28-4a22-4cd5-b408-74b9cdbff276",
   "metadata": {},
   "source": [
    "---"
   ]
  },
  {
   "cell_type": "markdown",
   "id": "52e30b41-9dcd-4fd1-b03a-a561bb5ae4e6",
   "metadata": {},
   "source": [
    "### Exercício 02\n",
    "\n",
    "Faça um programa que peça para o usuário digitar uma única letra, e usando if/else, retorne se a letra digitada é uma vogal ou consoante.  \n",
    "Utilize o operador **OU** na sua validação, exemplo:\n",
    "\n",
    "_**Vogais:** A **ou** E **ou** I **ou** O **ou** U_  \n",
    "_**Consoantes:** Qualquer outra letra_"
   ]
  },
  {
   "cell_type": "code",
   "execution_count": null,
   "id": "7ae3aa4e-33a9-4357-9a5a-42a7605818bf",
   "metadata": {},
   "outputs": [],
   "source": [
    "letra = input(\"Digite uma letra: \")\n",
    "\n",
    "\n",
    "if letra == 'a' or letra == 'e' or letra == 'i' or letra == 'o' or letra == 'u' or \\\n",
    "   letra == 'A' or letra == 'E' or letra == 'I' or letra == 'O' or letra == 'U':\n",
    "    print(\"Vogal.\")\n",
    "else:\n",
    "    print(\"Consoante.\")\n",
    "\n",
    "\n",
    "\n",
    "\n"
   ]
  },
  {
   "cell_type": "markdown",
   "id": "8362e6c9-06ff-4c3e-ae3c-abdd703d9073",
   "metadata": {},
   "source": [
    "---"
   ]
  },
  {
   "cell_type": "markdown",
   "id": "4a280435-81a3-4171-9a29-3fac2c9f2b19",
   "metadata": {},
   "source": [
    "### Exercício 03\n",
    "\n",
    "Faça um programa que peça para o usuário digitar 'homem' se ele for Homem e 'mulher' se ela for Mulher, em seguida pergunte a idade dele ou dela, por fim, crie a seguinte condição:\n",
    "\n",
    "- Se o usuário digitar 'homem' **E** tiver idade maior ou igual a 65 anos retorne 'Você pode se aposentar.'\n",
    "- Se o usuário digitar 'mulher' **E** tiver idade maior ou igual a 62 anos retorne 'Você pode se aposentar.'\n",
    "- Caso o contrário retorne 'Você ainda precisa trabalhar.'"
   ]
  },
  {
   "cell_type": "code",
   "execution_count": null,
   "id": "26b7e444-4e7f-4b2c-9832-b5f1b53b6e94",
   "metadata": {},
   "outputs": [],
   "source": [
    "\n",
    "sexo = input(\"Digite 'homem' se você for Homem ou 'mulher' se você for Mulher: \")\n",
    "\n",
    "idade = int(input(\"Digite a sua idade: \"))\n",
    "\n",
    "\n",
    "\n",
    "if (sexo == 'homem' and idade >= 65) or (sexo == 'mulher' and idade >= 62):\n",
    "    print(\"Você pode se aposentar.\")\n",
    "else:\n",
    "    print(\"Você ainda precisa trabalhar.\")\n",
    "\n",
    "\n"
   ]
  },
  {
   "cell_type": "markdown",
   "id": "d0c34efa-e627-4f15-97d5-28917321be00",
   "metadata": {},
   "source": [
    "---"
   ]
  },
  {
   "cell_type": "markdown",
   "id": "071f07c4-c707-4ad7-a1e9-b14b6dee0345",
   "metadata": {},
   "source": [
    "### Exercício 04\n",
    "\n",
    "Para o usuário ter direito a fila de prioridade, ele deve ser idoso, gestante **OU** cadeirante.  \n",
    "Escreva um programa que peça ao usuário que digite algum número das opções abaixo:\n",
    "\n",
    "1. Idoso\n",
    "1. Gestante\n",
    "1. Cadeirante\n",
    "1. Nenhum destes\n",
    "\n",
    "- Caso o usuário digite 1, 2 **ou** 3 imprima 'Você tem direito a fila prioritária.'\n",
    "- Senão retorne 'Você não tem direito a fila prioritária.'"
   ]
  },
  {
   "cell_type": "code",
   "execution_count": null,
   "id": "d940b87a-7f91-48be-81c9-b77d9d606838",
   "metadata": {},
   "outputs": [],
   "source": [
    "opcao = int(input(\"Digite 1.idoso 2.gestante 3.cadeirante 4.nenhum \"))\n",
    "\n",
    "\n",
    "if opcao == 1 or opcao== 2 or opcao == 3:\n",
    "    print(\"fila prioritária\")\n",
    "else:\n",
    "    print(\"não tem direito a fila prioritaria\")\n"
   ]
  },
  {
   "cell_type": "code",
   "execution_count": 1,
   "id": "72988a27",
   "metadata": {},
   "outputs": [
    {
     "ename": "SyntaxError",
     "evalue": "invalid syntax (2162180054.py, line 4)",
     "output_type": "error",
     "traceback": [
      "\u001b[1;36m  Cell \u001b[1;32mIn[1], line 4\u001b[1;36m\u001b[0m\n\u001b[1;33m    case 1|2|3|: #usado | no lugar do or pois n pode usar or no match\u001b[0m\n\u001b[1;37m               ^\u001b[0m\n\u001b[1;31mSyntaxError\u001b[0m\u001b[1;31m:\u001b[0m invalid syntax\n"
     ]
    }
   ],
   "source": [
    "opcao = int(input(\"Digite 1.idoso 2.gestante 3.cadeirante 4.nenhum \"))\n",
    "\n",
    "match opcao:\n",
    "    case 1|2|3|: #usado | no lugar do or pois n pode usar or no match\n",
    "        print(\"fila prioritária\")\n",
    "    case _:\n",
    "        print(\"vc não tem prioridade \")\n",
    "\n",
    "\n",
    "\n",
    "\n"
   ]
  },
  {
   "cell_type": "markdown",
   "id": "13a30d1a-08d4-44a1-9ed8-2bf2e310db37",
   "metadata": {},
   "source": [
    "---"
   ]
  },
  {
   "cell_type": "markdown",
   "id": "a521836a-d291-49ee-b613-08e1aace528f",
   "metadata": {},
   "source": [
    "### Exercício 5\n",
    "\n",
    "Desenvolva um programa que pergunte a idade do usuário e se ele tem carteira de estudante, peça que responda com 'SIM' se ele tiver e 'NÃO' se não tiver, em seguida crie a condição abaixo:\n",
    "\n",
    "* Se a idade do usuário for maior ou igual a 18 anos **E** se ele digitar 'SIM', retorne 'Meia-entrada'\n",
    "* Se a idade do usuário for maior ou igual a 18 anos **E** se ele digitar 'NÃO', retorne 'Inteira'\n",
    "* Para os demais casos retorne 'Venda não permitida'"
   ]
  },
  {
   "cell_type": "code",
   "execution_count": null,
   "id": "ce64ae63-da6a-4300-a05c-a9d9bfbfb780",
   "metadata": {},
   "outputs": [],
   "source": [
    "\n",
    "idade = int(input(\"Digite a sua idade: \"))\n",
    "\n",
    "\n",
    "carteira = input(\"Você tem carteira de estudante? Responda 'SIM' ou 'NÃO': \")\n",
    "\n",
    "\n",
    "if idade >= 18 and carteira== 'SIM':\n",
    "    print(\"Meia-entrada\")\n",
    "elif idade >= 18 and carteira == 'NÃO':\n",
    "    print(\"Inteira\")\n",
    "else:\n",
    "    print(\"Venda não permitida\")\n"
   ]
  },
  {
   "cell_type": "markdown",
   "id": "cb1cb9a2-7f0e-47e3-a64c-ea3d49a05474",
   "metadata": {},
   "source": [
    "---"
   ]
  },
  {
   "cell_type": "markdown",
   "id": "3af568c6-1e90-4fec-8a3d-7397a8f608b0",
   "metadata": {},
   "source": [
    "### Exercício 06\n",
    "\n",
    "Faça um programa que solicite ao usuário que digite o login e senha, em seguida crie a seguinte condição:\n",
    "\n",
    "- Se o login for igual a 'admin' **E** a senha igual a '123456' retorne 'SEJA BEM-VINDO ADMIN!'\n",
    "- Senão retorne 'LOGIN OU SENHA INCORRETOS'"
   ]
  },
  {
   "cell_type": "code",
   "execution_count": null,
   "id": "72a1b517-94ff-4fef-a0b6-90577ef4c2a0",
   "metadata": {},
   "outputs": [],
   "source": [
    "\n",
    "login = input(\"digite o usuario de administrador:\")\n",
    "senha = input(\"digite a senha:\")\n",
    "\n",
    "\n",
    "\n",
    "if login==\"admin\" and senha ==\"123456\":\n",
    "    print(\"seja bem-vindo admin\")\n",
    "\n",
    "else:\n",
    "    print(\"login ou senha incorretos \")\n",
    "\n",
    "\n"
   ]
  },
  {
   "cell_type": "markdown",
   "id": "8ceaf957-6c24-4e34-b840-cd0f3449fdf9",
   "metadata": {},
   "source": [
    "---"
   ]
  },
  {
   "cell_type": "markdown",
   "id": "6e6031bc-a621-4aab-a017-38e8af8faf9b",
   "metadata": {},
   "source": [
    "### Exercício 07\n",
    "\n",
    "Crie um programa que peça um número ao usuário e em seguida verifique se é um número positivo, ou seja, acima de 'zero' **E** se é um número par.\n",
    "\n",
    "* Se o número for acima de zero **E** se for um número par retorne 'É um número positivo e par.'\n",
    "* Senão retorne 'O número não satisfaz as condições de ser positivo e par.'\n",
    "\n",
    "\n",
    "**Dicas:**  \n",
    "_Todo número divisível por 2 é par!_\n",
    "\n",
    "**_Formúla:_**<br>\n",
    "_% (Módulo ou resto de divisão)_  \n",
    "<img style=\"height:120px\" src=https://www.estudamos.com.br/divisao/elementos-da-divisao.jpg>"
   ]
  },
  {
   "cell_type": "code",
   "execution_count": null,
   "id": "6aff53ae-bdfc-4d3f-a210-049d03279588",
   "metadata": {},
   "outputs": [],
   "source": [
    "\n",
    "num = int(input(\"digite um numero: \"))\n",
    "\n",
    "\n",
    "\n",
    "if num >0 and num % 2==0 :\n",
    "    print(\"numero positivo e par\")\n",
    "\n",
    "else:\n",
    "    print(\"O número não satisfaz as condições de ser positivo e par\")\n",
    "\n",
    "\n",
    "\n"
   ]
  },
  {
   "cell_type": "markdown",
   "id": "48fabd11-1d7e-4718-8df2-a46f07e6fa64",
   "metadata": {},
   "source": [
    "---"
   ]
  },
  {
   "cell_type": "markdown",
   "id": "1c667c6e-077a-439b-9cd6-28c5b89891fb",
   "metadata": {},
   "source": [
    "### Exercício 08\n",
    "\n",
    "Crie um programa que pergunte a nota e o número de faltas de um aluno para determinar se um estudante é aprovado em uma disciplina, sendo:\n",
    "\n",
    "* Se a nota do aluno for maior ou igual a 60 **E** se o número de faltas for menor ou igual a 5 então retorne 'Estudante aprovado'.\n",
    "* Senão retorne 'Estudante reprovado'."
   ]
  },
  {
   "cell_type": "code",
   "execution_count": null,
   "id": "ccdd189d-3251-4f31-809f-71deca7b28bb",
   "metadata": {},
   "outputs": [],
   "source": [
    "\n",
    "\n",
    "nota = int(input(\"digite a sua nota:\"))\n",
    "falta = int(input(\"digite o numero de faltas\"))\n",
    "\n",
    "if nota >=60 and falta<=5:\n",
    "    print(\"aprovado\")\n",
    "else:\n",
    "    print(\"reprovado\")"
   ]
  },
  {
   "cell_type": "markdown",
   "id": "ac4b685a-3617-4846-a987-0e2444a9af3d",
   "metadata": {},
   "source": [
    "---"
   ]
  },
  {
   "cell_type": "markdown",
   "id": "8d5f92d2-c084-482c-b2fe-4d7f0cf8d36b",
   "metadata": {},
   "source": [
    "### Exercício 09\n",
    "\n",
    "Crie um programa que pergunte qual o preço de um produto e em seguida retorne em qual categoria o produto se classifica com base no preço, sendo:\n",
    "\n",
    "| Preço | Classificação |\n",
    "|:-----:|:-------------:|\n",
    "| Abaixo de 50.00 | Econômico |\n",
    "| Entre 50.00 e 99.99 | Normal |\n",
    "| Entre 100.00 e 149.99 | Premium |\n",
    "| A partir de 150.00 | Luxo |"
   ]
  },
  {
   "cell_type": "code",
   "execution_count": 4,
   "id": "4b58f667-994f-4370-a360-a661c07c9f55",
   "metadata": {},
   "outputs": [
    {
     "name": "stdout",
     "output_type": "stream",
     "text": [
      "economico\n"
     ]
    }
   ],
   "source": [
    "produto=int(input(\"qual o preço do produto:\"))\n",
    "\n",
    "\n",
    "if produto <= 50.00:\n",
    "    print(\"economico\") \n",
    "elif produto >= 50.00 and produto <= 99.99:\n",
    "    print(\"normal\")\n",
    "elif produto >= 100.00 and produto <= 149.99:\n",
    "    print(\"premium\")\n",
    "else:\n",
    "    print(\"luxo\")\n",
    "    \n",
    "\n"
   ]
  },
  {
   "cell_type": "markdown",
   "id": "c4ffa320-b11a-4ff7-a7d8-76aabcfb3611",
   "metadata": {},
   "source": [
    "---"
   ]
  },
  {
   "cell_type": "markdown",
   "id": "6807fd97-31c9-44b8-85cc-d022a6302f22",
   "metadata": {},
   "source": [
    "### Exercício 10\n",
    "\n",
    "Desenvolva um programa que pergunte uma hora cheia ao usuário, ou seja, apenas o números das horas e em seguida imprima uma mensagem correspondente, sendo:\n",
    "\n",
    "| Hora | Mensagem |\n",
    "|:----:|:--------:|\n",
    "| Entre 6 e 11 | Bom dia |\n",
    "| Entre 12 e 17 | Boa tarde |\n",
    "| Entre 18 e 23 | Boa Noite |\n",
    "| Qualquer outro | Hora inválida |"
   ]
  },
  {
   "cell_type": "code",
   "execution_count": 16,
   "id": "4725422a-4b9e-4391-acac-844ba68c4542",
   "metadata": {},
   "outputs": [
    {
     "name": "stdout",
     "output_type": "stream",
     "text": [
      "Bom dia\n"
     ]
    }
   ],
   "source": [
    "hora=int(input(\"digite a hora cheia apenas o números das horas: \"))\n",
    "\n",
    "\n",
    "if hora >= 6 and hora <= 11:\n",
    "    print(\"Bom dia\") \n",
    "elif hora >= 12 and hora <= 17:\n",
    "    print(\"boa tarde\")\n",
    "elif hora >=18 and hora <= 23:\n",
    "    print(\"boa noite\")\n",
    "else:\n",
    "    print(\"invalida\")\n",
    "    \n",
    "\n",
    "\n",
    "\n"
   ]
  },
  {
   "cell_type": "markdown",
   "id": "910a6916-43a0-43b9-ab8c-f03f8ea0d149",
   "metadata": {},
   "source": [
    "---"
   ]
  }
 ],
 "metadata": {
  "kernelspec": {
   "display_name": "Python 3",
   "language": "python",
   "name": "python3"
  },
  "language_info": {
   "codemirror_mode": {
    "name": "ipython",
    "version": 3
   },
   "file_extension": ".py",
   "mimetype": "text/x-python",
   "name": "python",
   "nbconvert_exporter": "python",
   "pygments_lexer": "ipython3",
   "version": "3.12.0"
  }
 },
 "nbformat": 4,
 "nbformat_minor": 5
}
