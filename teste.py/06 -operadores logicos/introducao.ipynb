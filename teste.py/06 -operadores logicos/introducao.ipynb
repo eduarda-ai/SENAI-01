{
 "cells": [
  {
   "cell_type": "code",
   "execution_count": null,
   "metadata": {},
   "outputs": [],
   "source": [
    "#and E"
   ]
  },
  {
   "cell_type": "code",
   "execution_count": 2,
   "metadata": {},
   "outputs": [
    {
     "name": "stdout",
     "output_type": "stream",
     "text": [
      "não pode dirigir\n"
     ]
    }
   ],
   "source": [
    "idade = 18\n",
    "cnh = \"não\"\n",
    "\n",
    "\n",
    "if idade >=18 and cnh == \"sim\" :\n",
    "    print(\"pode dirigir\")\n",
    "else:\n",
    "    print(\"não pode dirigir\")"
   ]
  },
  {
   "cell_type": "code",
   "execution_count": 3,
   "metadata": {},
   "outputs": [
    {
     "name": "stdout",
     "output_type": "stream",
     "text": [
      "reprovado\n"
     ]
    }
   ],
   "source": [
    "# verificar se o aluno foi aprovado\n",
    "\n",
    "nota = 5.0\n",
    "frequencia = 70\n",
    "\n",
    "if nota>=5 and frequencia >=75:\n",
    "    print(\"aprovado\")\n",
    "\n",
    "else:\n",
    "    print(\"reprovado\")"
   ]
  },
  {
   "cell_type": "code",
   "execution_count": null,
   "metadata": {},
   "outputs": [],
   "source": [
    "# a instrução and só retorna verdadeiro se todas as expressoes forem true\n",
    "\n",
    "\n",
    "print(True and True)#TRUE\n",
    "\n",
    "print(True and False) \n"
   ]
  },
  {
   "cell_type": "code",
   "execution_count": 4,
   "metadata": {},
   "outputs": [
    {
     "name": "stdout",
     "output_type": "stream",
     "text": [
      "não ha previsão de entrega\n"
     ]
    }
   ],
   "source": [
    "mes = \"fevereiro\"\n",
    "dia = 4\n",
    "\n",
    "if mes == \"janeiro\" and dia <= 15:\n",
    "    print(\"sera entregue esse mes\")\n",
    "else:\n",
    "    print(\"não ha previsão de entrega\")"
   ]
  },
  {
   "cell_type": "code",
   "execution_count": 6,
   "metadata": {},
   "outputs": [
    {
     "name": "stdout",
     "output_type": "stream",
     "text": [
      "tem direito\n"
     ]
    }
   ],
   "source": [
    "# se houver pelo menos uma expressão true o or retorna verdadeiro\n",
    "\n",
    "\n",
    "anos = 4\n",
    "comportamento = \"ruim\"\n",
    "\n",
    "if anos>= 3 or comportamento == \"bom\":\n",
    "    print(\"tem direito\")\n",
    "\n",
    "else:\n",
    "    print(\"não tem \")\n",
    "\n"
   ]
  }
 ],
 "metadata": {
  "kernelspec": {
   "display_name": "Python 3",
   "language": "python",
   "name": "python3"
  },
  "language_info": {
   "codemirror_mode": {
    "name": "ipython",
    "version": 3
   },
   "file_extension": ".py",
   "mimetype": "text/x-python",
   "name": "python",
   "nbconvert_exporter": "python",
   "pygments_lexer": "ipython3",
   "version": "3.12.0"
  }
 },
 "nbformat": 4,
 "nbformat_minor": 2
}
