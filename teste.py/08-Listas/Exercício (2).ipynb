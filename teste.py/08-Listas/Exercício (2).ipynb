{
 "cells": [
  {
   "cell_type": "markdown",
   "id": "c5d65cfe-531b-4f2a-807a-a628ee653bfa",
   "metadata": {},
   "source": [
    "# <font color='OrangeRed'><center>Exercícios - Listas</center></font>"
   ]
  },
  {
   "cell_type": "markdown",
   "id": "d49985ef-a662-4f57-9cb8-d5b340005155",
   "metadata": {},
   "source": [
    "### Exercício 01\n",
    "\n",
    "Imprima o quarto item da lista de frutas."
   ]
  },
  {
   "cell_type": "code",
   "execution_count": null,
   "id": "0c5c19a4-3a2e-41f6-a3b6-b14a5d5534d6",
   "metadata": {},
   "outputs": [],
   "source": [
    "frutas = ['Maçã', 'Banana', 'Jaca', 'Melão', 'Abacaxi']\n",
    "\n",
    "\n",
    "print(frutas[0])\n",
    "print(frutas[1])\n",
    "print(frutas[2])\n",
    "print(frutas[3])\n",
    "print(frutas[4])\n"
   ]
  },
  {
   "cell_type": "markdown",
   "id": "b6701f9a-1f74-4f53-ab8e-3c9831a5a0fc",
   "metadata": {},
   "source": [
    "---"
   ]
  },
  {
   "cell_type": "markdown",
   "id": "315b5a20-845c-40a6-86c2-e5b0c25284bd",
   "metadata": {},
   "source": [
    "### Exercício 02\n",
    "\n",
    "Imprima o primeiro item da lista de números."
   ]
  },
  {
   "cell_type": "code",
   "execution_count": null,
   "id": "4b29470a-0b34-4291-96c8-2e3f99f6b952",
   "metadata": {},
   "outputs": [],
   "source": [
    "numeros = [1, 2, 3, 4, 5]\n",
    "\n",
    "print(numeros[0])\n"
   ]
  },
  {
   "cell_type": "markdown",
   "id": "15adfaf7-e205-4ddd-ba25-1c10b3647449",
   "metadata": {},
   "source": [
    "---"
   ]
  },
  {
   "cell_type": "markdown",
   "id": "13ff8f2d-0ae9-45a4-8fa1-e8ebb97a4907",
   "metadata": {},
   "source": [
    "### Exercício 03\n",
    "\n",
    "Altere o valor de 5 para -5 na lista de números."
   ]
  },
  {
   "cell_type": "code",
   "execution_count": null,
   "id": "951512e0-4c00-4479-bab0-39a486445024",
   "metadata": {},
   "outputs": [],
   "source": [
    "numeros = [-1, -2, -3, -4, 5]\n",
    "\n",
    "\n"
   ]
  },
  {
   "cell_type": "markdown",
   "id": "b4964aa9-23b0-495b-b34d-bf8be77df1a3",
   "metadata": {},
   "source": [
    "---"
   ]
  },
  {
   "cell_type": "markdown",
   "id": "75d934a2-164e-416d-b327-592f246996e5",
   "metadata": {},
   "source": [
    "### Exercício 04\n",
    "\n",
    "Use um método de lista para adicionar o valor 'Laranja' no final da lista de frutas."
   ]
  },
  {
   "cell_type": "code",
   "execution_count": null,
   "id": "4b889b4f-9ca4-4067-9ef8-6568c3ab6188",
   "metadata": {},
   "outputs": [],
   "source": [
    "frutas = ['Maçã', 'Banana', 'Jaca', 'Melão', 'Abacaxi']\n",
    "\n",
    "\n",
    "\n",
    "frutas.append(\"laranja\")\n",
    "\n",
    "print(frutas)"
   ]
  },
  {
   "cell_type": "markdown",
   "id": "a2384c99-e799-4527-82df-572710327864",
   "metadata": {},
   "source": [
    "---"
   ]
  },
  {
   "cell_type": "markdown",
   "id": "16fafa71-b1b5-4e44-a379-2dcc5f46d98b",
   "metadata": {},
   "source": [
    "### Exercício 05\n",
    "\n",
    "Use um método de lista para inserir 'Limão' como segundo item na lista de frutas sem alterar o valor dos demais itens."
   ]
  },
  {
   "cell_type": "code",
   "execution_count": null,
   "id": "326a76a3-9924-45fe-afe7-7392ee9f6859",
   "metadata": {
    "tags": []
   },
   "outputs": [],
   "source": [
    "frutas = ['Maçã', 'Banana', 'Jaca', 'Melão', 'Abacaxi']\n",
    "\n",
    "\n",
    "frutas.insert(1, \"Limão\")\n",
    "\n",
    "print(frutas)"
   ]
  },
  {
   "cell_type": "markdown",
   "id": "28aed39b-c012-49fa-bb1e-9da0d52b6fe2",
   "metadata": {},
   "source": [
    "---"
   ]
  },
  {
   "cell_type": "markdown",
   "id": "477709bb-f208-447e-b4fc-589ecdcea211",
   "metadata": {},
   "source": [
    "### Exercício 06\n",
    "\n",
    "Use um método de lista para inserir o número 4 como quarto item na lista de números sem alterar o valor dos demais itens."
   ]
  },
  {
   "cell_type": "code",
   "execution_count": null,
   "id": "41be04d8-b654-43d5-899c-c846dd290bb8",
   "metadata": {},
   "outputs": [],
   "source": [
    "numeros = [1, 2, 3, 5, 6, 7]\n",
    "\n",
    "\n",
    "numeros.insert(4, '4')\n",
    "print(numeros)\n"
   ]
  },
  {
   "cell_type": "markdown",
   "id": "07c3a602-ec8a-449d-83d5-f4f94e48cb09",
   "metadata": {},
   "source": [
    "---"
   ]
  },
  {
   "cell_type": "markdown",
   "id": "00022904-615b-42a7-88bf-84db199c3ca6",
   "metadata": {},
   "source": [
    "### Exercício 07\n",
    "\n",
    "Use um método de lista para remover o item 'Banana' da lista de frutas."
   ]
  },
  {
   "cell_type": "code",
   "execution_count": null,
   "id": "0adac427-216f-44cb-85e8-97462d72480e",
   "metadata": {},
   "outputs": [],
   "source": [
    "frutas = ['Maçã', 'Banana', 'Jaca', 'Melão', 'Abacaxi']\n",
    "\n",
    "frutas.remove('Banana')\n",
    "\n",
    "print(frutas)\n"
   ]
  },
  {
   "cell_type": "markdown",
   "id": "6bbe94ac-ddd8-44d8-a8aa-4f7bebc38b18",
   "metadata": {},
   "source": [
    "---"
   ]
  },
  {
   "cell_type": "markdown",
   "id": "fd5e72f6-f10a-4a57-a56d-8ca3920366ed",
   "metadata": {},
   "source": [
    "### Exercício 08\n",
    "\n",
    "Use um método de lista para remover o número -2 e -6, sendo um de cada vez, da lista de números."
   ]
  },
  {
   "cell_type": "code",
   "execution_count": null,
   "id": "3e987734-1576-4519-9984-ffab2cc95a2a",
   "metadata": {},
   "outputs": [],
   "source": [
    "numeros = [1, 2, -2, 3, 4, 5, 6, -6, 7]\n",
    "\n",
    "numeros.remove(-2)\n",
    "numeros.remove(-6)\n",
    "\n",
    "print(numeros)\n"
   ]
  },
  {
   "cell_type": "markdown",
   "id": "3cea703a-d6bc-4168-a507-eaecae0e7afd",
   "metadata": {},
   "source": [
    "---"
   ]
  },
  {
   "cell_type": "markdown",
   "id": "ed145ae7-791e-4a08-80ad-14969f08f0d5",
   "metadata": {},
   "source": [
    "### Exercício 09\n",
    "\n",
    "Use uma função para retornar quantos elementos existem na lista abaixo."
   ]
  },
  {
   "cell_type": "code",
   "execution_count": null,
   "id": "c6170314-8b83-4342-8567-529fdd32ef14",
   "metadata": {},
   "outputs": [],
   "source": [
    "numeros = [1, 2, 3, 4, 5, 6, 7]\n",
    "\n",
    "\n",
    "print(len(numeros))"
   ]
  },
  {
   "cell_type": "markdown",
   "id": "3c21421a-2eb1-418c-85cc-30576843d97a",
   "metadata": {},
   "source": [
    "---"
   ]
  },
  {
   "cell_type": "markdown",
   "id": "98ec043b-e684-456b-a689-63a4d76b4179",
   "metadata": {},
   "source": [
    "### Exercício 10\n",
    "\n",
    "Use um método de lista para inverter os itens da lista de frutas."
   ]
  },
  {
   "cell_type": "code",
   "execution_count": null,
   "id": "8a9ced68-f28a-4c89-a20f-b468a6eeaaf0",
   "metadata": {},
   "outputs": [],
   "source": [
    "frutas = ['Maçã', 'Banana', 'Jaca', 'Melão', 'Abacaxi']\n",
    "\n",
    "frutas.reverse()\n",
    "print(frutas)"
   ]
  },
  {
   "cell_type": "markdown",
   "id": "75c70108-839f-401a-ae32-b1f7eb246c70",
   "metadata": {},
   "source": [
    "---"
   ]
  },
  {
   "cell_type": "markdown",
   "id": "319ebc08-e287-488c-a59a-d9fd013d78a2",
   "metadata": {},
   "source": [
    "### Exercício 11\n",
    "\n",
    "Use um método de lista para inverter os itens da lista de números."
   ]
  },
  {
   "cell_type": "code",
   "execution_count": null,
   "id": "652b9527-b605-4e21-b32a-b749b3c650a6",
   "metadata": {},
   "outputs": [],
   "source": [
    "numeros = [90, 80, 70, 60, 50, 40, 30, 20, 10]\n",
    "\n",
    "\n",
    "numeros.reverse()\n",
    "print(numeros)"
   ]
  },
  {
   "cell_type": "markdown",
   "id": "882c0342-55e9-4c45-bd5c-afe85e5f70f5",
   "metadata": {},
   "source": [
    "---"
   ]
  },
  {
   "cell_type": "markdown",
   "id": "bad168b2-ff30-40bc-9d5c-022b267e82ed",
   "metadata": {},
   "source": [
    "### Exercício 12\n",
    "\n",
    "Use um método de lista para organizar a lista de frutas em ordem alfabética."
   ]
  },
  {
   "cell_type": "code",
   "execution_count": null,
   "id": "9f883b00-bbbf-439b-a9f8-da6372751554",
   "metadata": {},
   "outputs": [],
   "source": [
    "frutas = ['Maçã', 'Banana', 'Jaca', 'Melão', 'Abacaxi']\n",
    "\n",
    "frutas.sort()\n",
    "print(frutas)"
   ]
  },
  {
   "cell_type": "markdown",
   "id": "6b3f7a16-d42b-47bb-b500-89314b6da359",
   "metadata": {},
   "source": [
    "---"
   ]
  },
  {
   "cell_type": "markdown",
   "id": "81e99c1b-8836-4c7f-8bed-a650135b3a0c",
   "metadata": {},
   "source": [
    "### Exercício 13\n",
    "\n",
    "Faça um programa que peça ao usuário que digite um número inteiro, em seguida converta o valor digitado para o tipo **int**, por fim adicione o número convertido no final da lista."
   ]
  },
  {
   "cell_type": "code",
   "execution_count": 23,
   "id": "d718390a-7709-4402-87bd-a24561058ed8",
   "metadata": {},
   "outputs": [
    {
     "name": "stdout",
     "output_type": "stream",
     "text": [
      "[1, 2, 3, 4, 5, 5]\n"
     ]
    }
   ],
   "source": [
    "\n",
    "numero = input(\"Digite um número inteiro: \")\n",
    "numeros = [1, 2, 3, 4, 5]\n",
    "\n",
    "\n",
    "num1 = int(numero)\n",
    "\n",
    "numeros.insert(len(numeros), num1)\n",
    "\n",
    "\n",
    "print(numeros)\n",
    "\n"
   ]
  },
  {
   "cell_type": "markdown",
   "id": "fc6424d9-d293-4270-9525-4d04b1f3ab7d",
   "metadata": {},
   "source": [
    "---"
   ]
  },
  {
   "cell_type": "markdown",
   "id": "e852db46-7210-4716-bd17-8521366c8da6",
   "metadata": {},
   "source": [
    "### Exercício 14\n",
    "\n",
    "Faça um programa que peça ao usuário que digite um número de 0 a 4, em seguida converta o valor digitado para o tipo **int**, por fim utilize o número informado como índice para retornar o nome de uma fruta da lista de frutas."
   ]
  },
  {
   "cell_type": "code",
   "execution_count": null,
   "id": "2445e7d8-f95c-4630-af9e-1affcd5fe603",
   "metadata": {},
   "outputs": [],
   "source": [
    "\n",
    "frutas = [\"Maçã\", \"Banana\", \"Laranja\", \"Uva\", \"Melancia\"]\n",
    "numero = int(input(\"Digite um número de 0 a 4: \"))\n",
    "\n",
    "\n",
    "print(frutas[numero])\n",
    "\n"
   ]
  },
  {
   "cell_type": "markdown",
   "id": "4a2f2ce7-de2d-48a9-ad50-46828f5ffd7d",
   "metadata": {},
   "source": [
    "---"
   ]
  },
  {
   "cell_type": "markdown",
   "id": "8c263490-5010-4a09-aea3-78de7e5d7685",
   "metadata": {},
   "source": [
    "### Exercício 15\n",
    "\n",
    "Use uma fução para somar todos os números da lista abaixo"
   ]
  },
  {
   "cell_type": "code",
   "execution_count": 22,
   "id": "71493544-ec83-41e1-91ee-3bd8197fdb55",
   "metadata": {},
   "outputs": [
    {
     "name": "stdout",
     "output_type": "stream",
     "text": [
      "35\n"
     ]
    }
   ],
   "source": [
    "numeros = [5, 7, 8, 6, 4, 3, 2]\n",
    "\n",
    "\n",
    "print(sum(numeros))"
   ]
  },
  {
   "cell_type": "markdown",
   "id": "23cfd988-4201-438a-a044-35fb0681a861",
   "metadata": {},
   "source": [
    "---"
   ]
  },
  {
   "cell_type": "markdown",
   "id": "87a397f0-0745-4898-bf78-b12db39ae29f",
   "metadata": {},
   "source": [
    "### Exercício 16\n",
    "\n",
    "Use um método de lista para retornar o índice da letra 'd' na lista de letras"
   ]
  },
  {
   "cell_type": "code",
   "execution_count": null,
   "id": "2f7093e5-bbf1-46bd-900c-9422cf539033",
   "metadata": {},
   "outputs": [],
   "source": [
    "letras = ['a', 'b', 'c', 'd', 'e', 'f', 'g']\n",
    "\n",
    "letras.index('d')"
   ]
  },
  {
   "cell_type": "markdown",
   "id": "5fa8aa76-fbdc-400a-a61d-01d33b6e193c",
   "metadata": {},
   "source": [
    "---"
   ]
  },
  {
   "cell_type": "markdown",
   "id": "72c87cc9-c5d4-4343-8d7a-db28e09b3371",
   "metadata": {},
   "source": [
    "### Exercício 17\n",
    "\n",
    "Crie uma variável chamada **letra3** e atribua a ela a junção das listas **letra1** e **letra2**"
   ]
  },
  {
   "cell_type": "code",
   "execution_count": null,
   "id": "d36304d9-572e-4c81-a5dc-f00f73718165",
   "metadata": {},
   "outputs": [],
   "source": [
    "letra1 = ['a', 'b', 'c']\n",
    "letra2 = ['d', 'e', 'f']\n",
    "\n",
    "print(letra1 + letra2)"
   ]
  },
  {
   "cell_type": "markdown",
   "id": "ee935b8d-3fef-4dc8-9d16-4505cbd01487",
   "metadata": {},
   "source": [
    "---"
   ]
  },
  {
   "cell_type": "markdown",
   "id": "fa20b1f8-ff63-4d1d-8c53-a8e67a3d0cb9",
   "metadata": {},
   "source": [
    "### Exercício 18\n",
    "\n",
    "Crie uma variável chamada **numero4** e atribua a ela a junção das listas **numero1**, **numero2** e **numero3**"
   ]
  },
  {
   "cell_type": "code",
   "execution_count": 36,
   "id": "d66d891e-710d-487b-b204-6d85ac892b9a",
   "metadata": {},
   "outputs": [
    {
     "name": "stdout",
     "output_type": "stream",
     "text": [
      "numero4 = [1, 2, 3, 4, 5, 6, 7, 8, 9]\n"
     ]
    }
   ],
   "source": [
    "numero1 = [1, 2, 3]\n",
    "numero2 = [4, 5, 6]\n",
    "numero3 = [7, 8, 9]\n",
    "\n",
    "\n",
    "\n",
    "numero4 = numero1 + numero2 +numero3\n",
    "\n",
    "print(\"numero4 =\", numero4)"
   ]
  },
  {
   "cell_type": "markdown",
   "id": "83c47bb6-540c-4454-88ce-3a02bf6f5ce3",
   "metadata": {},
   "source": [
    "---"
   ]
  },
  {
   "cell_type": "markdown",
   "id": "2ad4536c-f0c9-4627-992d-7f47fe1710bb",
   "metadata": {
    "tags": []
   },
   "source": [
    "### Exercício 19\n",
    "\n",
    "Use uma função para retornar o maior valor da lista de números abaixo."
   ]
  },
  {
   "cell_type": "code",
   "execution_count": null,
   "id": "8aac680c-24da-4e00-9d89-0ace1fd4cacb",
   "metadata": {},
   "outputs": [],
   "source": [
    "numeros = [51, 28, 63, 12, 86, 72, 39, 50]\n",
    "\n",
    "print(max(numeros))"
   ]
  },
  {
   "cell_type": "markdown",
   "id": "44472000-c0e5-4cd8-ac11-b8cdedc1d05b",
   "metadata": {},
   "source": [
    "---"
   ]
  },
  {
   "cell_type": "markdown",
   "id": "bf390295-7c53-4085-8ffb-791a61087d40",
   "metadata": {},
   "source": [
    "### Exercício 20\n",
    "\n",
    "\n",
    "Use uma função para retornar o menor valor da lista de números abaixo."
   ]
  },
  {
   "cell_type": "code",
   "execution_count": null,
   "id": "cc4af2f5-dd10-4063-9e0e-ef169b747942",
   "metadata": {},
   "outputs": [],
   "source": [
    "numeros = [51, 28, 63, 12, 86, 72, 39, 50]\n",
    "\n",
    "print(min(numeros))"
   ]
  },
  {
   "cell_type": "markdown",
   "id": "ff9f2240-0537-4752-9309-8e8adb62de93",
   "metadata": {},
   "source": [
    "---"
   ]
  }
 ],
 "metadata": {
  "kernelspec": {
   "display_name": "Python 3",
   "language": "python",
   "name": "python3"
  },
  "language_info": {
   "codemirror_mode": {
    "name": "ipython",
    "version": 3
   },
   "file_extension": ".py",
   "mimetype": "text/x-python",
   "name": "python",
   "nbconvert_exporter": "python",
   "pygments_lexer": "ipython3",
   "version": "3.12.0"
  }
 },
 "nbformat": 4,
 "nbformat_minor": 5
}
