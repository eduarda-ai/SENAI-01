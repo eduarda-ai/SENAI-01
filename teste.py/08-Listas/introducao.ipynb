{
 "cells": [
  {
   "cell_type": "code",
   "execution_count": 9,
   "metadata": {},
   "outputs": [
    {
     "name": "stdout",
     "output_type": "stream",
     "text": [
      "<class 'int'>\n",
      "<class 'list'>\n",
      "[2, 'python', False, 5.99]\n"
     ]
    }
   ],
   "source": [
    "n = 5\n",
    "print(type(n))\n",
    "\n",
    "lista = [2, \"python\", False, 5.99]\n",
    "print(type(lista))\n",
    "print(lista)"
   ]
  },
  {
   "cell_type": "code",
   "execution_count": null,
   "metadata": {},
   "outputs": [],
   "source": []
  },
  {
   "cell_type": "code",
   "execution_count": 1,
   "metadata": {},
   "outputs": [
    {
     "name": "stdout",
     "output_type": "stream",
     "text": [
      "['Limão', 'Laranja', 'Abacate', 'Uva', 'Maça']\n",
      "Limão\n",
      "Laranja\n",
      "Abacate\n",
      "Uva\n",
      "Maça\n"
     ]
    }
   ],
   "source": [
    "#lista possui indices, os indices sempre iniciam do valor 0\n",
    "\n",
    "frutas =[\"Limão\" , \"Laranja\", \"Abacate\", \"Uva\", \"Maça\"]\n",
    "\n",
    "print(frutas)\n",
    "print(frutas[0])\n",
    "print(frutas[1])\n",
    "print(frutas[2])\n",
    "print(frutas[3])\n",
    "print(frutas[4])\n"
   ]
  },
  {
   "cell_type": "code",
   "execution_count": 2,
   "metadata": {},
   "outputs": [
    {
     "name": "stdout",
     "output_type": "stream",
     "text": [
      "[]\n",
      "['A', 2, False]\n",
      "['A', 2, False]\n"
     ]
    }
   ],
   "source": [
    "lista1 = []\n",
    "lista2 = [\"A\" , 2, False]\n",
    "lista3 = list((\"A\", 2, False))\n",
    "\n",
    "print(lista1)\n",
    "print(lista2)\n",
    "print(lista3)\n"
   ]
  },
  {
   "cell_type": "code",
   "execution_count": 3,
   "metadata": {},
   "outputs": [
    {
     "name": "stdout",
     "output_type": "stream",
     "text": [
      "pedro\n",
      "tiago\n"
     ]
    }
   ],
   "source": [
    "nomes = [\"julia\", \"pedro\", \"tiago\"]\n",
    "\n",
    "print(nomes [1])\n",
    "print(nomes[1+1])"
   ]
  },
  {
   "cell_type": "code",
   "execution_count": null,
   "metadata": {},
   "outputs": [
    {
     "name": "stdout",
     "output_type": "stream",
     "text": [
      "Laranja\n"
     ]
    }
   ],
   "source": [
    "i=int(input(\"digite um numero inteiro\"))\n",
    "\n",
    "frutas =[\"Limão\" , \"Laranja\", \"Abacate\", \"Uva\", \"Maça\"]\n",
    "\n",
    "print(frutas [i])"
   ]
  },
  {
   "cell_type": "code",
   "execution_count": 10,
   "metadata": {},
   "outputs": [
    {
     "name": "stdout",
     "output_type": "stream",
     "text": [
      "['Limão', 'Laranja', 'Abacate', 'uva']\n"
     ]
    }
   ],
   "source": [
    "frutas =[\"Limão\" , \"Laranja\", \"Abacate\"]\n",
    "\n",
    "\n",
    "frutas.append(\"uva\")\n",
    "\n",
    "print(frutas)\n"
   ]
  },
  {
   "cell_type": "code",
   "execution_count": null,
   "metadata": {},
   "outputs": [],
   "source": [
    "\n",
    "frutas =[\"Limão\" , \"Laranja\", \"Abacate\"]"
   ]
  },
  {
   "cell_type": "code",
   "execution_count": null,
   "metadata": {},
   "outputs": [
    {
     "data": {
      "text/plain": [
       "<function print(*args, sep=' ', end='\\n', file=None, flush=False)>"
      ]
     },
     "execution_count": 20,
     "metadata": {},
     "output_type": "execute_result"
    }
   ],
   "source": [
    "#insert () insere um novo valor na lista na posição informada\n",
    "\n",
    "nomes = [\"thiago\", \"jefs\" , ]\n",
    "\n",
    "\n",
    "nomes.insert\n",
    "\n",
    "\n",
    "print"
   ]
  },
  {
   "cell_type": "code",
   "execution_count": null,
   "metadata": {},
   "outputs": [
    {
     "name": "stdout",
     "output_type": "stream",
     "text": [
      "['fefe', 'jean', 'fer']\n"
     ]
    }
   ],
   "source": [
    "#remove o item escrito\n",
    "\n",
    "nomes = [\"Alex\", \"fefe\", \"jean\", \"fer\",]\n",
    "\n",
    "nomes.remove(\"Alex\")\n",
    "\n",
    "print(nomes)"
   ]
  },
  {
   "cell_type": "code",
   "execution_count": null,
   "metadata": {},
   "outputs": [
    {
     "name": "stdout",
     "output_type": "stream",
     "text": [
      "['Limão', 'Laranja', 'Uva', 'Maça']\n"
     ]
    }
   ],
   "source": [
    "#pop remove da lista pelo numero da caracterista\n",
    "\n",
    "frutas =[\"Limão\" , \"Laranja\", \"Abacate\", \"Uva\", \"Maça\"]\n",
    "\n",
    "\n",
    "frutas.pop(2)\n",
    "\n",
    "print(frutas)\n"
   ]
  },
  {
   "cell_type": "code",
   "execution_count": 10,
   "metadata": {},
   "outputs": [
    {
     "name": "stdout",
     "output_type": "stream",
     "text": [
      "['Limão', 'Laranja', 'Kiwi', 'Uva', 'Maça']\n"
     ]
    }
   ],
   "source": [
    "#lista [0] = valor. substitui o valor do item informado \n",
    "\n",
    "\n",
    "frutas =[\"Limão\" , \"Laranja\", \"Abacate\", \"Uva\", \"Maça\"]\n",
    "\n",
    "\n",
    "frutas[2] = \"Kiwi\"\n",
    "\n",
    "print(frutas)\n"
   ]
  },
  {
   "cell_type": "code",
   "execution_count": 13,
   "metadata": {},
   "outputs": [
    {
     "name": "stdout",
     "output_type": "stream",
     "text": [
      "1\n"
     ]
    }
   ],
   "source": [
    "#index()\n",
    "\n",
    "frutas =[\"Limão\" , \"Laranja\", \"Abacate\", \"Uva\", \"Maça\"]\n",
    "\n",
    "print(frutas.index(\"Laranja\"))"
   ]
  },
  {
   "cell_type": "code",
   "execution_count": 15,
   "metadata": {},
   "outputs": [
    {
     "name": "stdout",
     "output_type": "stream",
     "text": [
      "5\n"
     ]
    }
   ],
   "source": [
    "frutas =[\"Limão\" , \"Laranja\", \"Abacate\", \"Uva\", \"Maça\"]\n",
    "\n",
    "\n",
    "print(len(frutas))"
   ]
  },
  {
   "cell_type": "code",
   "execution_count": 16,
   "metadata": {},
   "outputs": [
    {
     "name": "stdout",
     "output_type": "stream",
     "text": [
      "7\n"
     ]
    }
   ],
   "source": [
    "#max\n",
    "\n",
    "numeros = [2,5,7,4,3,1,]\n",
    "\n",
    "print(max(numeros))"
   ]
  },
  {
   "cell_type": "code",
   "execution_count": null,
   "metadata": {},
   "outputs": [],
   "source": []
  }
 ],
 "metadata": {
  "kernelspec": {
   "display_name": "Python 3",
   "language": "python",
   "name": "python3"
  },
  "language_info": {
   "codemirror_mode": {
    "name": "ipython",
    "version": 3
   },
   "file_extension": ".py",
   "mimetype": "text/x-python",
   "name": "python",
   "nbconvert_exporter": "python",
   "pygments_lexer": "ipython3",
   "version": "3.12.0"
  }
 },
 "nbformat": 4,
 "nbformat_minor": 2
}
