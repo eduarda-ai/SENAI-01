{
 "cells": [
  {
   "cell_type": "code",
   "execution_count": 1,
   "metadata": {},
   "outputs": [
    {
     "name": "stdout",
     "output_type": "stream",
     "text": [
      "15\n",
      "15\n"
     ]
    }
   ],
   "source": [
    "# soma +\n",
    "\n",
    "print(8+7)\n",
    "\n",
    "x = 5\n",
    "print(10 + x)\n"
   ]
  },
  {
   "cell_type": "code",
   "execution_count": null,
   "metadata": {},
   "outputs": [],
   "source": [
    "#subtração\n",
    "\n",
    "print( 8 - 3)\n",
    "\n",
    "y = 4\n",
    "print(4 + y)\n"
   ]
  },
  {
   "cell_type": "code",
   "execution_count": null,
   "metadata": {},
   "outputs": [],
   "source": [
    "#mutiplicação\n",
    "\n",
    "print(3 * 5)\n",
    "\n",
    "x = 4\n",
    "print(4 * x)\n"
   ]
  },
  {
   "cell_type": "code",
   "execution_count": 2,
   "metadata": {},
   "outputs": [
    {
     "name": "stdout",
     "output_type": "stream",
     "text": [
      "2.5\n",
      "2.0\n"
     ]
    }
   ],
   "source": [
    "#divisão, sempre retorna em ponto flutuante \n",
    "\n",
    "print(5 / 2)\n",
    "print(4 / 2)\n"
   ]
  },
  {
   "cell_type": "code",
   "execution_count": 4,
   "metadata": {},
   "outputs": [
    {
     "name": "stdout",
     "output_type": "stream",
     "text": [
      "2.5\n",
      "2\n",
      "3.966666666666667\n",
      "3.0\n"
     ]
    }
   ],
   "source": [
    "#divisao inteira //\n",
    "\n",
    "print(5 / 2)\n",
    "print(5 // 2)\n",
    "\n",
    "\n",
    "#divisão interia com float retorna um numero float\n",
    "\n",
    "print(11.9 / 3)\n",
    "print(11.9 // 3)\n",
    "\n",
    "\n",
    "# dizima\n",
    "print(10/3)"
   ]
  },
  {
   "cell_type": "code",
   "execution_count": 5,
   "metadata": {},
   "outputs": [
    {
     "name": "stdout",
     "output_type": "stream",
     "text": [
      "1.0\n",
      "0\n"
     ]
    }
   ],
   "source": [
    "# modulo %\n",
    "\n",
    "print(2 / 2)\n",
    "print(2 % 2)\n"
   ]
  },
  {
   "cell_type": "code",
   "execution_count": 11,
   "metadata": {},
   "outputs": [
    {
     "name": "stdout",
     "output_type": "stream",
     "text": [
      "1\n",
      "2\n"
     ]
    }
   ],
   "source": [
    "# par impar\n",
    "\n",
    "print(1 % 2) #impar\n",
    "print(2 % 4) #par"
   ]
  },
  {
   "cell_type": "code",
   "execution_count": 15,
   "metadata": {},
   "outputs": [
    {
     "name": "stdout",
     "output_type": "stream",
     "text": [
      "0\n",
      "1\n"
     ]
    }
   ],
   "source": [
    "# modulo - utiliza para sabermos se um numero é divisivel por outro\n",
    "\n",
    "print(9 % 3) #9 é divisivel por 3\n",
    "print(10 % 3) #10 não é divisivel por 3\n",
    "\n",
    "\n",
    "\n",
    "\n",
    "\n",
    "\n"
   ]
  },
  {
   "cell_type": "code",
   "execution_count": 14,
   "metadata": {},
   "outputs": [
    {
     "name": "stdout",
     "output_type": "stream",
     "text": [
      "8\n",
      "42\n",
      "7.0\n",
      "12\n",
      "5.0\n"
     ]
    }
   ],
   "source": [
    "# ordem e precedencia\n",
    "# parenteses\n",
    "#expoentes **\n",
    "# multiplicaçao e divisao\n",
    "# somas e subtrações\n",
    "\n",
    "\n",
    "print( 2 ** 3) #2³\n",
    "\n",
    "print( 2 + 10 * 4)\n",
    "print( 8 - 4 / 4)\n",
    "print(3 * 2 ** 2)\n",
    "print( 4 + 4 / (2+2))\n"
   ]
  }
 ],
 "metadata": {
  "kernelspec": {
   "display_name": "Python 3",
   "language": "python",
   "name": "python3"
  },
  "language_info": {
   "codemirror_mode": {
    "name": "ipython",
    "version": 3
   },
   "file_extension": ".py",
   "mimetype": "text/x-python",
   "name": "python",
   "nbconvert_exporter": "python",
   "pygments_lexer": "ipython3",
   "version": "3.12.0"
  }
 },
 "nbformat": 4,
 "nbformat_minor": 2
}
