{
 "cells": [
  {
   "cell_type": "code",
   "execution_count": null,
   "metadata": {},
   "outputs": [],
   "source": [
    "\n",
    "# operadores de comparação \n",
    "\n",
    "# > maior\n",
    "# <= menor ou igual\n",
    "# == igual\n",
    "# != diferente\n",
    "\n",
    "# if se else senão "
   ]
  },
  {
   "cell_type": "code",
   "execution_count": null,
   "metadata": {},
   "outputs": [],
   "source": [
    "print( 5 > 3) #True \n",
    "\n",
    "print(5 > 5) #False\n",
    "\n",
    "print (5 >= 3) #True\n",
    "\n",
    "print (5 >= 5) #True\n",
    "\n",
    "print (5 <= 3) #False\n",
    "\n",
    "print (6 < 3) #False\n",
    "\n",
    "print (6 < 6) #False\n",
    "\n",
    "print (6 <= 3) #False\n",
    "\n",
    "print (6 <= 6) #true\n",
    "\n",
    "print (4 == 3) #False\n",
    "\n",
    "print (4 == 4) #True\n",
    "\n",
    "print( 4 == 2*2) #True, primeiro ele mutiplica e depois o operador de comparação\n",
    "\n",
    "print( 4 != 3) # true\n",
    "\n",
    "print( 4 != 4) # false\n",
    "\n"
   ]
  },
  {
   "cell_type": "code",
   "execution_count": 1,
   "metadata": {},
   "outputs": [
    {
     "name": "stdout",
     "output_type": "stream",
     "text": [
      "continuar\n",
      "parcelar em até 12x\n"
     ]
    }
   ],
   "source": [
    "resposta = input(\"vc tem interesso no produto? \")\n",
    "\n",
    "if resposta == \"sim\":\n",
    "    print(\"continuar\")\n",
    "\n",
    "    cartao = input(\"vc tem o cartão da loja?\")\n",
    "    if cartao == \"sim\":\n",
    "        print(\"parcelar em até 12x\")\n",
    "    else:\n",
    "        print(\"parcelar em até 2x\")\n",
    "else:\n",
    "    print(\"fim do atendimento\")"
   ]
  },
  {
   "cell_type": "code",
   "execution_count": 1,
   "metadata": {},
   "outputs": [
    {
     "name": "stdout",
     "output_type": "stream",
     "text": [
      "invalido\n"
     ]
    }
   ],
   "source": [
    "#match e switch\n",
    "\n",
    "dia =8\n",
    "\n",
    "match dia :\n",
    "    case 1:\n",
    "        print(\"domingo\")\n",
    "    case 2:\n",
    "        print(\"segunda\")\n",
    "    case 3:\n",
    "        print(\"terca\")\n",
    "    case 4:\n",
    "        print(\"quarta\")\n",
    "    case 5:\n",
    "        print(\"quinta\")\n",
    "    case 6:\n",
    "        print(\"sexta\")\n",
    "    case 7:\n",
    "        print(\"sabado\")\n",
    "    case _:\n",
    "        print(\"invalido\")\n",
    "\n"
   ]
  }
 ],
 "metadata": {
  "kernelspec": {
   "display_name": "Python 3",
   "language": "python",
   "name": "python3"
  },
  "language_info": {
   "codemirror_mode": {
    "name": "ipython",
    "version": 3
   },
   "file_extension": ".py",
   "mimetype": "text/x-python",
   "name": "python",
   "nbconvert_exporter": "python",
   "pygments_lexer": "ipython3",
   "version": "3.12.0"
  }
 },
 "nbformat": 4,
 "nbformat_minor": 2
}
