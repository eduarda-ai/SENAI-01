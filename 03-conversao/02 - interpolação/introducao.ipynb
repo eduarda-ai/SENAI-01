{
 "cells": [
  {
   "cell_type": "code",
   "execution_count": null,
   "metadata": {},
   "outputs": [],
   "source": [
    "\n",
    " # O f significa uma abreviação para format \n",
    " a = 3\n",
    " b = 7\n",
    " print(f\"o valor da variavel a é {a} e o valor da variavel b é {b}\")\n",
    " print(\"o valor da variavel a é {a} e o valor da variavel b é {b}\")\n",
    " "
   ]
  },
  {
   "cell_type": "code",
   "execution_count": null,
   "metadata": {},
   "outputs": [],
   "source": [
    "a = 5\n",
    "b = 3\n",
    "\n",
    "print(f\"{a} + {b} = {a + b}\")"
   ]
  },
  {
   "cell_type": "code",
   "execution_count": null,
   "metadata": {},
   "outputs": [],
   "source": [
    "idade = input(\"digite a sua idade:\")\n",
    "\n",
    "print(f\"vc tem {idade} anos de idade\")"
   ]
  },
  {
   "cell_type": "code",
   "execution_count": null,
   "metadata": {},
   "outputs": [],
   "source": [
    "dia = 23\n",
    "mes = 1\n",
    "ano = 2025\n",
    "\n",
    "print(f\"{dia}/{mes}/{ano}\")\n",
    "print(f\"{mes}/{dia}/{ano}\") #eua"
   ]
  },
  {
   "cell_type": "code",
   "execution_count": null,
   "metadata": {},
   "outputs": [],
   "source": [
    "#decimal separado por ponto e não virgula\n",
    "num1 = 1.5\n",
    "num2 = 2.99\n",
    "num3 = 10.456\n"
   ]
  },
  {
   "cell_type": "code",
   "execution_count": null,
   "metadata": {},
   "outputs": [],
   "source": [
    "#round() arredondamento \n",
    "\n",
    "div = 10 / 3\n",
    "print(div)\n",
    "print(round (div))\n",
    "print(round (div, 2)) #acresentar o numero de casas que deseja \n",
    "print(f\"{div:.0f}\") #numero de casas e o 0 f (float) :.0f é um codigo\n"
   ]
  },
  {
   "cell_type": "code",
   "execution_count": null,
   "metadata": {},
   "outputs": [],
   "source": [
    "#interpolação com função\n",
    "\n",
    "preco = 120.45678\n",
    "\n",
    "print(f\"total a pagar : {preco}\")\n",
    "print(f\"total a pagar : {round(preco, 2 )}\")\n",
    "print(f\"total a pagar : {preco:.1f}\")"
   ]
  },
  {
   "cell_type": "code",
   "execution_count": null,
   "metadata": {},
   "outputs": [],
   "source": [
    "#separador de milhar\n",
    "\n",
    "valor = 1_000_000\n",
    "\n",
    "print(f\"{valor:.2f}\")\n",
    "print(f\"{valor:,.2f}\") # virgula vai separar os 00"
   ]
  },
  {
   "cell_type": "code",
   "execution_count": null,
   "metadata": {},
   "outputs": [],
   "source": [
    "# quebra de linha \n",
    "\n",
    "print(\"nome: eduarda escola: senai\")\n",
    "print(\"nome: eduarda \\nescola: senai\")\n",
    "print(\"\"\"nome: eduarda\n",
    "escola: senai \"\"\")\n",
    "\n",
    "\n",
    "\n"
   ]
  },
  {
   "cell_type": "code",
   "execution_count": null,
   "metadata": {},
   "outputs": [],
   "source": [
    "#f-string - disponivel na versao python desde 3.6\n",
    "# format  python 2.0\n",
    "\n",
    "curso = \"ads\"\n",
    "\n",
    "print(f\"curso: {curso}\") #f-string\n",
    "print(\"curso: {}\" .format(curso)) #format\n",
    "\n"
   ]
  },
  {
   "cell_type": "code",
   "execution_count": null,
   "metadata": {},
   "outputs": [],
   "source": [
    "nome = \"eduarda\"\n",
    "profissao = \"instrutor\"\n",
    "\n",
    "\n",
    "print(\"meu nome {} minha profissao é {}\" .format(nome, profissao)) "
   ]
  }
 ],
 "metadata": {
  "kernelspec": {
   "display_name": "Python 3",
   "language": "python",
   "name": "python3"
  },
  "language_info": {
   "codemirror_mode": {
    "name": "ipython",
    "version": 3
   },
   "file_extension": ".py",
   "mimetype": "text/x-python",
   "name": "python",
   "nbconvert_exporter": "python",
   "pygments_lexer": "ipython3",
   "version": "3.12.0"
  }
 },
 "nbformat": 4,
 "nbformat_minor": 2
}
