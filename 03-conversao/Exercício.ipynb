{
 "cells": [
  {
   "cell_type": "markdown",
   "id": "d67c435f-2b13-4ecd-bd6e-56b227f08a63",
   "metadata": {},
   "source": [
    "# <font color='OrangeRed'><center>Exercícios - Conversão de Valores</center></font>"
   ]
  },
  {
   "cell_type": "markdown",
   "id": "1464267e-3be3-4394-b3ae-eaace89fb3b9",
   "metadata": {},
   "source": [
    "### Exercício 01\n",
    "\n",
    "Use uma função para converter o **texto** abaixo para o tipo **Inteiro**"
   ]
  },
  {
   "cell_type": "code",
   "execution_count": 45,
   "id": "506233f3-aaf0-40f9-b0e8-1df0fd5b01d4",
   "metadata": {
    "tags": []
   },
   "outputs": [
    {
     "name": "stdout",
     "output_type": "stream",
     "text": [
      "<class 'int'>\n"
     ]
    }
   ],
   "source": [
    "numero = '5'\n",
    "print(type(5))\n"
   ]
  },
  {
   "cell_type": "markdown",
   "id": "725c1952-d55b-4d9f-8352-b13828b3d35b",
   "metadata": {},
   "source": [
    "---"
   ]
  },
  {
   "cell_type": "markdown",
   "id": "f0155ef9-98ce-4b30-9edc-630f0ffc4e60",
   "metadata": {},
   "source": [
    "### Exercício 02\n",
    "\n",
    "Use uma função para converter o **texto** abaixo para o tipo **ponto flutuante**"
   ]
  },
  {
   "cell_type": "code",
   "execution_count": 43,
   "id": "fe4272d8-1349-4062-9af8-f881f0661320",
   "metadata": {},
   "outputs": [
    {
     "name": "stdout",
     "output_type": "stream",
     "text": [
      "<class 'float'>\n"
     ]
    }
   ],
   "source": [
    "numero = '10.99'\n",
    "\n",
    "print(type(10.99))"
   ]
  },
  {
   "cell_type": "markdown",
   "id": "acd8dc78-c243-4419-b4d5-0523e018a4c2",
   "metadata": {},
   "source": [
    "---"
   ]
  },
  {
   "cell_type": "markdown",
   "id": "27427c0f-bd08-4699-b8bd-52d956cb5b63",
   "metadata": {},
   "source": [
    "### Exercício 03\n",
    "\n",
    "Crie o algoritmo abaixo:\n",
    "1. Peça para o usuário digitar um **número inteiro**\n",
    "1. Converta o valor digitado para o tipo **int**\n",
    "1. Imprima o valor informado"
   ]
  },
  {
   "cell_type": "code",
   "execution_count": 49,
   "id": "75794c36-72b9-4022-964e-d1c1ea195623",
   "metadata": {},
   "outputs": [
    {
     "name": "stdout",
     "output_type": "stream",
     "text": [
      "O número digitado foi: 10\n",
      "<class 'int'>\n"
     ]
    }
   ],
   "source": [
    "\n",
    "num = input(\"Digite um número inteiro: \")\n",
    "num = int(num)\n",
    "\n",
    "print(f'O número digitado foi: {num}')\n",
    "print(type(num))\n",
    "\n",
    "\n"
   ]
  },
  {
   "cell_type": "markdown",
   "id": "9c32dc55-dc34-45a4-aa11-f96ce631f7c2",
   "metadata": {},
   "source": [
    "---"
   ]
  },
  {
   "cell_type": "markdown",
   "id": "5ce07756-82ff-4e2f-8c19-eb10a36d7ec9",
   "metadata": {},
   "source": [
    "### Exercício 04\n",
    "\n",
    "Faça a conversão do **número inteiro** abaixo para o tipo Texto (**String**)"
   ]
  },
  {
   "cell_type": "code",
   "execution_count": 47,
   "id": "7b3bc7e8-28de-432e-86c2-0a5f8609d350",
   "metadata": {},
   "outputs": [
    {
     "name": "stdout",
     "output_type": "stream",
     "text": [
      "Maria tem 10 anos de idade.\n",
      "<class 'str'>\n"
     ]
    }
   ],
   "source": [
    "idade = str(10)\n",
    "\n",
    "print('Maria tem ' + idade + ' anos de idade.')\n",
    "\n",
    "print(type(idade))"
   ]
  },
  {
   "cell_type": "markdown",
   "id": "691bb867-dd06-4b0d-98ef-d0fde1e603db",
   "metadata": {},
   "source": [
    "---"
   ]
  },
  {
   "cell_type": "markdown",
   "id": "2578a1a6-76a2-4c6b-82cd-2a7ce4d8233d",
   "metadata": {},
   "source": [
    "### Exercício 05\n",
    "\n",
    "Faça a conversão dos dois textos abaixo para o tipo **número inteiro**, em seguida faça uma operação de soma e imprima o resultado"
   ]
  },
  {
   "cell_type": "code",
   "execution_count": 61,
   "id": "37a97c8c-bd6f-4ec7-bc20-9dcb46bb9df2",
   "metadata": {},
   "outputs": [
    {
     "name": "stdout",
     "output_type": "stream",
     "text": [
      "a soma de x + y é 25\n",
      "<class 'int'>\n"
     ]
    }
   ],
   "source": [
    "x = '12'\n",
    "x = int(x)\n",
    "y = '13'\n",
    "y = int(y)\n",
    "\n",
    "print(f\"a soma de x + y é {x + y}\")\n",
    "print(type(x + y))\n"
   ]
  },
  {
   "cell_type": "markdown",
   "id": "48a83776-8e7c-4f15-a464-b1ca2ab32742",
   "metadata": {},
   "source": [
    "---"
   ]
  },
  {
   "cell_type": "markdown",
   "id": "f7e42143-cb2e-4842-9388-ab87e7c72e96",
   "metadata": {},
   "source": [
    "### Exercício 06\n",
    "\n",
    "Faça a conversão dos dois textos abaixo para o tipo **número de ponto flutuante**, em seguida faça uma operação de soma e imprima o resultado"
   ]
  },
  {
   "cell_type": "code",
   "execution_count": 51,
   "id": "8f1411b1-6482-4b1b-a929-0ba374e3708b",
   "metadata": {},
   "outputs": [
    {
     "name": "stdout",
     "output_type": "stream",
     "text": [
      "A soma de x + y é: 5.99\n",
      "<class 'float'>\n"
     ]
    }
   ],
   "source": [
    "x = '2.44'\n",
    "x = float(x)\n",
    "y = '3.55'\n",
    "y = float(y)\n",
    "\n",
    "print(f'A soma de x + y é: {x + y}')\n",
    "print(type(x + y))"
   ]
  },
  {
   "cell_type": "markdown",
   "id": "4f7e6780-ca1f-4a78-895d-428c3e0858e5",
   "metadata": {},
   "source": [
    "---"
   ]
  },
  {
   "cell_type": "markdown",
   "id": "044990d9-fd47-4ec8-907f-c12840153132",
   "metadata": {},
   "source": [
    "### Exercício 07\n",
    "\n",
    "Faça a conversão dos três textos abaixo para o tipo **número inteiro**, em seguida faça uma operação de soma e imprima o resultado"
   ]
  },
  {
   "cell_type": "code",
   "execution_count": 1,
   "id": "4a5c8c40-8e8e-4dcf-b095-e6d1c1f1168d",
   "metadata": {},
   "outputs": [
    {
     "name": "stdout",
     "output_type": "stream",
     "text": [
      "A soma de x + y + z é: 10\n",
      "<class 'int'>\n"
     ]
    }
   ],
   "source": [
    "x = '2'\n",
    "x = int(x)\n",
    "y = '3'\n",
    "y = int(y)\n",
    "z = '5'\n",
    "z = int(z)\n",
    "\n",
    "print(f'A soma de x + y + z é: {x + y + z}')\n",
    "print(type(x + y + z))"
   ]
  },
  {
   "cell_type": "markdown",
   "id": "257efe0b-5852-4c4e-85de-20fa029adb67",
   "metadata": {},
   "source": [
    "---"
   ]
  },
  {
   "cell_type": "markdown",
   "id": "b68a7626-2266-43f5-8726-78b1eec4f9cc",
   "metadata": {},
   "source": [
    "### Exercício 08\n",
    "\n",
    "Crie o algoritmo abaixo:\n",
    "1. Peça para o usuário digitar um **número de ponto flutuante**\n",
    "1. Converta o valor digitado para o tipo **float**\n",
    "1. Imprima o valor informado"
   ]
  },
  {
   "cell_type": "code",
   "execution_count": 35,
   "id": "2c91b176-26b0-45a8-b447-16cf5eb80fea",
   "metadata": {},
   "outputs": [
    {
     "name": "stdout",
     "output_type": "stream",
     "text": [
      "2.5\n",
      "<class 'float'>\n"
     ]
    }
   ],
   "source": [
    "num = float(input(\"digite um numero de ponto flutuante:\"))\n",
    "print(num)\n",
    "print(type (num))\n",
    "\n",
    "\n",
    "\n"
   ]
  },
  {
   "cell_type": "markdown",
   "id": "1366f717-87e5-4fcc-8a7a-3b1a8d3c5016",
   "metadata": {},
   "source": [
    "---"
   ]
  },
  {
   "cell_type": "markdown",
   "id": "12f38583-4257-4b49-83d8-4eb3ad36426c",
   "metadata": {},
   "source": [
    "### Exercício 09\n",
    "\n",
    "Faça a conversão dos dois textos abaixo para o tipo **número inteiro**, em seguida faça uma operação de subtração e imprima o resultado"
   ]
  },
  {
   "cell_type": "code",
   "execution_count": 53,
   "id": "5b4c43da-9dc8-4aa9-a801-4591c8e49c2f",
   "metadata": {},
   "outputs": [
    {
     "name": "stdout",
     "output_type": "stream",
     "text": [
      "A subtração de x - y é: 75 \n",
      "<class 'int'>\n"
     ]
    }
   ],
   "source": [
    "x = '100'\n",
    "x = int(x)\n",
    "y = '25'\n",
    "y = int(y)\n",
    "\n",
    "print(f'A subtração de x - y é: {x - y} ')\n",
    "print(type(x + y))"
   ]
  },
  {
   "cell_type": "markdown",
   "id": "4d4a8c7b-3336-4288-bf79-4c30ee66a801",
   "metadata": {},
   "source": [
    "---"
   ]
  },
  {
   "cell_type": "markdown",
   "id": "8e7d2af6-07b6-4846-8a3c-b55179970cc0",
   "metadata": {},
   "source": [
    "### Exercício 10\n",
    "\n",
    "Faça a conversão dos dois textos abaixo para o tipo **número de ponto flutuante**, em seguida faça uma operação de subtração e imprima o resultado"
   ]
  },
  {
   "cell_type": "code",
   "execution_count": 54,
   "id": "afaa3d64-e388-4425-ac56-f921cfdb11e0",
   "metadata": {},
   "outputs": [
    {
     "name": "stdout",
     "output_type": "stream",
     "text": [
      "A subtração x - y é:4.09 \n",
      "<class 'float'>\n"
     ]
    }
   ],
   "source": [
    "x = '7.00'\n",
    "x = float(x)\n",
    "y = '2.91'\n",
    "y = float(y)\n",
    "\n",
    "\n",
    "print(f'A subtração x - y é:{x - y} ')\n",
    "print(type(x + y))"
   ]
  },
  {
   "cell_type": "markdown",
   "id": "87a40a3a-0a71-4ffa-ad98-53f373547eb2",
   "metadata": {},
   "source": [
    "---"
   ]
  },
  {
   "cell_type": "markdown",
   "id": "f43219af-bd2e-4589-9e99-4154c575546d",
   "metadata": {},
   "source": [
    "### Exercício 11\n",
    "\n",
    "Faça a conversão dos três textos abaixo para o tipo **número inteiro**, em seguida faça uma operação de subtração e imprima o resultado"
   ]
  },
  {
   "cell_type": "code",
   "execution_count": 55,
   "id": "f9c5555c-64e1-4c15-8983-801b3a45d88e",
   "metadata": {},
   "outputs": [
    {
     "name": "stdout",
     "output_type": "stream",
     "text": [
      "A subtração de x - y - z é: 0\n",
      "<class 'int'>\n"
     ]
    }
   ],
   "source": [
    "x = '30'\n",
    "x = int(x)  \n",
    "y = '20'\n",
    "y = int(y)  \n",
    "z = '10'\n",
    "z = int(z)  \n",
    "\n",
    "print(f'A subtração de x - y - z é: {x - y - z}')\n",
    "print(type(x + y))\n"
   ]
  },
  {
   "cell_type": "markdown",
   "id": "7ad91605-3d35-4e14-abdd-61059862eaaa",
   "metadata": {},
   "source": [
    "---"
   ]
  },
  {
   "cell_type": "markdown",
   "id": "f10f1e29-e50a-4890-9e71-adc7671992cb",
   "metadata": {},
   "source": [
    "### Exercício 12\n",
    "\n",
    "Faça a conversão do **número de ponto flutuante** abaixo para o tipo Texto (**String**)"
   ]
  },
  {
   "cell_type": "code",
   "execution_count": 48,
   "id": "e1c1d6bf-5873-43a4-90d0-415448ba30bc",
   "metadata": {},
   "outputs": [
    {
     "name": "stdout",
     "output_type": "stream",
     "text": [
      "Sua comanda ficou em 125.99\n",
      "<class 'str'>\n"
     ]
    }
   ],
   "source": [
    "preco = 125.99\n",
    "preco = str(preco) \n",
    "\n",
    "print('Sua comanda ficou em ' + preco)\n",
    "print(type(preco))\n"
   ]
  },
  {
   "cell_type": "markdown",
   "id": "dbf66faf-5585-452a-afef-ad9f5aa725bf",
   "metadata": {},
   "source": [
    "---"
   ]
  },
  {
   "cell_type": "markdown",
   "id": "259157c5-29a6-40d9-ab16-e2171420fbf4",
   "metadata": {},
   "source": [
    "### Exercício 13\n",
    "\n",
    "Crie o algoritmo abaixo:\n",
    "1. Peça para o usuário digitar um **número de ponto flutuante**\n",
    "1. Peça para o usuário digitar um outro número, mas agora do tipo **inteiro**\n",
    "1. Converta o 1º número digitado para o tipo **float** e o 2º número digitado para o tipo **int**\n",
    "1. Imprima a soma dos dois números informados"
   ]
  },
  {
   "cell_type": "code",
   "execution_count": 58,
   "id": "1ee237f1-0f80-45a0-8797-ab645217cf76",
   "metadata": {},
   "outputs": [
    {
     "name": "stdout",
     "output_type": "stream",
     "text": [
      "<class 'float'>\n",
      "<class 'int'>\n",
      "A soma dos dois números é: 12.55\n"
     ]
    }
   ],
   "source": [
    "\n",
    "numero_float = input(\"Digite um número de ponto flutuante: \")\n",
    "numero_int = input(\"Digite um número inteiro: \")\n",
    "\n",
    "\n",
    "numero_float = float(numero_float)\n",
    "numero_int = int(numero_int)\n",
    "print(type(numero_float))\n",
    "print(type(numero_int))\n",
    "\n",
    "print(f'A soma dos dois números é: {numero_float + numero_int}')\n",
    "\n",
    "\n"
   ]
  }
 ],
 "metadata": {
  "kernelspec": {
   "display_name": "Python 3",
   "language": "python",
   "name": "python3"
  },
  "language_info": {
   "codemirror_mode": {
    "name": "ipython",
    "version": 3
   },
   "file_extension": ".py",
   "mimetype": "text/x-python",
   "name": "python",
   "nbconvert_exporter": "python",
   "pygments_lexer": "ipython3",
   "version": "3.12.0"
  }
 },
 "nbformat": 4,
 "nbformat_minor": 5
}
